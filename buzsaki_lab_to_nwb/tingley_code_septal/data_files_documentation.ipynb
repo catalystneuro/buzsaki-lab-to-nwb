{
 "cells": [
  {
   "cell_type": "markdown",
   "id": "5f304f4e-6fc3-4168-b759-2261726e7ec8",
   "metadata": {},
   "source": [
    "# Documentation\n",
    "The purpose of this notebook is to describe the files available in the data repository and their structure. \n",
    "\n",
    "For version control purposes this file should be commited without output and only run locally."
   ]
  },
  {
   "cell_type": "code",
   "execution_count": null,
   "id": "8f4115eb-560c-4ad4-bc31-45556c592113",
   "metadata": {},
   "outputs": [],
   "source": [
    "from pathlib import Path\n",
    "from pprint import pprint\n",
    "\n",
    "\n",
    "import numpy as np\n",
    "import pandas as pd"
   ]
  },
  {
   "cell_type": "code",
   "execution_count": null,
   "id": "c6855715-5b8a-494c-ac27-0d063d03a115",
   "metadata": {},
   "outputs": [],
   "source": [
    "def read_matlab_file(file_path):\n",
    "    file_path = str(file_path)\n",
    "\n",
    "    try:\n",
    "        mat_file = loadmat_mat4py(str(file_path))\n",
    "        mat_file['read'] = 'mat4py'\n",
    "    except:\n",
    "        try:\n",
    "            mat_file = loadmat_mat73(file_path)\n",
    "            mat_file['read'] = 'mat73'\n",
    "        except:\n",
    "            mat_file = loadmat_scipy(file_path)\n",
    "            mat_file['read'] = 'scipy'\n",
    "    return mat_file"
   ]
  },
  {
   "cell_type": "markdown",
   "id": "ef8f7cbc-80b6-4628-84c1-bd608a01d2e3",
   "metadata": {},
   "source": [
    "# Data directory structure"
   ]
  },
  {
   "cell_type": "code",
   "execution_count": null,
   "id": "bbc629d6-2fcd-4f18-8d8f-31dca9bb9e07",
   "metadata": {},
   "outputs": [],
   "source": [
    "base_path = Path('/shared/catalystneuro/Buzsaki/TingleyD')  # Change this with the right location"
   ]
  },
  {
   "cell_type": "markdown",
   "id": "946738c4-f490-431f-8cf2-a31243efd706",
   "metadata": {},
   "source": [
    "## Subjects \n",
    "First, let's get the different subjects and filter the ones that we decide shoule be included in this transformation"
   ]
  },
  {
   "cell_type": "code",
   "execution_count": null,
   "id": "3a1beb32-822c-4d19-8bbb-0b890a0fc73a",
   "metadata": {},
   "outputs": [],
   "source": [
    "subjects_in_study = ['DT2', 'DT5', 'DT7', 'DT8', 'DT9']\n",
    "subject_path_dic = {p.stem:p for p in base_path.iterdir() if p.is_dir() and p.name in subjects_in_study}\n",
    "pprint(subject_path_dic.keys())"
   ]
  },
  {
   "cell_type": "markdown",
   "id": "a88d9848-2677-41ff-8742-bf5f1a819934",
   "metadata": {},
   "source": [
    "The results of this should be all the subjects in this paper\n",
    "['DT2', 'DT5', 'DT7', 'DT8', 'DT9'] and the dictionary values are the paths for each of the subjects folder"
   ]
  },
  {
   "cell_type": "markdown",
   "id": "4507d9af-7155-43e2-a178-9d74140a3499",
   "metadata": {},
   "source": [
    "## Sessions\n",
    "Now let's see how the sessions are structure. For this dataset we have that each subject contains multiple files, tentatively belonging to different seessions and some top level files"
   ]
  },
  {
   "cell_type": "markdown",
   "id": "70f0e478-df50-40e7-a839-2beed3ad000c",
   "metadata": {},
   "source": [
    "### Session folders"
   ]
  },
  {
   "cell_type": "code",
   "execution_count": null,
   "id": "a60f4a6f-8be5-4ba5-a448-87d4fce3a04c",
   "metadata": {},
   "outputs": [],
   "source": [
    "subject = \"DT8\" \n",
    "sessions_path_in_subject = {p.stem:p for p in subject_path_dic[subject].iterdir() if p.is_dir()}\n",
    "session_names_list = list(sessions_path_in_subject.keys())\n",
    "session_names_list.sort()\n",
    "pprint(session_names_list, compact=False)"
   ]
  },
  {
   "cell_type": "markdown",
   "id": "5521ea32-a773-4888-8b92-02780f43773c",
   "metadata": {},
   "source": [
    "The results should be something like:\n",
    "    \n",
    "    ['20170124_0um_0um_170124_151501',\n",
    "     '20170125_0um_0um_merge',\n",
    "     '20170126_0um_0um_merge',\n",
    "     '20170127_0um_0um_170127_121658',\n",
    "     '20170128_0um_72um_merge',\n",
    "     '20170129_0um_72um_170129_130356',\n",
    "     '20170130_0um_144um_170130_143246',\n",
    "     '20170131_72um_432um_merge',\n",
    "     '20170201_72um_432um_merge',\n",
    "     '20170202_72um_576um_170202_092033',\n",
    "     '20170203_72um_648um_170203_105608',\n",
    "     '20170206_72um_1872um_merge',\n",
    "     '20170207_144um_1944um_merge',\n",
    "     '20170208_144um_1944um_merge',\n",
    "     '20170209_144um_1944um_merge',\n",
    "     '20170210_144um_1944um_170210_112254',\n",
    "     '20170211_144um_1944um_merge',\n",
    "     '20170212_144um_1944um_170212_154634',\n",
    "     '20170213_144um_1944um_merge',\n",
    "     '20170214_216um_1944um_170214_102804',\n",
    "     '20170215_216um_1944um_170215_140739',\n",
    "     '20170216_216um_1944um_merge',\n",
    "     '20170217_216um_1944um_merge',\n",
    "     '20170218_216um_1944um_170218_114724',\n",
    "     '20170220_216um_1944um_170220_192456',\n",
    "     '20170221_324um_1944um_170221_101929',\n",
    "     '20170222_324um_2088um_170222_113940',\n",
    "     '20170223_324um_2088um_170223_103741',\n",
    "     '20170224_324um_2088um_170224_101710',\n",
    "     '20170227_324um_2088um_170227_105926',\n",
    "     '20170228_324um_2088um_merge',\n",
    "     '20170229_324um_2088um_merge',\n",
    "     '20170303_324um_2088um_170303_114804',\n",
    "     '20170305_468um_2088um_170305_135233',\n",
    "     '20170306_468um_2088um_170306_113628',\n",
    "     '20170307_540um_2088um_merge',\n",
    "     '20170308_612um_2088um_merge',\n",
    "     '20170309_612um_2088um_170309_093245',\n",
    "     '20170310_612um_2088um_170310_140825',\n",
    "     '20170311_684um_2088um_170311_134350',\n",
    "     '20170316_828um_2088um_170316_093559',\n",
    "     '20170318_828um_2088um_170318_201151',\n",
    "     '20170320_828um_2088um_170320_200023']\n",
    "\n",
    "Which seem to be the different recording sessions with the following format:\n",
    " * {date}_{x}um_{date_time |merge}"
   ]
  },
  {
   "cell_type": "markdown",
   "id": "a178ed28-37b3-40f0-b752-06138a6b6e4a",
   "metadata": {},
   "source": [
    "## Structure of the session directory"
   ]
  },
  {
   "cell_type": "markdown",
   "id": "bfb151be-93b5-420d-963d-46d6a1fc5019",
   "metadata": {},
   "source": [
    "Now let's look inside the directory of those directories inside the session path. \n",
    "Let's show some examples."
   ]
  },
  {
   "cell_type": "code",
   "execution_count": null,
   "id": "d3e15198-fb47-4066-b6d9-66779e17667b",
   "metadata": {},
   "outputs": [],
   "source": [
    "session_name = \"20170124_0um_0um_170124_151501\" \n",
    "path_of_dirs_in_session = {p.name:p for p in sessions_path_in_subject[session_name].iterdir() if p.is_dir()}\n",
    "directories_in_session = list(path_of_dirs_in_session.keys())\n",
    "directories_in_session.sort(key=lambda x:int(x))\n",
    "pprint(directories_in_session)"
   ]
  },
  {
   "cell_type": "code",
   "execution_count": null,
   "id": "c3229993-05f6-4e85-8e24-ad336feae299",
   "metadata": {},
   "outputs": [],
   "source": [
    "session_name = \"20170224_324um_2088um_170224_101710\"\n",
    "path_of_dirs_in_session = {p.name:p for p in sessions_path_in_subject[session_name].iterdir() if p.is_dir()}\n",
    "directories_in_session = list(path_of_dirs_in_session.keys())\n",
    "directories_in_session.sort()\n",
    "pprint(directories_in_session)"
   ]
  },
  {
   "cell_type": "code",
   "execution_count": null,
   "id": "d7222099-f1f1-4339-a146-3323495fc24e",
   "metadata": {},
   "outputs": [],
   "source": [
    "session_name = \"20170307_540um_2088um_merge\" \n",
    "path_of_dirs_in_session = {p.name:p for p in sessions_path_in_subject[session_name].iterdir() if p.is_dir()}\n",
    "directories_in_session = list(path_of_dirs_in_session.keys())\n",
    "directories_in_session.sort()\n",
    "pprint(directories_in_session)"
   ]
  },
  {
   "cell_type": "code",
   "execution_count": null,
   "id": "f42d13ac-7f65-4580-9f1f-b7e3c0fb7074",
   "metadata": {},
   "outputs": [],
   "source": [
    "session_name =\"20170308_612um_2088um_merge\"  \n",
    "path_of_dirs_in_session = {p.name:p for p in sessions_path_in_subject[session_name].iterdir() if p.is_dir()}\n",
    "directories_in_session = list(path_of_dirs_in_session.keys())\n",
    "directories_in_session.sort()\n",
    "pprint(directories_in_session)"
   ]
  },
  {
   "cell_type": "markdown",
   "id": "4cb6c472-7318-4468-ae9f-534992cac2cc",
   "metadata": {},
   "source": [
    "The output of the last example should be something like this:\n",
    "\n",
    "    ['1',\n",
    "     '2',\n",
    "     '3',\n",
    "     '4',\n",
    "     '5',\n",
    "     '6',\n",
    "     '7',\n",
    "     '8',\n",
    "     '9',\n",
    "     '10',\n",
    "     '20170308_612um_2088um_170308_115428', # these are available on merge sessions\n",
    "     '20170308_612um_2088um_170308_144851', # there are available on merge sessions\n",
    "     'Session 2017-03-08', # not available in every session\n",
    "     'StateScoreFigures'   # not available in every session\n",
    "     ]\n",
    "\n",
    "The general structure seem to be the following. Each of the sessions contains ten folders numerated from 1 to 10. Merge sessions contain further folders wher the specific time-stamps of the merged sessions can be found and finally sometimes there is a folder with the naming \"Session {date}\" "
   ]
  },
  {
   "cell_type": "markdown",
   "id": "66863ad9-142f-466e-8db7-d0e09fedb5c2",
   "metadata": {},
   "source": [
    "### Files in each of the sessions"
   ]
  },
  {
   "cell_type": "markdown",
   "id": "a5d0ceb3-1629-4b2c-a68e-592ec9f6b0ce",
   "metadata": {},
   "source": [
    "Here a brief description of what type of files are each of the levels. A more extended discussion can be vound in the Data section below\n",
    "\n",
    "In the session directory top-most level the following formats can be found:\n",
    "* evt\n",
    "* clu\n",
    "* fet\n",
    "* pos\n",
    "* res\n",
    "* lfp\n",
    "* spk\n",
    "* nrs\n",
    "* xml\n",
    "* mat\n",
    "\n",
    "This seems to be where the main data for the session is, plus the mat files whereas both processing and behavioral might be.\n",
    "\n",
    "In the directories that are named with numbers the following formats can be found:\n",
    "* kwd \n",
    "* kwik\n",
    "* log\n",
    "* clu\n",
    "* fet\n",
    "* fmask\n",
    "* klg\n",
    "* prm\n",
    "* kvlog\n",
    "\n",
    "This seems the results of `klusta` suite for spike sorting and analysis\n",
    "\n",
    "In merge session when merge directories are available the following files can be found on them:\n",
    "* info.rhd\n",
    "* amplifiers.nrs\n",
    "* amplifiers.xlm\n",
    "\n",
    "Finally, when the directory \"Sesion {date}\" is available, it contains csv files with a time stamp as title and some `.tak` files which seem to be audio"
   ]
  },
  {
   "cell_type": "markdown",
   "id": "edb52203-d9ea-49ad-898a-5789e764529e",
   "metadata": {},
   "source": [
    "## Subject top-level files\n",
    "Moreover, we also find some files in the topmost directory. We describe them in more detail in the data section of this document"
   ]
  },
  {
   "cell_type": "code",
   "execution_count": null,
   "id": "e84739b6-1aee-47d8-bb11-f92160e4f325",
   "metadata": {},
   "outputs": [],
   "source": [
    "files_not_in_session = {p.name:p for p in subject_path_dic[subject].iterdir() if p.is_file()}\n",
    "files_names = list(files_not_in_session.keys())\n",
    "files_names.sort()\n",
    "pprint(files_names)"
   ]
  },
  {
   "cell_type": "markdown",
   "id": "ca94bc40-d73b-4415-bcc4-2eb87a821269",
   "metadata": {},
   "source": [
    "The result should be something like this:\n",
    "\n",
    "    ['.DS_Store',\n",
    "     'DT8_current_dataset_parietal_theta.mat',\n",
    "     'behav.mat',\n",
    "     'groupRecordings.m']\n",
    "     \n",
    " They seem to be behavioral files and we will come back to them when we discuss the specific files below"
   ]
  },
  {
   "cell_type": "markdown",
   "id": "80788b7c-9ae4-43fe-bffb-bbbbd658ddf6",
   "metadata": {},
   "source": [
    "# Data "
   ]
  },
  {
   "cell_type": "markdown",
   "id": "bae14f0c-9305-4084-824e-bb0aca477631",
   "metadata": {},
   "source": [
    "## An overview of the available data\n",
    "We discuss now what formats are present before describing the files in more detail."
   ]
  },
  {
   "cell_type": "code",
   "execution_count": null,
   "id": "f28aceaa-0960-4669-8394-4ea7e07b80f3",
   "metadata": {},
   "outputs": [],
   "source": [
    "not_data_formats = [\".jpg\", \".png\", \".pdf\", \".svg\", \".fig\", \".py\", \".m\"]\n",
    "\n",
    "format_list = [p.suffixes for p in subject_path_dic[subject].rglob('*') if not p.is_dir()]\n",
    "format_list = list({_ for suffixes in format_list for _ in suffixes}) \n",
    "format_list = [_ for _ in format_list if 3 < len(_) < 7 and \" \" not in _]  # Eliminate names, numbers and dates\n",
    "format_list = [p for p in format_list if p not in not_data_formats]\n",
    "format_list.sort()\n",
    "pprint(format_list, compact=True)"
   ]
  },
  {
   "cell_type": "markdown",
   "id": "609333a3-f70c-4df2-86c8-e91f3b5ff7cb",
   "metadata": {},
   "source": [
    "The output of this should give us the formats available for this subject and should look something like this:\n",
    "\n",
    "    ['.LOG', '.WAV', '.alg', '.cat', '.clu', '.csv', '.evt', '.fet', '.fmask',\n",
    "     '.high', '.klg', '.kvlog', '.kwd', '.kwik', '.lfp', '.log', '.low', '.mat',\n",
    "     '.nrs', '.out', '.pos', '.prb', '.prm', '.raw', '.res', '.rhd', '.spk', '.tak',\n",
    "     '.txt', '.xml']\n",
    "     "
   ]
  },
  {
   "cell_type": "markdown",
   "id": "6c852fea-5762-4359-81d6-70dc81074d60",
   "metadata": {},
   "source": [
    "Descripton of the files"
   ]
  },
  {
   "cell_type": "markdown",
   "id": "a7d18931-e300-4cfa-8b69-3d125bfae362",
   "metadata": {},
   "source": [
    "* `LOG` : probably log files. \n",
    "* `WAV` : audio format. \n",
    "* `alg` : Not likely to have anything useful.\n",
    "* `cat` :\n",
    "* `clu` : usually associated to the neuroscope sorting format.\n",
    "* `csv` : comma separated value, plain text.\n",
    "* `klg`, kvlog, kwik: files of the klusta spike sorting suit.\n",
    "* `lfp` : This is the LFP, this is read with Neuroscope.\n",
    "* `log` : sometimes log files, sometimes associated with the Phy sorting program. \n",
    "* `low` :\n",
    "* `mat` : matlab files.\n",
    "* `nrs` : \n",
    "* `out` : output of some shell process usually.\n",
    "* `pos` :\n",
    "* `prm` :\n",
    "* `raw` :\n",
    "* `res` : usually associated to the neuroscope sorting format.\n",
    "* `rhd` :\n",
    "* `spk` :\n",
    "* `tak` : audio file. This could be video. Double check and confirm.\n",
    "* `txt` : plain text file.\n",
    "* `xml` : xml."
   ]
  },
  {
   "cell_type": "markdown",
   "id": "c6569934-4bd6-41e0-bf31-f9bd9987e172",
   "metadata": {},
   "source": [
    "#### Sizes of the files"
   ]
  },
  {
   "cell_type": "code",
   "execution_count": null,
   "id": "7f82558d-8724-4a17-9965-0c367c713fd9",
   "metadata": {},
   "outputs": [],
   "source": [
    "{p.suffix:p for p in subject_path_dic[subject].rglob('*') if not p.is_dir() and \"raw\" in '.'.join(p.suffixes)}"
   ]
  },
  {
   "cell_type": "code",
   "execution_count": null,
   "id": "fb80563d-c75b-4b88-bca1-c182feee33cc",
   "metadata": {},
   "outputs": [],
   "source": []
  },
  {
   "cell_type": "code",
   "execution_count": null,
   "id": "7f2777b2-da1c-4d39-b49b-e07ec64f9f22",
   "metadata": {},
   "outputs": [],
   "source": [
    "not_data_formats = [\".jpg\", \".png\", \".pdf\", \".svg\", \".fig\", \".py\", \".m\"]\n",
    "\n",
    "format_dic = {:p for p in subject_path_dic[subject].rglob('*') if not p.is_dir()}"
   ]
  },
  {
   "cell_type": "code",
   "execution_count": null,
   "id": "ab7a4f6a-e44a-4039-9c8b-82a37ecb12b9",
   "metadata": {},
   "outputs": [],
   "source": [
    "Path(file).stat().st_size * 70"
   ]
  },
  {
   "cell_type": "markdown",
   "id": "b35fb816-e7d7-4087-b338-99a07faa9ec5",
   "metadata": {},
   "source": [
    "## Matlab files\n",
    "As the matlab files are the ones usually associated with behavioral data they will be describe first. We will see what files are available on a sesion.\n",
    "Here we use a session with merger to have a picture of the most complicated case"
   ]
  },
  {
   "cell_type": "code",
   "execution_count": null,
   "id": "018102f1-cca6-4c35-90c2-aab052a34568",
   "metadata": {},
   "outputs": [],
   "source": [
    "session_name = \"20170308_612um_2088um_merge\"  \n",
    "mat_files_paths = {p.name:p for p in sessions_path_in_subject[session_name].rglob('*') if not p.is_dir() and 'mat' in ''.join(p.suffixes)}\n",
    "mat_files_names = list(mat_files_paths.keys())\n",
    "mat_files_names.sort()\n",
    "pprint(mat_files_names)"
   ]
  },
  {
   "cell_type": "markdown",
   "id": "7b5c19cd-600d-4240-bcc6-aa8d0cb5b11a",
   "metadata": {},
   "source": [
    "The file above should produce something like:\n",
    "\n",
    "    ['20170308_612um_2088um_merge.behavior.mat',\n",
    "     '20170308_612um_2088um_merge.firingMaps.cellinfo.mat',\n",
    "     '20170308_612um_2088um_merge.isolationMetrics.cellinfo.mat',\n",
    "     '20170308_612um_2088um_merge.olypherInfo.cellinfo.mat',\n",
    "     '20170308_612um_2088um_merge.phaseMaps.cellinfo.mat',\n",
    "     '20170308_612um_2088um_merge.placeFields.01_pctThresh.mat',\n",
    "     '20170308_612um_2088um_merge.placeFields.05_pctThresh.mat',\n",
    "     '20170308_612um_2088um_merge.placeFields.10_pctThresh.mat',\n",
    "     '20170308_612um_2088um_merge.placeFields.20_pctThresh.mat',\n",
    "     '20170308_612um_2088um_merge.placeFields.40_pctThresh.mat',\n",
    "     '20170308_612um_2088um_merge.positionDecodingGLM_binnedspace_box.cellinfo.mat',\n",
    "     '20170308_612um_2088um_merge.positionDecodingGLM_binnedspace_box_median.cellinfo.mat',\n",
    "     '20170308_612um_2088um_merge.positionDecodingMaxCorr_binned_box_median.cellinfo.mat',\n",
    "     '20170308_612um_2088um_merge.sessionInfo.mat',\n",
    "     '20170308_612um_2088um_merge.spikes.cellinfo.mat']\n",
    "     \n",
    "There are similar files in every section that look like {date}_{x}um_{x}.{name}.mat. We now look at all the files available for the subject disambiguation everything but the name at the end to see what is the variety of mat files available."
   ]
  },
  {
   "cell_type": "code",
   "execution_count": null,
   "id": "77dfadc8-cb32-45aa-bf3e-986cd2a321f5",
   "metadata": {},
   "outputs": [],
   "source": [
    "mat_files_names_simple = [name for name in mat_files_names if len(name.split(\".\")) == 2]\n",
    "mat_files_names_composed = ['.'.join(name.split('.')[1:]) for name in mat_files_names if len(name.split(\".\")) != 2]\n",
    "\n",
    "mat_files_names_formatted = list(set( mat_files_names_composed))\n",
    "mat_files_names_formatted += mat_files_names_simple\n",
    "mat_files_names_formatted.sort()\n",
    "pprint(mat_files_names_formatted)"
   ]
  },
  {
   "cell_type": "markdown",
   "id": "d82b5d6b-49b8-427d-9f21-db089dc0ea56",
   "metadata": {},
   "source": [
    "This should produce something that looks like this:\n",
    "\n",
    "    ['DT8_current_dataset_parietal_theta.mat',\n",
    "    'PhaseLockingData.cellinfo.mat',\n",
    "    'assembliesCrossRegionData.mat',\n",
    "    'assembliesCrossRegionData_w_theta_sin_cos_coord_vel.mat',\n",
    "    'assembliesCrossRegion_split_w_theta.mat',\n",
    "    'assembliesWithinRegionData_w_theta_sin_cos_coord_vel.mat',\n",
    "    'behav.mat',\n",
    "    'behav_temp.mat',\n",
    "    'behavior.mat',\n",
    "    'firingMaps.cellinfo.mat',\n",
    "    'isolationMetrics.cellinfo.mat',\n",
    "    'ls_RipplePhaseModulation.cellinfo.mat',\n",
    "    'meta.mat',\n",
    "    'noiseCorrs.mat',\n",
    "    'olypherInfo.cellinfo.mat',g. Most likely we will ignore them.\n",
    "spk <-\n",
    "    'olypherInfo_w_disc.cellinfo.mat',\n",
    "    'phaseMaps.cellinfo.mat',\n",
    "    'placeFields.01_pctThresh.mat',\n",
    "    'placeFields.05_pctThresh.mat',\n",
    "    'placeFields.10_pctThresh.mat',\n",
    "    'placeFields.20_pctThresh.mat',\n",
    "    'placeFields.40_pctThresh.mat',\n",
    "    'positionDecodingGLM.cellinfo.mat',\n",
    "    'positionDecodingGLM_binnedspace_box.cellinfo.mat',\n",
    "    'positionDecodingGLM_binnedspace_box_median.cellinfo.mat',\n",
    "    'positionDecodingGLM_binnedspace_box_nozero.cellinfo.mat',\n",
    "    'positionDecodingGLM_binnedspace_gauss.cellinfo.mat',\n",
    "    'positionDecodingGLM_box.cellinfo.mat',\n",
    "    'positionDecodingGLM_gaussian.cellinfo.mat',\n",
    "    'positionDecodingMaxCorr_binned_box_median.cellinfo.mat',\n",
    "    'referenceFrames.mat',\n",
    "    'sessionInfo.mat',\n",
    "    'spikes.cellinfo.mat']\n",
    "    \n",
    "Which gives us an idea of all the files available. I will describe them in more details"
   ]
  },
  {
   "cell_type": "markdown",
   "id": "27268665-e6fe-441b-a1a8-143d37c354f2",
   "metadata": {},
   "source": [
    "### Description overview (To-do)"
   ]
  },
  {
   "cell_type": "markdown",
   "id": "c67a6cce-1e4b-4ec2-a899-7d3a8a17ed54",
   "metadata": {},
   "source": [
    "* `DT8_current_dataset_parietal_theta.mat` :\n",
    "* `PhaseLockingData.cellinfo.mat` : \n",
    "* `assembliesCrossRegionData.mat` :  <- Check this\n",
    "* `assembliesCrossRegionData_w_theta_sin_cos_coord_vel.mat` :\n",
    "* `assembliesCrossRegion_split_w_theta.mat` :\n",
    "* `assembliesWithinRegionData_w_theta_sin_cos_coord_vel.mat` :\n",
    "* `behav.mat` : <- Check this\n",
    "* `behav_temp.mat` :\n",
    "* `behavior.mat` :\n",
    "* `firingMaps.cellinfo.mat` :\n",
    "* `isolationMetrics.cellinfo.mat` :\n",
    "* `ls_RipplePhaseModulation.cellinfo.mat` :\n",
    "* `meta.mat` :\n",
    "* `noiseCorrs.mat` : <Ignore this\n",
    "* `olypherInfo.cellinfo.mat` :\n",
    "* `olypherInfo_w_disc.cellinfo.mat` :\n",
    "* `phaseMaps.cellinfo.mat` :\n",
    "* `placeFields.01_pctThresh.mat` :\n",
    "* `placeFields.05_pctThresh.mat` :\n",
    "* `placeFields.10_pctThresh.mat` :\n",
    "* `placeFields.20_pctThresh.mat` :\n",
    "* `placeFields.40_pctThresh.mat` :\n",
    "* `positionDecodingGLM.cellinfo.mat` : Ignore all of these guys -we care about the ACTUAL position not the processing of it. Maybe the od have the x,y z, positions but more likely they are processing parameters for the anlalysis. \n",
    "* `positionDecodingGLM_binnedspace_box.cellinfo.mat` :\n",
    "* `positionDecodingGLM_binnedspace_box_median.cellinfo.mat` :\n",
    "* `positionDecodingGLM_binnedspace_box_nozero.cellinfo.mat` :\n",
    "* `positionDecodingGLM_binnedspace_gauss.cellinfo.mat` :\n",
    "* `positionDecodingGLM_box.cellinfo.mat` :\n",
    "* `positionDecodingGLM_gaussian.cellinfo.mat` :\n",
    "* `positionDecodingMaxCorr_binned_box_median.cellinfo.mat` :\n",
    "* `referenceFrames.mat` :\n",
    "* `sessionInfo.mat` : Initial the cell explorer sorter extrator in the folder paht where this file is. This header was missing from the Yuta file. It will not process the customer \n",
    "* `spikes.cellinfo.mat` :"
   ]
  },
  {
   "cell_type": "markdown",
   "id": "2defd462-5e65-425c-b212-d8ab58680caf",
   "metadata": {},
   "source": [
    "## CSV files - To do"
   ]
  },
  {
   "cell_type": "code",
   "execution_count": null,
   "id": "c78e4ae3-1e21-4dc6-adc0-6d13020ac74b",
   "metadata": {},
   "outputs": [],
   "source": []
  },
  {
   "cell_type": "code",
   "execution_count": null,
   "id": "838ec26d-a1ba-474a-8081-e1efc4c7a940",
   "metadata": {},
   "outputs": [],
   "source": []
  },
  {
   "cell_type": "markdown",
   "id": "a2b3d2c4-fe86-4db2-8e7e-c86dcb9c9f21",
   "metadata": {},
   "source": [
    "# Temporary"
   ]
  },
  {
   "cell_type": "code",
   "execution_count": null,
   "id": "e17cf75c-cb44-4f09-a4d2-bbefe3dbace1",
   "metadata": {},
   "outputs": [],
   "source": [
    "import pandas as pd"
   ]
  },
  {
   "cell_type": "code",
   "execution_count": null,
   "id": "7c6bc2b3-29c0-4b62-8ab1-45ffa7a262ed",
   "metadata": {},
   "outputs": [],
   "source": []
  },
  {
   "cell_type": "code",
   "execution_count": null,
   "id": "6b364ddb-2f52-4c9b-9707-e7a9201db3f5",
   "metadata": {},
   "outputs": [],
   "source": [
    "file_path = Path(\"/home/jovyan/globus_data/TingleyD/DT8/20170217_216um_1944um_merge/Session 2017-02-17/\")\n",
    "file_path.is_dir()"
   ]
  },
  {
   "cell_type": "code",
   "execution_count": null,
   "id": "dd49c06c-8e52-4aa5-998b-39dcdac42ad2",
   "metadata": {},
   "outputs": [],
   "source": []
  },
  {
   "cell_type": "code",
   "execution_count": null,
   "id": "12cbe5b2-989f-4cfb-adb3-c6db96bd63a6",
   "metadata": {},
   "outputs": [],
   "source": []
  }
 ],
 "metadata": {
  "kernelspec": {
   "display_name": "buzsaki_lab_to_nwb",
   "language": "python",
   "name": "buzsaki_lab_to_nwb"
  },
  "language_info": {
   "codemirror_mode": {
    "name": "ipython",
    "version": 3
   },
   "file_extension": ".py",
   "mimetype": "text/x-python",
   "name": "python",
   "nbconvert_exporter": "python",
   "pygments_lexer": "ipython3",
   "version": "3.9.7"
  }
 },
 "nbformat": 4,
 "nbformat_minor": 5
}
