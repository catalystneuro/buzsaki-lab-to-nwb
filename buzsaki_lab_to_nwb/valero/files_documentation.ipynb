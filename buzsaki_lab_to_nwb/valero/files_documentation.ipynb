{
 "cells": [
  {
   "attachments": {},
   "cell_type": "markdown",
   "metadata": {},
   "source": [
    "# Configuration"
   ]
  },
  {
   "cell_type": "code",
   "execution_count": null,
   "metadata": {},
   "outputs": [],
   "source": [
    "from pathlib import Path\n",
    "import numpy as np\n",
    "import matplotlib.pyplot as plt\n",
    "\n",
    "from pymatreader import read_mat\n",
    "import json \n",
    "\n",
    "project_root = Path(\"/home/heberto/buzaki\")\n",
    "session_path = project_root /  \"fCamk1_200827_sess9\"\n",
    "assert session_path.is_dir()\n",
    "\n",
    "session_files_path_list = list(session_path.iterdir())\n",
    "# Dump to a file in the same folder\n",
    "json_directory = Path.cwd() / \"_json_files\"\n",
    "json_directory.mkdir(exist_ok=True)\n",
    "\n",
    "\n",
    "# Adjust the figure size\n",
    "plt.figure(figsize=(16, 8))\n",
    "# Adjust all the fonts\n",
    "plt.rcParams.update({'font.size': 25})"
   ]
  },
  {
   "cell_type": "markdown",
   "metadata": {},
   "source": [
    "# Some helper functions"
   ]
  },
  {
   "cell_type": "code",
   "execution_count": null,
   "metadata": {},
   "outputs": [],
   "source": [
    "def format_files_as_string(files):\n",
    "    # Add a tuple with size\n",
    "    files = [(file_path.name, f\"size: {file_path.stat().st_size / 1024**2 :,.2f} MiB\") for file_path in files]\n",
    "\n",
    "    # Sort the list by file size in descending order\n",
    "    files.sort(key=lambda x: x[1], reverse=True)\n",
    "\n",
    "    # Determine the maximum width for alignment based on longest file name length\n",
    "    max_file_name_length = max(len(name) for name, _ in files)\n",
    "    max_size_width = max_file_name_length + len(\"  size: \")\n",
    "\n",
    "    # Create new list with formatted strings\n",
    "    file_as_string = [f\"{name.ljust(max_file_name_length)} {size}\" for name, size in files]\n",
    "    \n",
    "    return file_as_string\n",
    "\n",
    "\n",
    "def build_keys_and_types(dictionary):\n",
    "    \"\"\"\n",
    "    Construct a new dictionary that contains type and optionally value or shape information \n",
    "    for each value in the input dictionary. This function handles nested dictionaries and treats \n",
    "    numpy arrays and lists in a specific way.\n",
    "\n",
    "    The function creates a new key-value pair for every key-value pair in the input dictionary. \n",
    "    The value is another dictionary that always contains the 'type' key and might contain the 'value', \n",
    "    'shape' or 'length' key depending on the original value's type and size.\n",
    "\n",
    "    Parameters\n",
    "    ----------\n",
    "    dictionary : dict\n",
    "        The input dictionary to be analyzed. It may contain nested dictionaries, numpy arrays,\n",
    "        lists, or other types of values.\n",
    "\n",
    "    Returns\n",
    "    -------\n",
    "    output_dict : dict\n",
    "        The output dictionary that provides detailed information about each value in the original dictionary.\n",
    "        The value corresponding to each key is another dictionary that contains the following key-value pairs:\n",
    "        - 'type': A string describing the type of the original value.\n",
    "        - 'value': A string representing the original value. This key is present if the original value \n",
    "        is not a numpy array or list, or if it's a small numpy array or list (i.e., with fewer than 10 elements).\n",
    "        - 'shape': A string representing the shape of the original numpy array. This key is present if the \n",
    "        original value is a numpy array with 10 or more elements.\n",
    "    \"\"\"\n",
    "    output_dict = {}\n",
    "    \n",
    "    for key, value in dictionary.items():\n",
    "        if isinstance(value, dict):\n",
    "            output_dict[key] = build_keys_and_types(value)\n",
    "        else:\n",
    "            output_dict[key] = extract_value_info(value)\n",
    "\n",
    "    return output_dict\n",
    "\n",
    "\n",
    "def extract_value_info(value):\n",
    "    \"\"\"\n",
    "    Generate a dictionary that contains type and optionally value or shape information about the input value.\n",
    "\n",
    "    This function always adds the 'type' key to the output dictionary. Depending on the input value's type and size,\n",
    "    it might also add the 'value', 'shape', or 'length' key.\n",
    "\n",
    "    Parameters\n",
    "    ----------\n",
    "    value : object\n",
    "        The input value. It can be of any type, including numpy array and list.\n",
    "\n",
    "    Returns\n",
    "    -------\n",
    "    value_info : dict\n",
    "        The output dictionary that contains the following key-value pairs:\n",
    "        - 'type': A string describing the input value's type.\n",
    "        - 'value': A string representing the input value. This key is present if the input value is not a numpy \n",
    "        array or list, or if it's a small numpy array or list (i.e., with fewer than 10 elements).\n",
    "        - 'shape': A string representing the shape of the input value if it's a numpy array with 10 or more elements.\n",
    "    \"\"\"\n",
    "    value_info = {\"type\": str(type(value))}\n",
    "    \n",
    "    if isinstance(value, (np.ndarray, list)):\n",
    "        length = len(value) if isinstance(value, list) else value.size\n",
    "        value_info[\"shape\"] = str(value.shape) if isinstance(value, np.ndarray) else str(length)\n",
    "        no_list_or_array_inside = not any(isinstance(item, (np.ndarray, list)) for item in value)\n",
    "        if length < 10 and no_list_or_array_inside:\n",
    "            value_info[\"value\"] = str(value)\n",
    "    else:\n",
    "        value_info[\"value\"] = str(value)\n",
    "\n",
    "    return value_info"
   ]
  },
  {
   "attachments": {},
   "cell_type": "markdown",
   "metadata": {},
   "source": [
    "# Session overview"
   ]
  },
  {
   "cell_type": "code",
   "execution_count": null,
   "metadata": {},
   "outputs": [],
   "source": []
  },
  {
   "attachments": {},
   "cell_type": "markdown",
   "metadata": {},
   "source": [
    "#### Mat files"
   ]
  },
  {
   "cell_type": "code",
   "execution_count": null,
   "metadata": {},
   "outputs": [],
   "source": [
    "# Retrieve file paths and sizes\n",
    "\n",
    "condition = lambda file_path: \".mat\" in file_path.name\n",
    "files = [file_path for file_path in session_files_path_list if condition(file_path)]\n",
    "\n",
    "files_as_string = format_files_as_string(files)\n",
    "files_as_string"
   ]
  },
  {
   "attachments": {},
   "cell_type": "markdown",
   "metadata": {},
   "source": [
    "### The rest"
   ]
  },
  {
   "cell_type": "code",
   "execution_count": null,
   "metadata": {},
   "outputs": [],
   "source": [
    "condition = lambda file_path : \".mat\" not in file_path.name and file_path.is_file()\n",
    "files = [file_path for file_path in session_files_path_list if condition(file_path)]\n",
    "\n",
    "files_as_string = format_files_as_string(files)\n",
    "files_as_string\n"
   ]
  },
  {
   "attachments": {},
   "cell_type": "markdown",
   "metadata": {},
   "source": [
    "This is the output:\n",
    "\n",
    "* `analogin.dat`, `8,203.18 MiB` : Probably raw data\n",
    "* `fCamk1_200827_sess9.dat`, `32,812.73 MiB` : TODO\n",
    "* `auxiliary.dat`, `3,076.19 MiB` : TODO\n",
    "* `time.dat`, `2,050.80 MiB` :  TODO\n",
    "* `TrialMapsAndRasters.pptx`, `1.02 MiB` : Collection of rasters, I don't think it matters. \n",
    "* `fCamk1_200827_sess9.lfp`, `1,367.20 MiB` :  LFP\n",
    "* `digitalin.dat`, `1,025.40 MiB` :  TODO\n",
    "* `supply.dat`, `1,025.40 MiB` :  TODO\n",
    "* `pulTime.npy`, `0.32 MiB` : TODO\n",
    "* `fCamk1_200827_sess9_HSE.HSE.evt`, `0.28 MiB` : TODO \n",
    "* `deepSuperficial_classification_fromRipples.png`, `0.14 MiB` : Figure, probably does not matter \n",
    "* `bz_DetectSWR.log`, `0.05 MiB` :  TODO\n",
    "* `bz_DetectSWR_manu.log`, `0.05 MiB` : TODO\n",
    "* `fCamk1_200827_sess9.xml`, `0.04 MiB` : TODO\n",
    "* `fCamk1_200827_sess9.nrs`, `0.00 MiB` : TODO\n",
    "* `4nA pulses.txt`, `0.00 MiB` : TODO\n",
    "* `info.rhd`, `0.00 MiB` : TODO"
   ]
  },
  {
   "attachments": {},
   "cell_type": "markdown",
   "metadata": {},
   "source": [
    "#### Folders / Directories"
   ]
  },
  {
   "cell_type": "code",
   "execution_count": null,
   "metadata": {},
   "outputs": [],
   "source": [
    "condition = lambda file_path : \".mat\" not in file_path.name and file_path.is_file()\n",
    "files = [file_path for file_path in session_files_path_list if condition(file_path)]\n",
    "\n",
    "files_as_string = format_files_as_string(files)\n",
    "files_as_string"
   ]
  },
  {
   "attachments": {},
   "cell_type": "markdown",
   "metadata": {},
   "source": [
    "# Explore specific files"
   ]
  },
  {
   "cell_type": "code",
   "execution_count": null,
   "metadata": {},
   "outputs": [],
   "source": []
  },
  {
   "attachments": {},
   "cell_type": "markdown",
   "metadata": {},
   "source": [
    "## Sessions"
   ]
  },
  {
   "attachments": {},
   "cell_type": "markdown",
   "metadata": {},
   "source": [
    "### `session.mat`"
   ]
  },
  {
   "cell_type": "code",
   "execution_count": null,
   "metadata": {},
   "outputs": [],
   "source": [
    "file_path = session_files_path_list[0]\n",
    "file_path = session_path / f\"{session_path.stem}.session.mat\"\n",
    "assert file_path.is_file(), file_path\n",
    "\n",
    "mat_file = read_mat(file_path) \n",
    "\n",
    "result = build_keys_and_types(mat_file)\n",
    "json_output = json.dumps(result, indent=2)\n",
    "\n",
    "json_name = \"\".join(file_path.suffixes)[1:] + \".json\"\n",
    "with open(json_directory / json_name, 'w') as f:\n",
    "    f.write(json_output)"
   ]
  },
  {
   "cell_type": "code",
   "execution_count": null,
   "metadata": {},
   "outputs": [],
   "source": []
  },
  {
   "attachments": {},
   "cell_type": "markdown",
   "metadata": {},
   "source": [
    "### `sessionInfo.mat`"
   ]
  },
  {
   "cell_type": "code",
   "execution_count": null,
   "metadata": {},
   "outputs": [],
   "source": [
    "\n",
    "file_path = session_files_path_list[0]\n",
    "file_path = session_path / f\"{session_path.stem}.sessionInfo.mat\"\n",
    "assert file_path.is_file(), file_path\n",
    "\n",
    "mat_file = read_mat(file_path) \n",
    "\n",
    "result = build_keys_and_types(mat_file)\n",
    "json_output = json.dumps(result, indent=2)\n",
    "\n",
    "json_name = \"\".join(file_path.suffixes)[1:] + \".json\"\n",
    "with open(json_directory / json_name, 'w') as f:\n",
    "    f.write(json_output)"
   ]
  },
  {
   "attachments": {},
   "cell_type": "markdown",
   "metadata": {},
   "source": [
    "### `.EventExplorer.SessionMetadata`"
   ]
  },
  {
   "cell_type": "code",
   "execution_count": null,
   "metadata": {},
   "outputs": [],
   "source": [
    "\n",
    "\n",
    "file_path = session_files_path_list[0]\n",
    "file_path = session_path / f\"{session_path.stem}.EventExplorer.SessionMetadata.mat\"\n",
    "\n",
    "assert file_path.is_file(), file_path\n",
    "\n",
    "mat_file = read_mat(file_path) \n",
    "\n",
    "result = build_keys_and_types(mat_file)\n",
    "json_output = json.dumps(result, indent=2)\n",
    "\n",
    "json_name = \"\".join(file_path.suffixes)[1:] + \".json\"\n",
    "with open(json_directory / json_name, 'w') as f:\n",
    "    f.write(json_output)"
   ]
  },
  {
   "attachments": {},
   "cell_type": "markdown",
   "metadata": {},
   "source": [
    "This is empty"
   ]
  },
  {
   "attachments": {},
   "cell_type": "markdown",
   "metadata": {},
   "source": [
    "## Behavior "
   ]
  },
  {
   "attachments": {},
   "cell_type": "markdown",
   "metadata": {},
   "source": [
    "### `Behavior.mat`"
   ]
  },
  {
   "cell_type": "code",
   "execution_count": null,
   "metadata": {},
   "outputs": [],
   "source": [
    "file_path = session_path / f\"{session_path.stem}.Behavior.mat\"\n",
    "assert file_path.is_file(), file_path\n",
    "\n",
    "mat_file = read_mat(file_path) \n",
    "\n",
    "result = build_keys_and_types(mat_file)\n",
    "json_output = json.dumps(result, indent=2)\n",
    "\n",
    "json_name = \"\".join(file_path.suffixes)[1:] + \".json\"\n",
    "with open(json_directory / json_name, 'w') as f:\n",
    "    f.write(json_output)\n"
   ]
  },
  {
   "attachments": {},
   "cell_type": "markdown",
   "metadata": {},
   "source": [
    "### `behavior.cellinfo.mat`"
   ]
  },
  {
   "cell_type": "code",
   "execution_count": null,
   "metadata": {},
   "outputs": [],
   "source": [
    "file_path = session_files_path_list[0]\n",
    "file_path = session_path / f\"{session_path.stem}.behavior.cellinfo.mat\"\n",
    "assert file_path.is_file(), file_path\n",
    "\n",
    "mat_file = read_mat(file_path) \n",
    "\n",
    "result = build_keys_and_types(mat_file)\n",
    "json_output = json.dumps(result, indent=2)\n",
    "\n",
    "json_name = \"\".join(file_path.suffixes)[1:] + \".json\"\n",
    "with open(json_directory / json_name, 'w') as f:\n",
    "    f.write(json_output)\n"
   ]
  },
  {
   "attachments": {},
   "cell_type": "markdown",
   "metadata": {},
   "source": [
    "I think this is the file with the most information. "
   ]
  },
  {
   "attachments": {},
   "cell_type": "markdown",
   "metadata": {},
   "source": [
    "### `Tracking.Behavior.mat`"
   ]
  },
  {
   "cell_type": "code",
   "execution_count": null,
   "metadata": {},
   "outputs": [],
   "source": [
    "file_path = session_files_path_list[0]\n",
    "file_path = session_path / f\"{session_path.stem}.Tracking.Behavior.mat\"\n",
    "assert file_path.is_file(), file_path\n",
    "\n",
    "mat_file = read_mat(file_path) \n",
    "\n",
    "result = build_keys_and_types(mat_file)\n",
    "json_output = json.dumps(result, indent=2)\n",
    "\n",
    "json_name = \"\".join(file_path.suffixes)[1:] + \".json\"\n",
    "with open(json_directory / json_name, 'w') as f:\n",
    "    f.write(json_output)\n"
   ]
  },
  {
   "cell_type": "code",
   "execution_count": null,
   "metadata": {},
   "outputs": [],
   "source": [
    "mat_file[\"tracking\"][\"position\"][\"x\"][:5]"
   ]
  },
  {
   "attachments": {},
   "cell_type": "markdown",
   "metadata": {},
   "source": []
  },
  {
   "attachments": {},
   "cell_type": "markdown",
   "metadata": {},
   "source": [
    "## Subfolder"
   ]
  },
  {
   "attachments": {},
   "cell_type": "markdown",
   "metadata": {},
   "source": [
    "### `Tracking.Behavior.mat` subfolder"
   ]
  },
  {
   "cell_type": "code",
   "execution_count": null,
   "metadata": {},
   "outputs": [],
   "source": [
    "sub_folder = session_path / f\"{session_path.stem.rsplit('_', 1)[0]}_110712\"\n",
    "assert sub_folder.is_dir()\n",
    "file_path = sub_folder / f\"{sub_folder.stem}.Tracking.Behavior.mat\"\n",
    "assert file_path.is_file(), file_path\n",
    "\n",
    "mat_file = read_mat(file_path) \n",
    "\n",
    "result = build_keys_and_types(mat_file)\n",
    "json_output = json.dumps(result, indent=2)\n",
    "\n",
    "json_name = \"\".join(file_path.suffixes)[1:] + \"_sub_folder\" + \".json\"\n",
    "with open(json_directory / json_name, 'w') as f:\n",
    "    f.write(json_output)\n"
   ]
  },
  {
   "cell_type": "code",
   "execution_count": null,
   "metadata": {},
   "outputs": [],
   "source": [
    "mat_file[\"tracking\"][\"position\"][\"x\"][:5]"
   ]
  },
  {
   "attachments": {},
   "cell_type": "markdown",
   "metadata": {},
   "source": [
    "It seems that this in the file above have the same position data"
   ]
  },
  {
   "attachments": {},
   "cell_type": "markdown",
   "metadata": {},
   "source": [
    "### `Linearized.Behavior.mat` subfolder"
   ]
  },
  {
   "cell_type": "code",
   "execution_count": null,
   "metadata": {},
   "outputs": [],
   "source": [
    "sub_folder = session_path / f\"{session_path.stem.rsplit('_', 1)[0]}_110712\"\n",
    "assert sub_folder.is_dir()\n",
    "file_path = sub_folder / f\"{sub_folder.stem}.Linearized.Behavior.mat\"\n",
    "assert file_path.is_file(), file_path\n",
    "\n",
    "mat_file = read_mat(file_path) \n",
    "\n",
    "result = build_keys_and_types(mat_file)\n",
    "json_output = json.dumps(result, indent=2)\n",
    "\n",
    "json_name = \"\".join(file_path.suffixes)[1:] + \"_sub_folder\" + \".json\"\n",
    "with open(json_directory / json_name, 'w') as f:\n",
    "    f.write(json_output)\n"
   ]
  },
  {
   "cell_type": "code",
   "execution_count": null,
   "metadata": {},
   "outputs": [],
   "source": [
    "mat_file[\"behavior\"][\"position\"][\"x\"][:5]"
   ]
  },
  {
   "attachments": {},
   "cell_type": "markdown",
   "metadata": {},
   "source": [
    "And it is the same position again here. \n",
    "\n",
    "However, this has the trials as well."
   ]
  },
  {
   "cell_type": "code",
   "execution_count": null,
   "metadata": {},
   "outputs": [],
   "source": [
    "mat_file[\"behavior\"][\"trials\"][\"startPoint\"][:5]"
   ]
  },
  {
   "attachments": {},
   "cell_type": "markdown",
   "metadata": {},
   "source": [
    "This seems the position and not the times as we need. Let's look for other folder to see if we can find the trials"
   ]
  },
  {
   "attachments": {},
   "cell_type": "markdown",
   "metadata": {},
   "source": [
    "#### Camera matlab file"
   ]
  },
  {
   "cell_type": "code",
   "execution_count": null,
   "metadata": {},
   "outputs": [],
   "source": [
    "file_path = session_files_path_list[0]\n",
    "sub_folder = session_path / f\"{session_path.stem.rsplit('_', 1)[0]}_110712\"\n",
    "assert sub_folder.is_dir()\n",
    "file_path = sub_folder / \"Basler_acA1280-60gc__21606137__20200827_110730202.mat\"\n",
    "assert file_path.is_file(), file_path\n",
    "\n",
    "mat_file = read_mat(file_path) \n",
    "\n",
    "result = build_keys_and_types(mat_file)\n",
    "json_output = json.dumps(result, indent=2)\n",
    "\n",
    "json_name = \"camera\" + \"_sub_folder\" + \".json\"\n",
    "with open(json_directory / json_name, 'w') as f:\n",
    "    f.write(json_output)\n",
    "\n",
    "\n"
   ]
  },
  {
   "attachments": {},
   "cell_type": "markdown",
   "metadata": {},
   "source": [
    "Here they just copied the camera frame by frame (!)\n",
    "\n",
    "```\n",
    "\n",
    "{\n",
    "  \"frames\": {\n",
    "    \"r\": {\n",
    "      \"type\": \"<class 'numpy.ndarray'>\",\n",
    "      \"shape\": \"(1024, 204, 53143)\"\n",
    "    }\n",
    "  }\n",
    "}\n",
    "```\n",
    "How long is the video 53_143 / 30 = 1_771.43 seconds -> 29.52 minutes\n",
    "\n",
    "Taking the sampling_rate of 30 Hz, we can see that the video is 1_771.43 seconds long and the ntransform to minutes."
   ]
  },
  {
   "attachments": {},
   "cell_type": "markdown",
   "metadata": {},
   "source": [
    "### Virtual maze mat"
   ]
  },
  {
   "cell_type": "code",
   "execution_count": null,
   "metadata": {},
   "outputs": [],
   "source": [
    "file_path = session_files_path_list[0]\n",
    "sub_folder = session_path / f\"{session_path.stem.rsplit('_', 1)[0]}_110712\"\n",
    "assert sub_folder.is_dir()\n",
    "file_path = sub_folder / \"virtualMaze.mat\"\n",
    "assert file_path.is_file(), file_path\n",
    "\n",
    "mat_file = read_mat(file_path) \n",
    "\n",
    "result = build_keys_and_types(mat_file)\n",
    "json_output = json.dumps(result, indent=2)\n",
    "\n",
    "json_name = f\"{file_path.stem}\" + \"_sub_folder\" + \".json\"\n",
    "with open(json_directory / json_name, 'w') as f:\n",
    "    f.write(json_output)\n"
   ]
  },
  {
   "attachments": {},
   "cell_type": "markdown",
   "metadata": {},
   "source": [
    "This seems just like a map of the maze\n",
    "\n",
    "```\n",
    "  \"maze\": {\n",
    "    \"type\": \"<class 'numpy.ndarray'>\",\n",
    "    \"value\": \"[[ 11.09870461 109.25348571]\\n [ 12.12486221   0.85756268]]\"\n",
    "  }\n",
    "```"
   ]
  },
  {
   "attachments": {},
   "cell_type": "markdown",
   "metadata": {},
   "source": [
    "### Roi tracking .mat file"
   ]
  },
  {
   "cell_type": "code",
   "execution_count": null,
   "metadata": {},
   "outputs": [],
   "source": [
    "file_path = session_files_path_list[0]\n",
    "sub_folder = session_path / f\"{session_path.stem.rsplit('_', 1)[0]}_110712\"\n",
    "assert sub_folder.is_dir()\n",
    "file_path = sub_folder / \"roiTracking.mat\"\n",
    "assert file_path.is_file(), file_path\n",
    "\n",
    "mat_file = read_mat(file_path) \n",
    "\n",
    "result = build_keys_and_types(mat_file)\n",
    "json_output = json.dumps(result, indent=2)\n",
    "\n",
    "json_name = f\"{file_path.stem}\" + \"_sub_folder\" + \".json\"\n",
    "with open(json_directory / json_name, 'w') as f:\n",
    "    f.write(json_output)\n"
   ]
  },
  {
   "attachments": {},
   "cell_type": "markdown",
   "metadata": {},
   "source": [
    "I think this is a just a map with the reigon where they are doing the tracking of the position with the camera:\n",
    "\n",
    "```\n",
    "  \"roiTracking\": {\n",
    "    \"type\": \"<class 'numpy.ndarray'>\",\n",
    "    \"value\": \"[[  31.25 1015.  ]\\n [ 185.75 1019.5 ]\\n [ 184.25    5.5 ]\\n [  17.75    2.5 ]\\n [  31.25 1015.  ]]\"\n",
    "  }\n",
    "```"
   ]
  },
  {
   "attachments": {},
   "cell_type": "markdown",
   "metadata": {},
   "source": [
    "### Amplifier digital events `.mat`"
   ]
  },
  {
   "cell_type": "code",
   "execution_count": null,
   "metadata": {},
   "outputs": [],
   "source": [
    "file_path = session_files_path_list[0]\n",
    "sub_folder = session_path / f\"{session_path.stem.rsplit('_', 1)[0]}_110712\"\n",
    "assert sub_folder.is_dir()\n",
    "file_path = sub_folder / \"amplifier.DigitalIn.events.mat\"\n",
    "assert file_path.is_file(), file_path\n",
    "\n",
    "mat_file = read_mat(file_path) \n",
    "\n",
    "result = build_keys_and_types(mat_file)\n",
    "json_output = json.dumps(result, indent=2)\n",
    "\n",
    "json_name = f\"{file_path.stem}\" + \"_sub_folder\" + \".json\"\n",
    "with open(json_directory / json_name, 'w') as f:\n",
    "    f.write(json_output)\n"
   ]
  },
  {
   "cell_type": "code",
   "execution_count": null,
   "metadata": {},
   "outputs": [],
   "source": [
    "mat_file[\"digitalIn\"].keys()"
   ]
  },
  {
   "cell_type": "code",
   "execution_count": null,
   "metadata": {},
   "outputs": [],
   "source": [
    "mat_file[\"digitalIn\"][\"ints\"][0].shape"
   ]
  },
  {
   "cell_type": "code",
   "execution_count": null,
   "metadata": {},
   "outputs": [],
   "source": [
    "mat_file[\"digitalIn\"][\"ints\"][0]  # I think those ar the intervals of the pulses in the local time for the behavior"
   ]
  },
  {
   "cell_type": "code",
   "execution_count": null,
   "metadata": {},
   "outputs": [],
   "source": [
    "mat_file[\"digitalIn\"][\"dur\"][1]  # I don't think they are ordered though"
   ]
  },
  {
   "cell_type": "code",
   "execution_count": null,
   "metadata": {},
   "outputs": [],
   "source": []
  },
  {
   "attachments": {},
   "cell_type": "markdown",
   "metadata": {},
   "source": [
    "This is pulse duration"
   ]
  },
  {
   "cell_type": "code",
   "execution_count": null,
   "metadata": {},
   "outputs": [],
   "source": [
    "mat_file[\"digitalIn\"][\"intsPeriods\"]  # Note sure what it is this"
   ]
  },
  {
   "attachments": {},
   "cell_type": "markdown",
   "metadata": {},
   "source": [
    "#### TTL / Synch\n",
    "\n",
    "```\n",
    "dict_keys(['timestampsOn', 'timestampsOff', 'ints', 'dur', 'intsPeriods'])\n",
    "```\n",
    "I think this is the TTLs that synchronize the events. Come to this again."
   ]
  },
  {
   "cell_type": "code",
   "execution_count": null,
   "metadata": {},
   "outputs": [],
   "source": [
    "mat_file[\"digitalIn\"][\"timestampsOff\"][0].shape"
   ]
  },
  {
   "cell_type": "code",
   "execution_count": null,
   "metadata": {},
   "outputs": [],
   "source": [
    "mat_file[\"digitalIn\"][\"timestampsOff\"][3].shape"
   ]
  },
  {
   "cell_type": "code",
   "execution_count": null,
   "metadata": {},
   "outputs": [],
   "source": [
    "mat_file[\"digitalIn\"][\"dur\"][0].shape"
   ]
  },
  {
   "attachments": {},
   "cell_type": "markdown",
   "metadata": {},
   "source": [
    "### Analog signals in sub-folder"
   ]
  },
  {
   "attachments": {},
   "cell_type": "markdown",
   "metadata": {},
   "source": [
    "We have the following\n",
    "* `auxiliary.dat`\n",
    "* `supply.dat`\n",
    "* `time.dat`\n",
    "* `digitalin.dat`\n",
    "\n",
    "But two xml files:\n",
    "* `fCamk1_200827_sess9.xml` which I guess it the main recorder\n",
    "* `amplifier.xml` which I don't know what it does.\n",
    "\n",
    "The first is on the top directory, the other one is here.\n",
    "\n",
    "Note that in the sub-folder we only have `amplifier.xml` are they different?\n",
    "\n",
    "Let's test this"
   ]
  },
  {
   "cell_type": "code",
   "execution_count": null,
   "metadata": {},
   "outputs": [],
   "source": [
    "xml_file_path =  session_path /  \"fCamk1_200827_sess9.xml\"\n",
    "\n",
    "from xml.etree import ElementTree\n",
    "\n",
    "tree = ElementTree.parse(xml_file_path)\n",
    "root = tree.getroot()\n",
    "acq = root.find('acquisitionSystem')\n",
    "nbits = int(acq.find('nBits').text)\n",
    "num_channels = int(acq.find('nChannels').text)\n",
    "sampling_rate = float(acq.find('samplingRate').text)\n",
    "voltage_range = float(acq.find('voltageRange').text)\n",
    "# offset = int(acq.find('offset').text)\n",
    "amplification = float(acq.find('amplification').text)\n",
    "\n",
    "print(f\"{num_channels=}, {sampling_rate=}, {voltage_range=}, {amplification=}\")\n"
   ]
  },
  {
   "cell_type": "code",
   "execution_count": null,
   "metadata": {},
   "outputs": [],
   "source": [
    "\n",
    "sub_folder = session_path / f\"{session_path.stem.rsplit('_', 1)[0]}_110712\"\n",
    "assert sub_folder.is_dir()\n",
    "\n",
    "xml_file_path =  sub_folder /  \"amplifier.xml\"\n",
    "\n",
    "from xml.etree import ElementTree\n",
    "\n",
    "tree = ElementTree.parse(xml_file_path)\n",
    "root = tree.getroot()\n",
    "acq = root.find('acquisitionSystem')\n",
    "nbits = int(acq.find('nBits').text)\n",
    "num_channels = int(acq.find('nChannels').text)\n",
    "sampling_rate = float(acq.find('samplingRate').text)\n",
    "voltage_range = float(acq.find('voltageRange').text)\n",
    "# offset = int(acq.find('offset').text)\n",
    "amplification = float(acq.find('amplification').text)\n",
    "\n",
    "print(f\"{num_channels=}, {sampling_rate=}, {voltage_range=}, {amplification=}\")\n"
   ]
  },
  {
   "attachments": {},
   "cell_type": "markdown",
   "metadata": {},
   "source": [
    "Output:\n",
    "The top level:\n",
    "```\n",
    "num_channels=32, sampling_rate=30000.0, voltage_range=20.0, amplification=1000.0\n",
    "```\n",
    "\n",
    "The amplifier:\n",
    "```\n",
    "num_channels=32, sampling_rate=30000.0, voltage_range=20.0, amplification=1000.0\n",
    "```\n",
    "\n",
    "They seem similar. I wonder what we have two but we have a lot of redundancy in the conversion data."
   ]
  },
  {
   "attachments": {},
   "cell_type": "markdown",
   "metadata": {},
   "source": [
    "### Signals"
   ]
  },
  {
   "cell_type": "code",
   "execution_count": null,
   "metadata": {},
   "outputs": [],
   "source": [
    "signal_names = [\"digitalin.dat\", \"time.dat\", \"supply.dat\", \"auxiliary.dat\"]\n",
    "\n",
    "\n",
    "from spikeinterface.extractors.neoextractors import NeuroScopeRecordingExtractor\n",
    "\n",
    "sub_folder = session_path / f\"{session_path.stem.rsplit('_', 1)[0]}_110712\"\n",
    "assert sub_folder.is_dir()\n",
    "\n",
    "for name in signal_names:\n",
    "    file_path = sub_folder / f\"{name}\" \n",
    "    assert file_path.is_file(), file_path\n",
    "\n",
    "    sig_dtype = 'int16' if nbits <= 16 else 'int32'\n",
    "    data = np.memmap(file_path, dtype=sig_dtype, mode='r', offset=0).reshape(-1, num_channels)\n",
    "    time = data.shape[0] / sampling_rate\n",
    "    num_samples = data.shape[0]\n",
    "\n",
    "    print(\"---------------\")\n",
    "    print(f\"{file_path.name=} \\n\")\n",
    "    print(f\"num_samples: {num_samples:,}, time: {time:.2f} seconds\")"
   ]
  },
  {
   "attachments": {},
   "cell_type": "markdown",
   "metadata": {},
   "source": [
    "Output:\n",
    "```\n",
    "---------------\n",
    "file_path.name='digitalin.dat' \n",
    "\n",
    "num_samples: 1,684,470, time: 56.15 seconds\n",
    "---------------\n",
    "file_path.name='time.dat' \n",
    "\n",
    "num_samples: 3,368,940, time: 112.30 seconds\n",
    "---------------\n",
    "file_path.name='supply.dat' \n",
    "\n",
    "num_samples: 1,684,470, time: 56.15 seconds\n",
    "---------------\n",
    "file_path.name='auxiliary.dat' \n",
    "\n",
    "num_samples: 5,053,410, time: 168.45 seconds\n",
    "```"
   ]
  },
  {
   "attachments": {},
   "cell_type": "markdown",
   "metadata": {},
   "source": [
    "## `ripples.events.mat`"
   ]
  },
  {
   "cell_type": "code",
   "execution_count": null,
   "metadata": {},
   "outputs": [],
   "source": [
    "file_path = session_files_path_list[0]\n",
    "file_path = session_path / f\"{session_path.stem}.ripples.events.mat\"\n",
    "assert file_path.is_file(), file_path\n",
    "\n",
    "mat_file = read_mat(file_path) \n",
    "\n",
    "result = build_keys_and_types(mat_file)\n",
    "json_output = json.dumps(result, indent=2)\n",
    "\n",
    "json_name = \"\".join(file_path.suffixes)[1:] + \".json\"\n",
    "with open(json_directory / json_name, 'w') as f:\n",
    "    f.write(json_output)"
   ]
  },
  {
   "cell_type": "code",
   "execution_count": null,
   "metadata": {},
   "outputs": [],
   "source": [
    "ripple_intervals = ripples_data[\"timestamps\"]\n",
    "peaks = ripples_data[\"peaks\"]\n",
    "peak_normed_power = ripples_data[\"peakNormedPower\"]\n",
    "\n",
    "ripple_stats_data = ripples_data[\"rippleStats\"][\"data\"]\n",
    "peak_frequency = ripple_stats_data[\"peakFrequency\"]\n",
    "peak_duration = ripple_stats_data[\"duration\"]\n",
    "peak_amplitude = ripple_stats_data[\"peakAmplitude\"]\n",
    "\n",
    "peaks.shape, peak_normed_power.shape, peak_frequency.shape, peak_duration.shape, peak_amplitude.shape"
   ]
  },
  {
   "cell_type": "code",
   "execution_count": null,
   "metadata": {},
   "outputs": [],
   "source": [
    "# Extract indexed data\n",
    "ripple_stats_maps = ripples_data[\"rippleStats\"][\"maps\"]\n",
    "\n",
    "ripple_raw = ripple_stats_maps[\"ripples_raw\"]\n",
    "ripple_frequency = ripple_stats_maps[\"frequency\"]\n",
    "ripple_phase = ripple_stats_maps[\"phase\"]\n",
    "ripple_amplitude = ripple_stats_maps[\"amplitude\"]\n",
    "ripple_raw.shape, ripple_frequency.shape, ripple_phase.shape, ripple_amplitude.shape"
   ]
  },
  {
   "attachments": {},
   "cell_type": "markdown",
   "metadata": {},
   "source": [
    "## Channels"
   ]
  },
  {
   "attachments": {},
   "cell_type": "markdown",
   "metadata": {},
   "source": [
    "### Channel map"
   ]
  },
  {
   "cell_type": "code",
   "execution_count": null,
   "metadata": {},
   "outputs": [],
   "source": [
    "file_path = session_path / \"chanMap.mat\"\n",
    "assert file_path.is_file(), file_path\n",
    "\n",
    "mat_file = read_mat(file_path) \n",
    "\n",
    "result = build_keys_and_types(mat_file)\n",
    "json_output = json.dumps(result, indent=2)\n",
    "\n",
    "json_name = \"chanMap\"+ \".json\"\n",
    "with open(json_directory / json_name, 'w') as f:\n",
    "    f.write(json_output)\n"
   ]
  },
  {
   "cell_type": "code",
   "execution_count": null,
   "metadata": {},
   "outputs": [],
   "source": [
    "connected = mat_file[\"connected\"]  "
   ]
  },
  {
   "cell_type": "code",
   "execution_count": null,
   "metadata": {},
   "outputs": [],
   "source": [
    "mat_file[\"chanMap\"]"
   ]
  },
  {
   "cell_type": "code",
   "execution_count": null,
   "metadata": {},
   "outputs": [],
   "source": [
    "mat_file[\"chanMap0ind\"]"
   ]
  },
  {
   "attachments": {},
   "cell_type": "markdown",
   "metadata": {},
   "source": []
  },
  {
   "attachments": {},
   "cell_type": "markdown",
   "metadata": {},
   "source": [
    "## LED"
   ]
  },
  {
   "cell_type": "code",
   "execution_count": null,
   "metadata": {},
   "outputs": [],
   "source": [
    "condition = lambda file_path : \"LED\" in file_path.name\n",
    "led_files = [file_path for file_path in session_files_path_list if condition(file_path)] \n",
    "\n",
    "files_as_string = format_files_as_string(led_files)\n",
    "files_as_string"
   ]
  },
  {
   "cell_type": "code",
   "execution_count": null,
   "metadata": {},
   "outputs": [],
   "source": []
  },
  {
   "cell_type": "code",
   "execution_count": null,
   "metadata": {},
   "outputs": [],
   "source": [
    "for file_path in led_files:\n",
    "    if \"uLEDResponse_raster\" in file_path.name:\n",
    "        continue\n",
    "    print(file_path.name)\n",
    "    assert file_path.is_file(), file_path\n",
    "\n",
    "    mat_file = read_mat(file_path) \n",
    "\n",
    "    result = build_keys_and_types(mat_file)\n",
    "    json_output = json.dumps(result, indent=2)\n",
    "\n",
    "    json_name = \"\".join(file_path.suffixes)[1:] + \".json\"\n",
    "    with open(json_directory / json_name, 'w') as f:\n",
    "        f.write(json_output)\n"
   ]
  },
  {
   "attachments": {},
   "cell_type": "markdown",
   "metadata": {},
   "source": [
    "## Optogenetic"
   ]
  },
  {
   "cell_type": "code",
   "execution_count": null,
   "metadata": {},
   "outputs": [],
   "source": [
    "condition = lambda file_path : \"optogenetic\" in file_path.name\n",
    "files = [file_path for file_path in session_files_path_list if condition(file_path)] \n",
    "\n",
    "files_as_string = format_files_as_string(files)\n",
    "files_as_string"
   ]
  },
  {
   "cell_type": "code",
   "execution_count": null,
   "metadata": {},
   "outputs": [],
   "source": [
    "file_path = session_path / f\"{session_path.stem}.optogeneticPulses.events.mat\"\n",
    "assert file_path.is_file(), file_path\n",
    "\n",
    "mat_file = read_mat(file_path)\n",
    "result = build_keys_and_types(mat_file)\n",
    "json_output = json.dumps(result, indent=2)\n",
    "\n",
    "json_name = \"\".join(file_path.suffixes)[1:] + \".json\"\n",
    "with open(json_directory / json_name, 'w') as f:\n",
    "    f.write(json_output)\n"
   ]
  },
  {
   "cell_type": "code",
   "execution_count": null,
   "metadata": {},
   "outputs": [],
   "source": [
    "file_path = session_path / f\"{session_path.stem}.optogeneticResponse.cellinfo.mat\"\n",
    "assert file_path.is_file(), file_path\n",
    "\n",
    "import h5py \n",
    "\n",
    "file_path = h5py.File(file_path, 'r')\n",
    "# mat_file = read_mat(file_path) \n",
    "file_path[\"optogeneticResponses\"].keys()\n"
   ]
  },
  {
   "cell_type": "code",
   "execution_count": null,
   "metadata": {},
   "outputs": [],
   "source": [
    "file_path[\"optogeneticResponses\"][\"stimulationEpochs\"][:][:, :2]"
   ]
  },
  {
   "cell_type": "code",
   "execution_count": null,
   "metadata": {},
   "outputs": [],
   "source": []
  },
  {
   "attachments": {},
   "cell_type": "markdown",
   "metadata": {},
   "source": [
    "## EEG"
   ]
  },
  {
   "cell_type": "code",
   "execution_count": null,
   "metadata": {},
   "outputs": [],
   "source": [
    "condition = lambda file_path : \"eeg\" in file_path.name\n",
    "files = [file_path for file_path in session_files_path_list if condition(file_path)] \n",
    "\n",
    "files_as_string = format_files_as_string(files)\n",
    "files_as_string\n",
    "\n"
   ]
  },
  {
   "cell_type": "code",
   "execution_count": null,
   "metadata": {},
   "outputs": [],
   "source": [
    "file_path = session_path / f\"{session_path.stem}.eegstates.mat\"\n",
    "assert file_path.is_file(), file_path\n",
    "\n",
    "mat_file = read_mat(file_path)\n",
    "result = build_keys_and_types(mat_file)\n",
    "json_output = json.dumps(result, indent=2)\n",
    "\n",
    "json_name = \"\".join(file_path.suffixes)[1:] + \".json\"\n",
    "with open(json_directory / json_name, 'w') as f:\n",
    "    f.write(json_output)\n"
   ]
  },
  {
   "attachments": {},
   "cell_type": "markdown",
   "metadata": {},
   "source": [
    "## `SleepState.states`"
   ]
  },
  {
   "cell_type": "code",
   "execution_count": null,
   "metadata": {},
   "outputs": [],
   "source": [
    "file_path = session_path / f\"{session_path.stem}.SleepState.states.mat\"\n",
    "assert file_path.is_file(), file_path\n",
    "\n",
    "mat_file = read_mat(file_path)\n",
    "result = build_keys_and_types(mat_file)\n",
    "json_output = json.dumps(result, indent=2)\n",
    "\n",
    "json_name = \"\".join(file_path.suffixes)[1:] + \".json\"\n",
    "with open(json_directory / json_name, 'w') as f:\n",
    "    f.write(json_output)\n"
   ]
  },
  {
   "attachments": {},
   "cell_type": "markdown",
   "metadata": {},
   "source": [
    "## EMG\n",
    "It seems there is only one file"
   ]
  },
  {
   "cell_type": "code",
   "execution_count": null,
   "metadata": {},
   "outputs": [],
   "source": [
    "file_path = session_path / f\"{session_path.stem}.EMGFromLFP.LFP.mat\"\n",
    "assert file_path.is_file(), file_path\n",
    "\n",
    "mat_file = read_mat(file_path)\n",
    "result = build_keys_and_types(mat_file)\n",
    "json_output = json.dumps(result, indent=2)\n",
    "\n",
    "json_name = \"\".join(file_path.suffixes)[1:] + \".json\"\n",
    "with open(json_directory / json_name, 'w') as f:\n",
    "    f.write(json_output)"
   ]
  },
  {
   "attachments": {},
   "cell_type": "markdown",
   "metadata": {},
   "source": [
    "## Theta (`thetaEpochs.states`)"
   ]
  },
  {
   "cell_type": "code",
   "execution_count": null,
   "metadata": {},
   "outputs": [],
   "source": [
    "file_path = session_path / f\"{session_path.stem}.thetaEpochs.states.mat\"\n",
    "assert file_path.is_file(), file_path\n",
    "mat_file = read_mat(file_path)\n",
    "\n",
    "result = build_keys_and_types(mat_file)\n",
    "json_output = json.dumps(result, indent=2)\n",
    "\n",
    "json_name = \"\".join(file_path.suffixes)[1:] + \".json\"\n",
    "with open(json_directory / json_name, 'w') as f:\n",
    "    f.write(json_output)\n"
   ]
  },
  {
   "attachments": {},
   "cell_type": "markdown",
   "metadata": {},
   "source": [
    "## `pulses.events.mat`"
   ]
  },
  {
   "cell_type": "code",
   "execution_count": null,
   "metadata": {},
   "outputs": [],
   "source": [
    "file_path = session_path / f\"{session_path.stem}.pulses.events.mat\"\n",
    "assert file_path.is_file(), file_path\n",
    "\n",
    "mat_file = read_mat(file_path)\n",
    "result = build_keys_and_types(mat_file)\n",
    "json_output = json.dumps(result, indent=2)\n",
    "\n",
    "json_name = \"\".join(file_path.suffixes)[1:] + \".json\"\n",
    "with open(json_directory / json_name, 'w') as f:\n",
    "    f.write(json_output)\n"
   ]
  },
  {
   "cell_type": "code",
   "execution_count": null,
   "metadata": {},
   "outputs": [],
   "source": [
    "mat_file[\"pulses\"].keys()"
   ]
  },
  {
   "cell_type": "code",
   "execution_count": null,
   "metadata": {},
   "outputs": [],
   "source": [
    "mat_file[\"pulses\"][\"eventGroupID\"][:][:5]"
   ]
  },
  {
   "cell_type": "code",
   "execution_count": null,
   "metadata": {},
   "outputs": [],
   "source": [
    "mat_file[\"pulses\"][\"analogChannel\"][:][:5]"
   ]
  },
  {
   "cell_type": "markdown",
   "metadata": {},
   "source": [
    "## `ws_temp.mat`"
   ]
  },
  {
   "cell_type": "code",
   "execution_count": null,
   "metadata": {},
   "outputs": [],
   "source": [
    "file_path = session_path / f\"ws_temp.mat\"\n",
    "assert file_path.is_file(), file_path\n",
    "\n",
    "mat_file = read_mat(file_path)\n",
    "result = build_keys_and_types(mat_file)\n",
    "json_output = json.dumps(result, indent=2)\n",
    "\n",
    "json_name = \"ws_temp\" + \".json\"\n",
    "with open(json_directory / json_name, 'w') as f:\n",
    "    f.write(json_output)\n"
   ]
  },
  {
   "cell_type": "code",
   "execution_count": null,
   "metadata": {},
   "outputs": [],
   "source": []
  },
  {
   "cell_type": "code",
   "execution_count": null,
   "metadata": {},
   "outputs": [],
   "source": []
  },
  {
   "attachments": {},
   "cell_type": "markdown",
   "metadata": {},
   "source": [
    "## Analog signals in top folder"
   ]
  },
  {
   "attachments": {},
   "cell_type": "markdown",
   "metadata": {},
   "source": [
    "### Raw signal and LFP"
   ]
  },
  {
   "cell_type": "code",
   "execution_count": null,
   "metadata": {},
   "outputs": [],
   "source": [
    "file_path = session_files_path_list[0]\n",
    "file_path = session_path / f\"{session_path.stem}.dat\"\n",
    "assert file_path.is_file(), file_path\n",
    "\n",
    "from spikeinterface.extractors.neoextractors import NeuroScopeRecordingExtractor\n",
    "\n",
    "recording = NeuroScopeRecordingExtractor(file_path=file_path)\n",
    "recording"
   ]
  },
  {
   "attachments": {},
   "cell_type": "markdown",
   "metadata": {},
   "source": [
    "Output:\n",
    "```\n",
    "NeuroScopeRecordingExtractor: 32 channels - 30.0kHz - 1 segments - 537,603,840 samples \n",
    "                              17,920.13s (4.98 hours) - int16 dtype - 32.04 GiB\n",
    "  file_path: /home/heberto/buzaki/fCamk1_200827_sess9/fCamk1_200827_sess9.dat\n",
    "```\n",
    "We see this is around 5 hours of recording. "
   ]
  },
  {
   "cell_type": "code",
   "execution_count": null,
   "metadata": {},
   "outputs": [],
   "source": [
    "file_path = session_files_path_list[0]\n",
    "file_path = session_path / f\"{session_path.stem}.lfp\"\n",
    "assert file_path.is_file(), file_path\n",
    "\n",
    "from spikeinterface.extractors.neoextractors import NeuroScopeRecordingExtractor\n",
    "\n",
    "recording = NeuroScopeRecordingExtractor(file_path=file_path)\n",
    "recording"
   ]
  },
  {
   "attachments": {},
   "cell_type": "markdown",
   "metadata": {},
   "source": [
    "Here we see that the sampling rate is wrong. Let's test with the current value from the paper"
   ]
  },
  {
   "cell_type": "code",
   "execution_count": null,
   "metadata": {},
   "outputs": [],
   "source": [
    "sampling_rate = 1.25 * 10**3 # 1.25 kHz\n",
    "duration_seconds = recording.get_num_frames() / sampling_rate\n",
    "duration_minutes = duration_seconds / 60.0\n",
    "duration_hours = duration_minutes / 60.0\n",
    "duration_hours"
   ]
  },
  {
   "cell_type": "markdown",
   "metadata": {},
   "source": [
    "The output is five hours. This should be corrected"
   ]
  },
  {
   "attachments": {},
   "cell_type": "markdown",
   "metadata": {},
   "source": [
    "### Other signals in top folder\n",
    "We have the following\n",
    "* `analogin.dat`\n",
    "* `auxiliary.dat`\n",
    "* `supply.dat`\n",
    "* `time.dat`\n",
    "* `digitalin.dat`\n",
    "\n",
    "\n",
    "Let's check the XML first from where their metadata comes from:"
   ]
  },
  {
   "cell_type": "code",
   "execution_count": null,
   "metadata": {},
   "outputs": [],
   "source": [
    "xml_file_path =  session_path /  \"fCamk1_200827_sess9.xml\"\n",
    "\n",
    "from xml.etree import ElementTree\n",
    "\n",
    "tree = ElementTree.parse(xml_file_path)\n",
    "root = tree.getroot()\n",
    "acq = root.find('acquisitionSystem')\n",
    "nbits = int(acq.find('nBits').text)\n",
    "num_channels = int(acq.find('nChannels').text)\n",
    "sampling_rate = float(acq.find('samplingRate').text)\n",
    "voltage_range = float(acq.find('voltageRange').text)\n",
    "# offset = int(acq.find('offset').text)\n",
    "amplification = float(acq.find('amplification').text)\n",
    "\n",
    "print(f\"{num_channels=}, {sampling_rate=}, {voltage_range=}, {amplification=}\")\n"
   ]
  },
  {
   "cell_type": "code",
   "execution_count": null,
   "metadata": {},
   "outputs": [],
   "source": [
    "signal_names = [\"digitalin.dat\", \"time.dat\", \"supply.dat\", \"auxiliary.dat\", \"analogin.dat\"]\n",
    "\n",
    "\n",
    "for name in signal_names:\n",
    "    file_path = session_path / f\"{name}\" \n",
    "    assert file_path.is_file(), file_path\n",
    "\n",
    "    sig_dtype = 'int16' if nbits <= 16 else 'int32'\n",
    "    data = np.memmap(file_path, dtype=sig_dtype, mode='r', offset=0).reshape(-1, num_channels)\n",
    "    time = data.shape[0] / sampling_rate\n",
    "    num_samples = data.shape[0]\n",
    "\n",
    "    print(\"---------------\")\n",
    "    print(f\"{file_path.name=} \\n\")\n",
    "    print(f\"num_samples: {num_samples:,}, time: {time / 60.0:.2f} minutes\")"
   ]
  },
  {
   "attachments": {},
   "cell_type": "markdown",
   "metadata": {},
   "source": [
    "Output:\n",
    "They seem too short:\n",
    "```\n",
    "---------------\n",
    "file_path.name='digitalin.dat' \n",
    "\n",
    "num_samples: 16,800,120, time: 9.33 minutes\n",
    "---------------\n",
    "file_path.name='time.dat' \n",
    "\n",
    "num_samples: 33,600,240, time: 18.67 minutes\n",
    "---------------\n",
    "file_path.name='supply.dat' \n",
    "\n",
    "num_samples: 16,800,120, time: 9.33 minutes\n",
    "---------------\n",
    "file_path.name='auxiliary.dat' \n",
    "\n",
    "num_samples: 50,400,360, time: 28.00 minutes\n",
    "---------------\n",
    "file_path.name='analogin.dat' \n",
    "\n",
    "num_samples: 134,400,960, time: 74.67 minutes\n",
    "```"
   ]
  },
  {
   "attachments": {},
   "cell_type": "markdown",
   "metadata": {},
   "source": [
    "## Camera / Video"
   ]
  },
  {
   "cell_type": "code",
   "execution_count": null,
   "metadata": {},
   "outputs": [],
   "source": [
    "sub_folder = session_path / f\"{session_path.stem.rsplit('_', 1)[0]}_110712\"\n",
    "assert sub_folder.is_dir()\n",
    "file_path = sub_folder / \"Basler_acA1280-60gc__21606137__20200827_110730202.avi\"\n",
    "assert file_path.is_file(), file_path"
   ]
  },
  {
   "cell_type": "code",
   "execution_count": null,
   "metadata": {},
   "outputs": [],
   "source": [
    "file_path"
   ]
  },
  {
   "cell_type": "code",
   "execution_count": null,
   "metadata": {},
   "outputs": [],
   "source": [
    "sub_folder = session_path / f\"{session_path.stem.rsplit('_', 1)[0]}_110712\"\n",
    "assert sub_folder.is_dir()\n",
    "file_path = sub_folder / \"Basler_acA1280-60gc__21606137__20200827_110730202.avi\"\n",
    "assert file_path.is_file(), file_path\n",
    "\n",
    "# Use Pyav to get the video metadata\n",
    "import av\n",
    "container = av.open(str(file_path))\n",
    "\n",
    "video = container.streams.video[0]\n",
    "\n",
    "print(\"width\", video.codec_context.width)\n",
    "print(\"height\", video.codec_context.height)\n",
    "print(\"pixel format\", video.codec_context.pix_fmt)\n",
    "print(\"frame rate\", video.codec_context.framerate)\n",
    "print(\"bit rate\", video.codec_context.bit_rate)\n",
    "print(\"codec\", video.codec_context.codec_tag)\n",
    "\n"
   ]
  },
  {
   "cell_type": "code",
   "execution_count": null,
   "metadata": {},
   "outputs": [],
   "source": [
    "video.start_time, video.average_rate, video.duration, video.time_base"
   ]
  },
  {
   "cell_type": "code",
   "execution_count": null,
   "metadata": {},
   "outputs": [],
   "source": [
    "from neuroconv.datainterfaces.behavior.video.video_utils import get_video_timestamps\n",
    "\n",
    "timestamps_cv = get_video_timestamps(file_path)\n"
   ]
  },
  {
   "cell_type": "code",
   "execution_count": null,
   "metadata": {},
   "outputs": [],
   "source": [
    "from neuroconv.datainterfaces.behavior.sleap.sleap_utils import extract_timestamps\n",
    "\n",
    "\n",
    "timestamps_sleap = np.array(extract_timestamps(file_path))"
   ]
  },
  {
   "cell_type": "code",
   "execution_count": null,
   "metadata": {},
   "outputs": [],
   "source": [
    "timestamps_cv.shape, timestamps_sleap.shape"
   ]
  },
  {
   "cell_type": "code",
   "execution_count": null,
   "metadata": {},
   "outputs": [],
   "source": [
    "timestamps_cv[0], timestamps_sleap[0]"
   ]
  },
  {
   "cell_type": "code",
   "execution_count": null,
   "metadata": {},
   "outputs": [],
   "source": [
    "1 / 30.0"
   ]
  },
  {
   "cell_type": "code",
   "execution_count": null,
   "metadata": {},
   "outputs": [],
   "source": [
    "timestmaps_cv_shifted = timestamps_cv + 0.0333333333333333\n",
    "np.isclose(timestmaps_cv_shifted, timestamps_sleap)"
   ]
  },
  {
   "cell_type": "code",
   "execution_count": null,
   "metadata": {},
   "outputs": [],
   "source": [
    "np.allclose(timestmaps_cv_shifted, timestamps_sleap)"
   ]
  },
  {
   "cell_type": "code",
   "execution_count": null,
   "metadata": {},
   "outputs": [],
   "source": [
    "import av\n",
    "\n",
    "container = av.open(str(file_path))\n",
    "stream = container.streams.video[0]\n",
    "\n",
    "counter = 0\n",
    "for frame in container.decode(stream):\n",
    "    time_base = frame.time_base\n",
    "    dts_time = float(frame.dts * time_base)\n",
    "    pts_time = float(frame.pts * time_base)\n",
    "    time = float(frame.time)\n",
    "    print(f\"{dts_time= }, {pts_time=}, {time=}\")\n",
    "    counter += 1\n",
    "    \n",
    "    if counter > 5:\n",
    "        break\n"
   ]
  },
  {
   "cell_type": "code",
   "execution_count": null,
   "metadata": {},
   "outputs": [],
   "source": [
    "counter = 0\n",
    "for packet in container.demux(stream):\n",
    "    print(f\"{counter=}\")\n",
    "    print('Packet PTS:', packet.pts)\n",
    "    print('Packet DTS:', packet.dts)\n",
    "    print('Packet Duration:', packet.duration)\n",
    "    print('Packet Timebase:', packet.time_base)\n",
    "    \n",
    "    counter += 1\n",
    "    if counter > 5:\n",
    "        break"
   ]
  },
  {
   "cell_type": "code",
   "execution_count": null,
   "metadata": {},
   "outputs": [],
   "source": [
    "import av\n",
    "\n",
    "# Open the video file\n",
    "container = av.open(str(file_path))\n",
    "stream = container.streams.video[0]\n",
    "\n",
    "# Iterate over the first 10 packets in the video stream\n",
    "for i, packet in enumerate(container.demux(stream)):\n",
    "    print(f'Packet #{i + 1}:')\n",
    "    print('PTS:', packet.pts)\n",
    "    print('DTS:', packet.dts)\n",
    "    print('Duration:', packet.duration)\n",
    "    print('Timebase:', packet.time_base)\n",
    "    print('\\n')  # Print a newline for readability\n",
    "    \n",
    "    # Stop after 10 packets\n",
    "    if i >= 9:\n",
    "        break"
   ]
  },
  {
   "attachments": {},
   "cell_type": "markdown",
   "metadata": {},
   "source": [
    "# Epochs\n"
   ]
  },
  {
   "cell_type": "code",
   "execution_count": null,
   "metadata": {},
   "outputs": [],
   "source": [
    "file_path = session_path / f\"{session_path.stem}.session.mat\"\n",
    "assert file_path.is_file(), file_path\n",
    "\n",
    "mat_file = read_mat(file_path)\n",
    "epoch_list = mat_file[\"session\"][\"epochs\"]"
   ]
  },
  {
   "cell_type": "code",
   "execution_count": null,
   "metadata": {},
   "outputs": [],
   "source": [
    "import pandas as pd\n",
    "pd.options.display.float_format = '{:,.2f}'.format\n",
    "\n",
    "epoch_df = pd.DataFrame(epoch_list)\n",
    "epoch_df.stopTime.max() / (3600)"
   ]
  },
  {
   "attachments": {},
   "cell_type": "markdown",
   "metadata": {},
   "source": [
    "This prints out five hours as expected."
   ]
  },
  {
   "cell_type": "code",
   "execution_count": null,
   "metadata": {},
   "outputs": [],
   "source": [
    "epoch_df[\"duration_seconds\"] = (epoch_df.stopTime - epoch_df.startTime)\n",
    "epoch_df[\"duration_hours\"] = epoch_df.duration_seconds / (3600)\n",
    "epoch_df"
   ]
  },
  {
   "cell_type": "code",
   "execution_count": null,
   "metadata": {},
   "outputs": [],
   "source": [
    "epoch_df[\"duration_hours\"].sum()"
   ]
  },
  {
   "cell_type": "code",
   "execution_count": null,
   "metadata": {},
   "outputs": [],
   "source": [
    "print(epoch_df.to_markdown(index=False))"
   ]
  },
  {
   "cell_type": "markdown",
   "metadata": {},
   "source": [
    "| name                 |   startTime |   stopTime | behavioralParadigm   | environment   | manipulation     |   duration_hours |\n",
    "|:---------------------|------------:|-----------:|:---------------------|:--------------|:-----------------|-----------------:|\n",
    "| fCamk1_200827_084028 |        0    |    5194.88 | BaselinePre          | Home cage     | None             |         1.44302  |\n",
    "| fCamk1_200827_101538 |     5194.88 |    8284.64 | PreStim              | Home cage     | uLED random stim |         0.858267 |\n",
    "| fCamk1_200827_110712 |     8284.64 |   10081.4  | Maze                 | Linear maze   | uLED random stim |         0.499102 |\n",
    "| fCamk1_200827_113839 |    10081.4  |   11803.6  | PostStim             | Home cage     | uLED random stim |         0.478382 |\n",
    "| fCamk1_200827_125535 |    11803.6  |   17920.1  | BaselinePost         | Home cage     | None             |         1.69904  |"
   ]
  },
  {
   "attachments": {},
   "cell_type": "markdown",
   "metadata": {},
   "source": [
    "1,796.77 seconds  \n",
    "How does it relate to 53143 samples which is the samples for the timestamps in the trials table for the different behavioral files in the .mat files\n",
    "\n",
    "53143 samples / 1796.77 seconds = 29.6 samples per second (Hz)\n",
    "\n",
    "This is approximately 30 Hz whic fits wit the sampling rate of the camera.  \n"
   ]
  },
  {
   "cell_type": "markdown",
   "metadata": {},
   "source": [
    "# Trials"
   ]
  },
  {
   "attachments": {},
   "cell_type": "markdown",
   "metadata": {},
   "source": [
    "## `beahvior.cellinfo.mat`"
   ]
  },
  {
   "cell_type": "code",
   "execution_count": null,
   "metadata": {},
   "outputs": [],
   "source": [
    "file_path = session_path / f\"{session_path.stem}.behavior.cellinfo.mat\"\n",
    "assert file_path.is_file(), file_path\n",
    "\n",
    "mat_file = read_mat(file_path)\n",
    "\n",
    "trial_data = mat_file[\"behavior\"][\"trials\"]\n"
   ]
  },
  {
   "attachments": {},
   "cell_type": "markdown",
   "metadata": {},
   "source": [
    "The startTime is are the trial intervals"
   ]
  },
  {
   "cell_type": "code",
   "execution_count": null,
   "metadata": {},
   "outputs": [],
   "source": [
    "trial_intervals = trial_data[\"startPoint\"]\n",
    "start_time, stop_time = trial_intervals[:, 0], trial_intervals[:, 1]\n",
    "start_time.shape, stop_time.shape\n"
   ]
  },
  {
   "attachments": {},
   "cell_type": "markdown",
   "metadata": {},
   "source": [
    "### Visited arm"
   ]
  },
  {
   "cell_type": "code",
   "execution_count": null,
   "metadata": {},
   "outputs": [],
   "source": [
    "visted_arm = trial_data[\"visitedArm\"]\n",
    "visted_arm.shape"
   ]
  },
  {
   "attachments": {},
   "cell_type": "markdown",
   "metadata": {},
   "source": [
    "#### Recordings\n",
    "Seems to have only one value"
   ]
  },
  {
   "cell_type": "code",
   "execution_count": null,
   "metadata": {},
   "outputs": [],
   "source": [
    "mat_file[\"behavior\"][\"trials\"][\"recordings\"].shape"
   ]
  },
  {
   "cell_type": "code",
   "execution_count": null,
   "metadata": {},
   "outputs": [],
   "source": [
    "np.unique(mat_file[\"behavior\"][\"trials\"][\"recordings\"])"
   ]
  },
  {
   "attachments": {},
   "cell_type": "markdown",
   "metadata": {},
   "source": [
    "#### Let's take a look at the maps"
   ]
  },
  {
   "cell_type": "code",
   "execution_count": null,
   "metadata": {},
   "outputs": [],
   "source": [
    "len(mat_file[\"behavior\"][\"maps\"])"
   ]
  },
  {
   "cell_type": "code",
   "execution_count": null,
   "metadata": {},
   "outputs": [],
   "source": [
    "mat_file[\"behavior\"][\"maps\"][0].shape, mat_file[\"behavior\"][\"maps\"][1].shape"
   ]
  },
  {
   "cell_type": "code",
   "execution_count": null,
   "metadata": {},
   "outputs": [],
   "source": [
    "mat_file[\"behavior\"][\"maps\"][0][:10]"
   ]
  },
  {
   "cell_type": "code",
   "execution_count": null,
   "metadata": {},
   "outputs": [],
   "source": [
    "mat_file[\"behavior\"][\"noStimulatedMaps\"][0].shape"
   ]
  },
  {
   "cell_type": "code",
   "execution_count": null,
   "metadata": {},
   "outputs": [],
   "source": [
    "mat_file[\"behavior\"][\"noStimulatedMaps\"][0][:5]"
   ]
  },
  {
   "cell_type": "code",
   "execution_count": null,
   "metadata": {},
   "outputs": [],
   "source": [
    "mat_file[\"behavior\"][\"stimulatedMaps\"][0].shape"
   ]
  },
  {
   "cell_type": "code",
   "execution_count": null,
   "metadata": {},
   "outputs": [],
   "source": [
    "mat_file[\"behavior\"][\"noStimulatedMapsLegend\"]"
   ]
  },
  {
   "cell_type": "code",
   "execution_count": null,
   "metadata": {},
   "outputs": [],
   "source": [
    "mat_file[\"behavior\"][\"stimulatedMapsLegend\"]"
   ]
  },
  {
   "cell_type": "code",
   "execution_count": null,
   "metadata": {},
   "outputs": [],
   "source": [
    "timestamps = mat_file[\"behavior\"][\"timestamps\"]\n",
    "timestamps[:5]"
   ]
  },
  {
   "attachments": {},
   "cell_type": "markdown",
   "metadata": {},
   "source": [
    "It seems taht the timestamps are already synchronized. That is, they start at their epoch"
   ]
  },
  {
   "cell_type": "code",
   "execution_count": null,
   "metadata": {},
   "outputs": [],
   "source": [
    "trials_timestamps = mat_file[\"behavior\"][\"masks\"][\"trials\"]"
   ]
  },
  {
   "cell_type": "code",
   "execution_count": null,
   "metadata": {},
   "outputs": [],
   "source": [
    "np.unique(trials_timestamps)"
   ]
  },
  {
   "attachments": {},
   "cell_type": "markdown",
   "metadata": {},
   "source": [
    "This seems to be a map from timestamps [the index here] to trial. Let's confirm that using a figure. The trials with nan should represent the baseline. Let's change them by -1"
   ]
  },
  {
   "cell_type": "code",
   "execution_count": null,
   "metadata": {},
   "outputs": [],
   "source": [
    "# Set np.nan to -1 in trial_timestamps\n",
    "trials_to_plot = trials_timestamps.copy()\n",
    "trials_to_plot[np.isnan(trials_to_plot)] = -20\n",
    "\n",
    "import matplotlib.pyplot as plt\n",
    "plt.plot(trials_to_plot)\n"
   ]
  },
  {
   "attachments": {},
   "cell_type": "markdown",
   "metadata": {},
   "source": [
    "I am wrong. I think there is sjust some delay"
   ]
  },
  {
   "cell_type": "code",
   "execution_count": null,
   "metadata": {},
   "outputs": [],
   "source": [
    "# Extract the indexes where the trials change\n",
    "trial_change_idx = np.nonzero(np.diff(trials_to_plot) != 0)[0]"
   ]
  },
  {
   "cell_type": "code",
   "execution_count": null,
   "metadata": {},
   "outputs": [],
   "source": [
    "trial_change_idx"
   ]
  },
  {
   "cell_type": "code",
   "execution_count": null,
   "metadata": {},
   "outputs": [],
   "source": [
    "start_time = timestamps[trial_change_idx]\n",
    "start_time"
   ]
  },
  {
   "attachments": {},
   "cell_type": "markdown",
   "metadata": {},
   "source": [
    "It seems that the trials cover all the behavioral epoch.\n",
    "However, we also know that there is no stimulation on all of those trials. I wonder where I can get the times for the behavioral epoch of which there should be 5. Baseline - stim 1 - baseline - stim 2 - baseline."
   ]
  },
  {
   "cell_type": "code",
   "execution_count": null,
   "metadata": {},
   "outputs": [],
   "source": [
    "trial_intervals = mat_file[\"behavior\"][\"trials\"][\"startPoint\"]\n",
    "start_time, stop_time = trial_intervals[:, 0], trial_intervals[:, 1]\n",
    "\n",
    "# Calculate distance between stop_time and next start_time\n",
    "\n",
    "inter_trial_distance = start_time[1:] - stop_time[:-1]\n",
    "\n",
    "inter_trial_distance\n"
   ]
  },
  {
   "cell_type": "code",
   "execution_count": null,
   "metadata": {},
   "outputs": [],
   "source": [
    "maps = np.concatenate(mat_file[\"behavior\"][\"maps\"], axis=0)\n",
    "trial_mask = mat_file[\"behavior\"][\"masks\"][\"trials\"]\n",
    "maps.shape"
   ]
  },
  {
   "cell_type": "code",
   "execution_count": null,
   "metadata": {},
   "outputs": [],
   "source": [
    "trial_mask = mat_file[\"behavior\"][\"masks\"][\"trials\"]\n",
    "trial_index = 1\n",
    "mask = trial_mask == trial_index\n",
    "position = mat_file[\"behavior\"][\"position\"]\n",
    "x, y = position[\"x\"], position[\"y\"]\n",
    "x_trial, y_trial = x[mask], y[mask]\n",
    "\n",
    "\n",
    "x_no_norm = x * maps[:, 0]\n",
    "y_no_norm = y * maps[:, 1]\n",
    "\n",
    "# Create a color gradient based on the index\n",
    "color_map = plt.cm.get_cmap('plasma')\n",
    "colors = np.linspace(0, 1, len(x_no_norm[mask]))\n",
    "\n",
    "# Plot with color gradient\n",
    "plt.scatter(x_no_norm[mask], y_no_norm[mask], c=colors, cmap=color_map)\n",
    "\n",
    "plt.colorbar()  # Add colorbar for reference\n"
   ]
  },
  {
   "attachments": {},
   "cell_type": "markdown",
   "metadata": {},
   "source": [
    "## `Behavior.mat`\n",
    "This has the visited arm"
   ]
  },
  {
   "cell_type": "code",
   "execution_count": null,
   "metadata": {},
   "outputs": [],
   "source": [
    "file_path = session_path / f\"{session_path.stem}.Behavior.mat\"\n",
    "assert file_path.is_file(), file_path\n",
    "\n",
    "mat_file = read_mat(file_path) "
   ]
  },
  {
   "cell_type": "code",
   "execution_count": null,
   "metadata": {},
   "outputs": [],
   "source": [
    "mat_file[\"behavior\"][\"maps\"][0].shape, mat_file[\"behavior\"][\"maps\"][1].shape"
   ]
  },
  {
   "cell_type": "code",
   "execution_count": null,
   "metadata": {},
   "outputs": [],
   "source": [
    "trial_direction = mat_file[\"behavior\"][\"masks\"][\"trialsDirection\"]\n",
    "trial_direction[:5]"
   ]
  },
  {
   "cell_type": "code",
   "execution_count": null,
   "metadata": {},
   "outputs": [],
   "source": [
    "trials = mat_file[\"behavior\"][\"trials\"]\n",
    "trial_intervals = trials[\"startPoint\"]\n",
    "visited_arm = trials[\"visitedArm\"]\n",
    "\n",
    "visited_arm[:5], visited_arm.shape"
   ]
  },
  {
   "cell_type": "code",
   "execution_count": null,
   "metadata": {},
   "outputs": [],
   "source": [
    "# Transform vistied_arm to 0 if value is 1 and to 1 otherwise\n",
    "visited_arm_complement = np.where(visited_arm == 1, 0, 1)\n",
    "\n",
    "np.where(visited_arm_complement != trial_direction)[0]"
   ]
  },
  {
   "cell_type": "code",
   "execution_count": null,
   "metadata": {},
   "outputs": [],
   "source": [
    "visited_arm[110], trial_direction[110]"
   ]
  },
  {
   "attachments": {},
   "cell_type": "markdown",
   "metadata": {},
   "source": [
    "By looking at the plot below, it seems that this is the direction up and down no left and right."
   ]
  },
  {
   "cell_type": "code",
   "execution_count": null,
   "metadata": {},
   "outputs": [],
   "source": [
    "import matplotlib.pyplot as plt\n",
    "from mpl_toolkits.axes_grid1 import make_axes_locatable\n",
    "import numpy as np\n",
    "\n",
    "trial_mask = mat_file[\"behavior\"][\"masks\"][\"trials\"]\n",
    "\n",
    "\n",
    "trials = [108, 109, 110]\n",
    "trials = [5, 6, 7, 8, 9]\n",
    "\n",
    "fig, axs = plt.subplots(1, len(trials), figsize=(20, 4))  # Create subplots with 1 row and 5 columns\n",
    "\n",
    "for i, trial_index in enumerate(trials):\n",
    "    mask = trial_mask == trial_index\n",
    "    position = mat_file[\"behavior\"][\"position\"]\n",
    "    x, y = position[\"x\"], position[\"y\"]\n",
    "\n",
    "    # Create a color gradient based on the index\n",
    "    color_map = plt.cm.get_cmap('RdBu_r')\n",
    "    colors = np.linspace(0, 1, len(x[mask]))\n",
    "\n",
    "    # Plot with color gradient\n",
    "    scatter = axs[i].scatter(x[mask], y[mask], c=colors, cmap=color_map)\n",
    "\n",
    "    axs[i].set_title(f'Trial {trial_index}')  # Set title for each subplot\n",
    "    axs[i].set_xlabel('X')  # Set x-axis label for each subplot\n",
    "    axs[i].set_ylabel('Y')  # Set y-axis label for each subplot\n",
    "\n",
    "    # Add a small colorbar to each plot\n",
    "    divider = make_axes_locatable(axs[i])\n",
    "    cax = divider.append_axes(\"right\", size=\"5%\", pad=0.05)\n",
    "    fig.colorbar(scatter, cax=cax)\n",
    "\n",
    "plt.tight_layout()  # Adjust spacing between subplots\n",
    "print(\"visited_arm\", visited_arm[trials])\n",
    "print(\"trial_direction\", trial_direction[trials])"
   ]
  },
  {
   "attachments": {},
   "cell_type": "markdown",
   "metadata": {},
   "source": [
    "# Positions\n"
   ]
  },
  {
   "attachments": {},
   "cell_type": "markdown",
   "metadata": {},
   "source": [
    "I want to see if the positions in different files have different units. \n",
    "\n",
    "Which are the files \n",
    "\n"
   ]
  },
  {
   "cell_type": "code",
   "execution_count": null,
   "metadata": {},
   "outputs": [],
   "source": [
    "# In the top level of the session folder\n",
    "\n",
    "top_level_with_position = [\"behavior.cellinfo.mat\", \"Behavior.mat\"]\n"
   ]
  },
  {
   "cell_type": "code",
   "execution_count": null,
   "metadata": {},
   "outputs": [],
   "source": [
    "file_name = top_level_with_position[1]\n",
    "for file_name in top_level_with_position:\n",
    "    file_path = session_path / f\"{session_path.stem}.{file_name}\"\n",
    "    assert file_path.is_file(), file_path\n",
    "\n",
    "    mat_file = read_mat(file_path) \n",
    "    position = mat_file[\"behavior\"][\"position\"]\n",
    "    x, y = position[\"x\"], position[\"y\"]\n",
    "\n",
    "    plt.plot(x, y)\n"
   ]
  },
  {
   "attachments": {},
   "cell_type": "markdown",
   "metadata": {},
   "source": [
    "Same position data here"
   ]
  },
  {
   "cell_type": "code",
   "execution_count": null,
   "metadata": {},
   "outputs": [],
   "source": [
    "file_name = \"Linearized.Behavior.mat\"\n",
    "\n",
    "sub_folder = session_path / f\"{session_path.stem.rsplit('_', 1)[0]}_110712\"\n",
    "assert sub_folder.is_dir()\n",
    "\n",
    "file_path = sub_folder / f\"{sub_folder.stem}.{file_name}\"\n",
    "assert file_path.is_file(), file_path\n",
    "\n",
    "mat_file = read_mat(file_path) \n",
    "\n",
    "position = mat_file[\"behavior\"][\"position\"]\n",
    "x, y = position[\"x\"], position[\"y\"]\n",
    "\n",
    "plt.plot(x, y)\n"
   ]
  },
  {
   "cell_type": "code",
   "execution_count": null,
   "metadata": {},
   "outputs": [],
   "source": [
    "file_name  = \"Tracking.Behavior.mat\"\n",
    "\n",
    "sub_folder = session_path / f\"{session_path.stem.rsplit('_', 1)[0]}_110712\"\n",
    "assert sub_folder.is_dir()\n",
    "\n",
    "file_path = sub_folder / f\"{sub_folder.stem}.{file_name}\"\n",
    "assert file_path.is_file(), file_path\n",
    "\n",
    "mat_file = read_mat(file_path) \n",
    "\n",
    "\n",
    "position = mat_file[\"tracking\"][\"position\"]\n",
    "x, y = position[\"x\"], position[\"y\"]\n",
    "\n",
    "plt.plot(x, y)"
   ]
  },
  {
   "cell_type": "markdown",
   "metadata": {},
   "source": [
    "# Pulses"
   ]
  },
  {
   "cell_type": "code",
   "execution_count": null,
   "metadata": {},
   "outputs": [],
   "source": [
    "file_path = session_path / f\"{session_path.stem}.pulses.events.mat\"\n",
    "assert file_path.is_file(), file_path\n",
    "\n",
    "mat_file = read_mat(file_path)\n",
    "pulses = mat_file[\"pulses\"]\n",
    "pulses.keys()"
   ]
  },
  {
   "cell_type": "code",
   "execution_count": null,
   "metadata": {},
   "outputs": [],
   "source": [
    "pulses[\"timestamps\"]"
   ]
  },
  {
   "cell_type": "code",
   "execution_count": null,
   "metadata": {},
   "outputs": [],
   "source": [
    "duration = pulses[\"timestamps\"][:, 1] - pulses[\"timestamps\"][:, 0]\n",
    "duration[:5]"
   ]
  },
  {
   "cell_type": "code",
   "execution_count": null,
   "metadata": {},
   "outputs": [],
   "source": [
    "pulses[\"analogChannel\"][:5]"
   ]
  },
  {
   "cell_type": "code",
   "execution_count": null,
   "metadata": {},
   "outputs": [],
   "source": [
    "pulses[\"analogChannelsList\"][:5]"
   ]
  },
  {
   "cell_type": "code",
   "execution_count": null,
   "metadata": {},
   "outputs": [],
   "source": [
    "pulses[\"intsPeriods\"][:5]"
   ]
  },
  {
   "cell_type": "code",
   "execution_count": null,
   "metadata": {},
   "outputs": [],
   "source": [
    "file_path = session_path / f\"{session_path.stem}.session.mat\"\n",
    "assert file_path.is_file(), file_path\n",
    "brain_regions_to_channels = read_mat(file_path)[\"session\"][\"brainRegions\"]\n",
    "\n",
    "# Invert the dictionary brain_regions_to_channels\n",
    "channel_to_brain_region_dict = {}\n",
    "for region, value in brain_regions_to_channels.items():\n",
    "    channels = value[\"channels\"]\n",
    "    channel_to_brain_region_dict |= {channel: region for channel in channels}\n",
    "    \n",
    "\n",
    "brain_region = [channel_to_brain_region_dict[i] for i in pulses[\"analogChannel\"]]\n",
    "brain_region[:5]\n"
   ]
  },
  {
   "cell_type": "code",
   "execution_count": null,
   "metadata": {},
   "outputs": [],
   "source": []
  },
  {
   "cell_type": "code",
   "execution_count": null,
   "metadata": {},
   "outputs": [],
   "source": [
    "pulses[\"eventGroupID\"][:5]"
   ]
  },
  {
   "cell_type": "code",
   "execution_count": null,
   "metadata": {},
   "outputs": [],
   "source": [
    "inter_times = pulses[\"timestamps\"][1:] - pulses[\"timestamps\"][:-1]"
   ]
  },
  {
   "cell_type": "code",
   "execution_count": null,
   "metadata": {},
   "outputs": [],
   "source": [
    "pulses[\"duration\"][:5]"
   ]
  },
  {
   "cell_type": "code",
   "execution_count": null,
   "metadata": {},
   "outputs": [],
   "source": [
    "np.unique(pulses[\"eventGroupID\"])"
   ]
  },
  {
   "cell_type": "code",
   "execution_count": null,
   "metadata": {},
   "outputs": [],
   "source": [
    "np.unique(pulses[\"analogChannel\"])"
   ]
  },
  {
   "cell_type": "code",
   "execution_count": null,
   "metadata": {},
   "outputs": [],
   "source": [
    "plt.hist(pulses[\"amplitude\"])"
   ]
  },
  {
   "cell_type": "code",
   "execution_count": null,
   "metadata": {},
   "outputs": [],
   "source": [
    "pulses[\"timestamps\"].shape"
   ]
  },
  {
   "cell_type": "code",
   "execution_count": null,
   "metadata": {},
   "outputs": [],
   "source": [
    "periods = pulses[\"intsPeriods\"]\n",
    "first_pulse = periods[0][0]\n",
    "last_pulse = periods[-1][1]\n",
    "\n",
    "first_pulse, last_pulse, (last_pulse - first_pulse) / 3600"
   ]
  },
  {
   "cell_type": "code",
   "execution_count": null,
   "metadata": {},
   "outputs": [],
   "source": [
    "pulse_durations = periods[:, 1] - periods[:, 0] \n",
    "plt.hist(pulse_durations)"
   ]
  },
  {
   "cell_type": "code",
   "execution_count": null,
   "metadata": {},
   "outputs": [],
   "source": [
    "\n",
    "\n",
    "x = periods[:, 0]\n",
    "y = np.ones_like(x)\n",
    "width = periods[:, 1] - periods[:, 0]\n",
    "plt.bar(x=x, height=y, width=width, bottom=0, align='edge')\n",
    "\n",
    "# Let's plot the epochs as well\n",
    "\n",
    "file_path = session_path / f\"{session_path.stem}.session.mat\"\n",
    "assert file_path.is_file(), file_path\n",
    "\n",
    "mat_file_epochs = read_mat(file_path)\n",
    "epoch_list = mat_file_epochs[\"session\"][\"epochs\"]\n",
    "\n",
    "start_time_list = [epoch[\"startTime\"] for epoch in epoch_list[1:-1]]\n",
    "epoch_name = [epoch[\"behavioralParadigm\"] for epoch in epoch_list[1:-1]]\n",
    "\n",
    "# Add an annotation for every epoch in start_time_list\n",
    "for start_time in start_time_list:\n",
    "    plt.axvline(start_time, color=\"red\", linestyle=\"--\", alpha=0.5, linewidth=5)\n",
    "    \n",
    "# Add the name in the top for each epoch in epoch_name\n",
    "for start_time, name in zip(start_time_list, epoch_name):\n",
    "    plt.text(start_time, 1.1, name, rotation=45, horizontalalignment=\"center\")\n",
    "    \n",
    "plt.xlabel(\"Seconds\")\n",
    "\n",
    "# Remote frame in the y axis\n",
    "plt.yticks([])\n",
    "\n",
    "# Remote the frame\n",
    "plt.box(False)"
   ]
  },
  {
   "attachments": {},
   "cell_type": "markdown",
   "metadata": {},
   "source": [
    "Juding by the time and duration the pulses cover the three epochs. The Prestim, the Maze and the PostStim.\n",
    "\n"
   ]
  },
  {
   "cell_type": "code",
   "execution_count": null,
   "metadata": {},
   "outputs": [],
   "source": [
    "np.unique(pulses[\"analogChannel\"])"
   ]
  },
  {
   "cell_type": "code",
   "execution_count": null,
   "metadata": {},
   "outputs": [],
   "source": [
    "np.unique(pulses[\"eventGroupID\"])"
   ]
  },
  {
   "cell_type": "code",
   "execution_count": null,
   "metadata": {},
   "outputs": [],
   "source": [
    "np.unique(pulses[\"analogChannelsList\"])"
   ]
  },
  {
   "cell_type": "code",
   "execution_count": null,
   "metadata": {},
   "outputs": [],
   "source": [
    "channel = pulses[\"analogChannel\"]\n",
    "channel.shape"
   ]
  },
  {
   "cell_type": "code",
   "execution_count": null,
   "metadata": {},
   "outputs": [],
   "source": [
    "pulse_duration_ms = pulses[\"duration\"] * 1000\n",
    "plt.hist(pulse_duration_ms)"
   ]
  },
  {
   "attachments": {},
   "cell_type": "markdown",
   "metadata": {},
   "source": [
    "This is correct duration of 20 milliseconds as stated in the paper."
   ]
  },
  {
   "cell_type": "code",
   "execution_count": null,
   "metadata": {},
   "outputs": [],
   "source": [
    "plt.hist(pulses[\"analogChannel\"])"
   ]
  },
  {
   "cell_type": "code",
   "execution_count": null,
   "metadata": {},
   "outputs": [],
   "source": [
    "plt.hist(pulses[\"analogChannelsList\"])"
   ]
  },
  {
   "attachments": {},
   "cell_type": "markdown",
   "metadata": {},
   "source": [
    "## Optogenic pulses\n"
   ]
  },
  {
   "attachments": {},
   "cell_type": "markdown",
   "metadata": {},
   "source": [
    "'fCamk1_200827_sess9.optogeneticResponse.cellinfo.mat size: 375.40 MiB',\n",
    " 'fCamk1_200827_sess9.optogeneticPulses.events.mat "
   ]
  },
  {
   "cell_type": "code",
   "execution_count": null,
   "metadata": {},
   "outputs": [],
   "source": [
    "file_path = session_path / f\"{session_path.stem}.optogeneticPulses.events.mat\"\n",
    "assert file_path.is_file(), file_path\n",
    "\n",
    "mat_file = read_mat(file_path)\n",
    "result = build_keys_and_types(mat_file)\n",
    "json_output = json.dumps(result, indent=2)\n",
    "\n",
    "json_name = \"\".join(file_path.suffixes)[1:] + \".json\"\n",
    "with open(json_directory / json_name, 'w') as f:\n",
    "    f.write(json_output)\n"
   ]
  },
  {
   "cell_type": "code",
   "execution_count": null,
   "metadata": {},
   "outputs": [],
   "source": [
    "epochs_stimulation = mat_file[\"optoPulses\"][\"stimulationEpochs\"]"
   ]
  },
  {
   "cell_type": "code",
   "execution_count": null,
   "metadata": {},
   "outputs": [],
   "source": [
    "epoch_length = epochs_stimulation[:, 1] - epochs_stimulation[:, 0]\n",
    "epochs_stimulation[epoch_length < 0]"
   ]
  },
  {
   "attachments": {},
   "cell_type": "markdown",
   "metadata": {},
   "source": [
    "Some of them have negative length. I am confused about what this means."
   ]
  },
  {
   "cell_type": "code",
   "execution_count": null,
   "metadata": {},
   "outputs": [],
   "source": [
    "# Plot a bar for the periods[:, 0]\n",
    "\n",
    "# Adjust the figure size\n",
    "plt.figure(figsize=(16, 8))\n",
    "# Adjust all the fonts\n",
    "plt.rcParams.update({'font.size': 25})\n",
    "\n",
    "x = epochs_stimulation[:, 0]\n",
    "y = np.ones_like(x)\n",
    "width = epochs_stimulation[:, 1] - epochs_stimulation[:, 0]\n",
    "plt.bar(x=x, height=y, bottom=0, align='edge')\n",
    "\n",
    "# Let's plot the epochs as well\n",
    "\n",
    "file_path = session_path / f\"{session_path.stem}.session.mat\"\n",
    "assert file_path.is_file(), file_path\n",
    "\n",
    "mat_file_epochs = read_mat(file_path)\n",
    "epoch_list = mat_file_epochs[\"session\"][\"epochs\"]\n",
    "\n",
    "start_time_list = [epoch[\"startTime\"] for epoch in epoch_list[1:-1]]\n",
    "epoch_name = [epoch[\"behavioralParadigm\"] for epoch in epoch_list[1:-1]]\n",
    "\n",
    "# Add an annotation for every epoch in start_time_list\n",
    "for start_time in start_time_list:\n",
    "    plt.axvline(start_time, color=\"red\", linestyle=\"--\", alpha=0.5, linewidth=5)\n",
    "    \n",
    "# Add the name in the top for each epoch in epoch_name\n",
    "for start_time, name in zip(start_time_list, epoch_name):\n",
    "    plt.text(start_time, 1.1, name, rotation=45, horizontalalignment=\"center\")\n",
    "    \n",
    "plt.xlabel(\"Seconds\")\n",
    "\n",
    "# Remote frame in the y axis\n",
    "plt.yticks([])\n",
    "\n",
    "# Remote the frame\n",
    "plt.box(False)"
   ]
  },
  {
   "cell_type": "markdown",
   "metadata": {},
   "source": [
    "# Sleep states"
   ]
  },
  {
   "cell_type": "code",
   "execution_count": null,
   "metadata": {},
   "outputs": [],
   "source": [
    "file_path = session_path / f\"{session_path.stem}.SleepState.states.mat\"\n",
    "assert file_path.is_file(), file_path\n",
    "\n",
    "mat_file = read_mat(file_path)\n"
   ]
  },
  {
   "cell_type": "code",
   "execution_count": null,
   "metadata": {},
   "outputs": [],
   "source": [
    "sleep_states_data = mat_file[\"SleepState\"]\n",
    "sleep_states_data.keys()"
   ]
  },
  {
   "cell_type": "code",
   "execution_count": null,
   "metadata": {},
   "outputs": [],
   "source": [
    "intervals = sleep_states_data[\"ints\"]\n",
    "available_states = [str(key) for key in intervals.keys()]\n",
    "available_states"
   ]
  },
  {
   "cell_type": "code",
   "execution_count": null,
   "metadata": {},
   "outputs": [],
   "source": [
    "intervals[\"WAKEstate\"]"
   ]
  },
  {
   "cell_type": "code",
   "execution_count": null,
   "metadata": {},
   "outputs": [],
   "source": [
    "intervals[\"REMstate\"]"
   ]
  },
  {
   "cell_type": "code",
   "execution_count": null,
   "metadata": {},
   "outputs": [],
   "source": [
    "idx = sleep_states_data[\"idx\"]\n",
    "statenames = idx[\"statenames\"]\n",
    "statenames, len(statenames)"
   ]
  },
  {
   "cell_type": "code",
   "execution_count": null,
   "metadata": {},
   "outputs": [],
   "source": [
    "np.unique(idx[\"states\"])"
   ]
  },
  {
   "attachments": {},
   "cell_type": "markdown",
   "metadata": {},
   "source": [
    "This are just the timestamps and the indexes corresponding to the statenames"
   ]
  },
  {
   "cell_type": "code",
   "execution_count": null,
   "metadata": {},
   "outputs": [],
   "source": [
    "available_states = [state for state in statenames if len(state) > 0]\n",
    "available_states"
   ]
  },
  {
   "cell_type": "code",
   "execution_count": null,
   "metadata": {},
   "outputs": [],
   "source": [
    "idx[\"theta_states\"]"
   ]
  },
  {
   "cell_type": "code",
   "execution_count": null,
   "metadata": {},
   "outputs": [],
   "source": [
    "np.unique(idx[\"theta_states\"][\"states\"])"
   ]
  },
  {
   "attachments": {},
   "cell_type": "markdown",
   "metadata": {},
   "source": [
    "Here, 0 probabl ymeans the absence of signal but then there is theta vs non-theta."
   ]
  },
  {
   "attachments": {},
   "cell_type": "markdown",
   "metadata": {},
   "source": [
    "# Theta "
   ]
  },
  {
   "cell_type": "code",
   "execution_count": null,
   "metadata": {},
   "outputs": [],
   "source": [
    "file_path = session_path / f\"{session_path.stem}.thetaEpochs.states.mat\"\n",
    "assert file_path.is_file(), file_path\n",
    "mat_file = read_mat(file_path)\n"
   ]
  },
  {
   "cell_type": "code",
   "execution_count": null,
   "metadata": {},
   "outputs": [],
   "source": []
  },
  {
   "attachments": {},
   "cell_type": "markdown",
   "metadata": {},
   "source": [
    "dd"
   ]
  },
  {
   "cell_type": "code",
   "execution_count": null,
   "metadata": {},
   "outputs": [],
   "source": []
  },
  {
   "attachments": {},
   "cell_type": "markdown",
   "metadata": {},
   "source": [
    "# Session general information (`sesion.mat`)"
   ]
  },
  {
   "cell_type": "code",
   "execution_count": null,
   "metadata": {},
   "outputs": [],
   "source": [
    "file_path = session_path / f\"{session_path.stem}.session.mat\"\n",
    "assert file_path.is_file(), file_path\n",
    "mat_file = read_mat(file_path)\n"
   ]
  },
  {
   "attachments": {},
   "cell_type": "markdown",
   "metadata": {},
   "source": [
    "# Add epochs to nwbfile"
   ]
  },
  {
   "cell_type": "code",
   "execution_count": null,
   "metadata": {},
   "outputs": [],
   "source": [
    "epoch_list = mat_file[\"session\"][\"epochs\"]\n",
    "epoch_list[0]"
   ]
  },
  {
   "cell_type": "code",
   "execution_count": null,
   "metadata": {},
   "outputs": [],
   "source": [
    "from pynwb.testing.mock.file import mock_NWBFile\n",
    "\n",
    "nwb_file = mock_NWBFile()\n",
    "\n",
    "nwb_file.add_epoch_column(name=\"behavioral_paradigm\", description=\"The behavioral paradigm of the epoch\")\n",
    "nwb_file.add_epoch_column(name=\"environment\", description=\"The environment in the epoch\")\n",
    "nwb_file.add_epoch_column(name=\"manipulation\", description=\"The stimulus in the epoch\")\n"
   ]
  },
  {
   "cell_type": "code",
   "execution_count": null,
   "metadata": {},
   "outputs": [],
   "source": [
    "for epoch in epoch_list:\n",
    "    start_time = float(epoch[\"startTime\"])\n",
    "    stop_time = float(epoch[\"stopTime\"])\n",
    "    behavioral_paradigm = epoch[\"behavioralParadigm\"]\n",
    "    environment = epoch[\"environment\"]\n",
    "    manipulation = epoch[\"manipulation\"]\n",
    "    \n",
    "    nwb_file.add_epoch(start_time=start_time, stop_time=stop_time, behavioral_paradigm=behavioral_paradigm, environment=environment, manipulation=manipulation)    "
   ]
  },
  {
   "cell_type": "code",
   "execution_count": null,
   "metadata": {},
   "outputs": [],
   "source": [
    "nwb_file.epochs.to_dataframe()"
   ]
  },
  {
   "cell_type": "markdown",
   "metadata": {},
   "source": [
    "# Camera"
   ]
  },
  {
   "cell_type": "code",
   "execution_count": null,
   "metadata": {},
   "outputs": [],
   "source": [
    "videos_available = list(session_path.rglob('*.avi'))\n",
    "assert len(videos_available) == 1, f\"There should be one and only one video file {videos_avaialble}\"  "
   ]
  },
  {
   "cell_type": "code",
   "execution_count": null,
   "metadata": {},
   "outputs": [],
   "source": [
    "from neuroconv.datainterfaces import VideoInterface\n",
    "\n",
    "interface = VideoInterface(file_paths=videos_available)\n",
    "interface.get_metadata()"
   ]
  },
  {
   "cell_type": "markdown",
   "metadata": {},
   "source": [
    "# Rewards as events"
   ]
  },
  {
   "cell_type": "code",
   "execution_count": null,
   "metadata": {},
   "outputs": [],
   "source": [
    "file_path = session_path / f\"{session_path.stem}.Behavior.mat\"\n",
    "assert file_path.is_file(), file_path\n",
    "\n",
    "mat_file = read_mat(file_path) \n",
    "\n",
    "events_data = mat_file[\"behavior\"][\"events\"]"
   ]
  },
  {
   "cell_type": "code",
   "execution_count": null,
   "metadata": {},
   "outputs": [],
   "source": [
    "# Extract timestamps and create labels for rewards\n",
    "reward_r_timestamps = events_data[\"rReward\"]\n",
    "reward_l_timestamps = events_data[\"lReward\"]\n",
    "label_reward_r = np.ones(reward_r_timestamps.shape[0], dtype=int)\n",
    "label_reward_l = np.zeros(reward_l_timestamps.shape[0], dtype=int)\n",
    "\n",
    "# Create a structure to concatenate timestamps and sort by them\n",
    "reward_r = np.vstack((reward_r_timestamps, label_reward_r))\n",
    "reward_l = np.vstack((reward_l_timestamps, label_reward_l))\n",
    "rewards = np.concatenate((reward_r, reward_l), axis=1)\n",
    "\n",
    "timestamps_both_rewards = rewards[0, :]\n",
    "rewards = rewards[:, timestamps_both_rewards.argsort()]"
   ]
  },
  {
   "cell_type": "code",
   "execution_count": null,
   "metadata": {},
   "outputs": [],
   "source": [
    "timestamps = rewards[0, :]\n",
    "assert np.all(np.diff(timestamps) > 0)"
   ]
  },
  {
   "cell_type": "code",
   "execution_count": null,
   "metadata": {},
   "outputs": [],
   "source": [
    "plt.plot(np.arange(rewards.shape[1]), rewards[0, :])\n",
    "# Add an identity line in the plot\n",
    "np.diff(r)"
   ]
  },
  {
   "cell_type": "code",
   "execution_count": null,
   "metadata": {},
   "outputs": [],
   "source": [
    "from ndx_events import LabeledEvents\n",
    "\n",
    "timestamps = rewards[0, :]\n",
    "data = rewards[1, :]\n",
    "\n",
    "events = LabeledEvents(\n",
    "    name='rewards',\n",
    "    description='rewards in the linear track',\n",
    "    timestamps=timestamps,\n",
    "    data=data,\n",
    "    labels=['right_reward', 'left_reward']\n",
    ")\n",
    "\n",
    "from pynwb.testing.mock.file import mock_NWBFile\n",
    "\n",
    "nwbfile = mock_NWBFile()\n",
    "\n",
    "\n",
    "nwbfile.add_acquisition(events)"
   ]
  },
  {
   "attachments": {},
   "cell_type": "markdown",
   "metadata": {},
   "source": [
    "# Add pulses as time intervals"
   ]
  },
  {
   "cell_type": "code",
   "execution_count": null,
   "metadata": {},
   "outputs": [],
   "source": [
    "file_path = session_path / f\"{session_path.stem}.pulses.events.mat\"\n",
    "assert file_path.is_file(), file_path\n",
    "\n",
    "mat_file = read_mat(file_path)\n",
    "pulses_data = mat_file[\"pulses\"]\n",
    "pulses_data.keys()"
   ]
  },
  {
   "cell_type": "code",
   "execution_count": null,
   "metadata": {},
   "outputs": [],
   "source": [
    "pulse_intervals = pulses_data[\"timestamps\"] \n",
    "electrode_channel = pulses_data[\"analogChannel\"]\n",
    "amplitude = pulses_data[\"amplitude\"]\n",
    "\n"
   ]
  },
  {
   "cell_type": "code",
   "execution_count": null,
   "metadata": {},
   "outputs": [],
   "source": [
    "from pynwb.testing.mock.file import mock_NWBFile\n",
    "\n",
    "nwbfile = mock_NWBFile()\n",
    "\n",
    "from pynwb.epoch import TimeIntervals\n",
    "\n",
    "laser_description = (\n",
    "\"\"\"\n",
    "μLEDs were controlled with current (2-4.5 μA generating 0.02-0.1μW of total light power;\n",
    "ref (15)) provided by a 12-channel current generator (OSC1Lite, NeuroNex Michigan Hub)\n",
    "driven by an Arduino (https://github.com/valegarman), which delivered trapezoid (1ms rise time)\n",
    "blue light (centered emission at 460 nm, emission surface area = 150 mm2) 20 ms pulses at\n",
    "random sites with a randomly variable (40-60ms) offset.\n",
    "\"\"\"\n",
    ")\n",
    "\n",
    "stimuli_laser_pulses = TimeIntervals(\n",
    "    name=\"laser_pulses\",\n",
    "    description=\"intervals for each pulse stimuli for the uLED electrodes\",\n",
    ")\n",
    "\n",
    "stimuli_laser_pulses.add_column(name=\"electrode_channel\", description=\"The electrode channel for the pulse\")\n",
    "stimuli_laser_pulses.add_column(name=\"amplitude\", description=\"The amplitude of the pulse\")\n",
    "\n",
    "for interval, channel, amp in zip(pulse_intervals, electrode_channel, amplitude):\n",
    "    start_time, stop_time = interval\n",
    "    channel = channel\n",
    "    row_dict = {\"start_time\": start_time, \"stop_time\": stop_time, \"electrode_channel\": channel, \"amplitude\": amp}\n",
    "    stimuli_laser_pulses.add_row(**row_dict)\n",
    "    \n",
    "\n",
    "nwbfile.add_time_intervals(stimuli_laser_pulses)"
   ]
  },
  {
   "attachments": {},
   "cell_type": "markdown",
   "metadata": {},
   "source": [
    "# Ripples as events"
   ]
  },
  {
   "cell_type": "code",
   "execution_count": null,
   "metadata": {},
   "outputs": [],
   "source": [
    "file_path = session_files_path_list[0]\n",
    "file_path = session_path / f\"{session_path.stem}.ripples.events.mat\"\n",
    "assert file_path.is_file(), file_path\n",
    "\n",
    "mat_file = read_mat(file_path)\n",
    "ripples_data = mat_file[\"ripples\"]   "
   ]
  },
  {
   "cell_type": "code",
   "execution_count": null,
   "metadata": {},
   "outputs": [],
   "source": [
    "ripple_intervals = ripples_data[\"timestamps\"]\n",
    "\n",
    "peaks = ripples_data[\"peaks\"]\n",
    "peak_normed_power = ripples_data[\"peakNormedPower\"]\n",
    "\n",
    "ripple_stats_data = ripples_data[\"rippleStats\"][\"data\"]\n",
    "\n",
    "peak_frequencies = ripple_stats_data[\"peakFrequency\"]\n",
    "ripple_durations = ripple_stats_data[\"duration\"]\n",
    "peak_amplitudes = ripple_stats_data[\"peakAmplitude\"]\n",
    "\n",
    "descriptions = dict(\n",
    "    ripple_durations=\"Duration of the ripple event.\",\n",
    "    peaks=\"Peak of the ripple.\",\n",
    "    peak_normed_power=\"Normed power of the peak.\",\n",
    "    peak_frequencies=\"Peak frequency of the ripple.\",\n",
    "    peak_amplitudes=\"Peak amplitude of the ripple.\",\n",
    ")\n",
    "\n"
   ]
  },
  {
   "cell_type": "code",
   "execution_count": null,
   "metadata": {},
   "outputs": [],
   "source": [
    "from pynwb.testing.mock.file import mock_NWBFile\n",
    "from pynwb import NWBFile, H5DataIO\n",
    "from pynwb.epoch import TimeIntervals\n",
    "\n",
    "\n",
    "nwbfile = mock_NWBFile()\n",
    "name = \"ripples\"\n",
    "table = TimeIntervals(name=name, description=\"Ripples and their metrics\")\n",
    "\n",
    "\n",
    "for start_time, stop_time in ripple_intervals:\n",
    "    table.add_row(start_time=start_time, stop_time=stop_time)\n",
    "\n",
    "for column_name, column_data in zip(\n",
    "    list(descriptions), [ripple_durations, peaks, peak_normed_power, peak_frequencies, peak_amplitudes]\n",
    "):\n",
    "    table.add_column(\n",
    "        name=column_name,\n",
    "        description=descriptions[column_name],\n",
    "        data=H5DataIO(column_data, compression=\"gzip\"),\n",
    "    )\n",
    "\n",
    "# Extract indexed data\n",
    "\n",
    "ripple_stats_maps = ripples_data[\"rippleStats\"][\"maps\"]\n",
    "\n",
    "ripple_raw = ripple_stats_maps[\"ripples_raw\"]\n",
    "ripple_frequencies = ripple_stats_maps[\"frequency\"]\n",
    "ripple_phases = ripple_stats_maps[\"phase\"]\n",
    "ripple_amplitudes = ripple_stats_maps[\"amplitude\"]\n",
    "\n",
    "indexed_descriptions = dict(\n",
    "    ripple_raw=\"Extracted ripple data.\",\n",
    "    ripple_frequencies=\"Frequency of each point on the ripple.\",\n",
    "    ripple_phases=\"Phase of each point on the ripple.\",\n",
    "    ripple_amplitudes=\"Amplitude of each point on the ripple.\",\n",
    ")\n",
    "\n",
    "for column_name, column_data in zip(\n",
    "    list(indexed_descriptions), [ripple_raw, ripple_frequencies, ripple_phases, ripple_amplitudes]\n",
    "):\n",
    "    table.add_column(\n",
    "        name=column_name,\n",
    "        description=indexed_descriptions[column_name],\n",
    "        index=list(range(column_data.shape[0])),\n",
    "        data=H5DataIO(column_data, compression=\"gzip\"),\n",
    "    )\n",
    "    \n",
    "\n"
   ]
  },
  {
   "cell_type": "code",
   "execution_count": null,
   "metadata": {},
   "outputs": [],
   "source": [
    "ripple_frequencies.shape"
   ]
  },
  {
   "cell_type": "code",
   "execution_count": null,
   "metadata": {},
   "outputs": [],
   "source": []
  },
  {
   "attachments": {},
   "cell_type": "markdown",
   "metadata": {},
   "source": [
    "# Compare sorting and sorting times"
   ]
  },
  {
   "cell_type": "code",
   "execution_count": null,
   "metadata": {},
   "outputs": [],
   "source": [
    "from neuroconv.datainterfaces import CellExplorerSortingInterface"
   ]
  },
  {
   "cell_type": "code",
   "execution_count": null,
   "metadata": {},
   "outputs": [],
   "source": [
    "file_path = session_path / f\"{session_path.stem}.spikes.cellinfo.mat\"\n",
    "\n",
    "cell_explorer_interface = CellExplorerSortingInterface(file_path=file_path)"
   ]
  },
  {
   "cell_type": "code",
   "execution_count": null,
   "metadata": {},
   "outputs": [],
   "source": [
    "sorter_cell_explorer = cell_explorer_interface.sorting_extractor\n",
    "sorter_cell_explorer"
   ]
  },
  {
   "cell_type": "code",
   "execution_count": null,
   "metadata": {},
   "outputs": [],
   "source": [
    "import pandas as pd\n",
    "sorter = sorter_cell_explorer\n",
    "\n",
    "spike_range = {}\n",
    "for unit_id in sorter.unit_ids:\n",
    "\n",
    "    spikes = sorter.get_unit_spike_train(unit_id=unit_id, return_times=True) / 3600\n",
    "    first_spike, last_spike = spikes[0], spikes[-1]\n",
    "    spike_range[unit_id] = dict(first_spike=first_spike, last_spike=last_spike)\n",
    "    \n",
    "pd.DataFrame(spike_range).max(axis=1)\n"
   ]
  },
  {
   "cell_type": "code",
   "execution_count": null,
   "metadata": {},
   "outputs": [],
   "source": [
    "from neuroconv.datainterfaces import KiloSortSortingInterface\n",
    "\n",
    "folder_path = session_path / \"Kilosort_2020-08-28_231022\"\n",
    "kilosort_interface = KiloSortSortingInterface(folder_path=folder_path)\n",
    "kilosort_sorter = kilosort_interface.sorting_extractor\n",
    "kilosort_sorter"
   ]
  },
  {
   "cell_type": "code",
   "execution_count": null,
   "metadata": {},
   "outputs": [],
   "source": [
    "import pandas as pd\n",
    "sorter = kilosort_sorter\n",
    "\n",
    "spike_range = {}\n",
    "for unit_id in sorter.unit_ids:\n",
    "\n",
    "    spikes = sorter.get_unit_spike_train(unit_id=unit_id, return_times=True) / 3600\n",
    "    first_spike, last_spike = spikes[0], spikes[-1]\n",
    "    spike_range[unit_id] = dict(first_spike=first_spike, last_spike=last_spike)\n",
    "    \n",
    "pd.DataFrame(spike_range).max(axis=1)\n"
   ]
  },
  {
   "cell_type": "code",
   "execution_count": null,
   "metadata": {},
   "outputs": [],
   "source": [
    "folder_path = session_path / \"Kilosort_2020-08-28_231022\"\n",
    "neuroscope_interface = NeuroScopeSortingInterface(folder_path=folder_path)\n",
    "\n",
    "neuroscope_sorter = neuroscope_interface.sorting_extractor\n",
    "neuroscope_sorter"
   ]
  },
  {
   "cell_type": "code",
   "execution_count": null,
   "metadata": {},
   "outputs": [],
   "source": []
  },
  {
   "attachments": {},
   "cell_type": "markdown",
   "metadata": {},
   "source": [
    "# Check NWB result"
   ]
  },
  {
   "cell_type": "code",
   "execution_count": null,
   "metadata": {},
   "outputs": [],
   "source": [
    "output_dir_path = Path.home() / \"conversion_nwb\"\n",
    "\n",
    "stub_path_list = list((output_dir_path / \"nwb_stub\").iterdir())\n"
   ]
  },
  {
   "cell_type": "code",
   "execution_count": null,
   "metadata": {},
   "outputs": [],
   "source": [
    "file_path = stub_path_list[0]\n",
    "\n",
    "import pynwb \n",
    "\n",
    "# Open file with pynwb\n",
    "nwbfile = pynwb.NWBHDF5IO(str(file_path), mode='r', load_namespaces=True).read()\n",
    "nwbfile"
   ]
  },
  {
   "cell_type": "code",
   "execution_count": null,
   "metadata": {},
   "outputs": [],
   "source": []
  }
 ],
 "metadata": {
  "kernelspec": {
   "display_name": "neuroconv_env",
   "language": "python",
   "name": "python3"
  },
  "language_info": {
   "codemirror_mode": {
    "name": "ipython",
    "version": 3
   },
   "file_extension": ".py",
   "mimetype": "text/x-python",
   "name": "python",
   "nbconvert_exporter": "python",
   "pygments_lexer": "ipython3",
   "version": "3.10.9"
  },
  "orig_nbformat": 4
 },
 "nbformat": 4,
 "nbformat_minor": 2
}
