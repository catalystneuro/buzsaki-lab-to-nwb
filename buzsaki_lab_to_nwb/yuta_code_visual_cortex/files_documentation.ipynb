{
 "cells": [
  {
   "cell_type": "markdown",
   "metadata": {},
   "source": [
    "# Files documentation\n",
    "The workflow here is to have this notebook to describe in more details the files that are available. For version control\n",
    "purposes this file should be commited without output and only run locally."
   ]
  },
  {
   "cell_type": "code",
   "execution_count": 1,
   "metadata": {},
   "outputs": [],
   "source": [
    "from pathlib import Path\n",
    "from pprint import pprint\n",
    "\n",
    "import numpy as np\n",
    "import scipy as sp\n",
    "import pandas as pd\n",
    "import h5py\n",
    "import mat73\n",
    "from scipy.io import loadmat"
   ]
  },
  {
   "cell_type": "markdown",
   "metadata": {},
   "source": [
    "# Data loading\n",
    "Here we load our base path:"
   ]
  },
  {
   "cell_type": "code",
   "execution_count": 21,
   "metadata": {},
   "outputs": [],
   "source": [
    "data_location = '/home/heberto/globus_data'  # Change this with the right location\n",
    "data_path = Path(data_location)\n",
    "author_path = Path(\"SenzaiY\")\n",
    "base_path = data_path.joinpath(author_path)"
   ]
  },
  {
   "cell_type": "markdown",
   "metadata": {},
   "source": [
    "Now, this data sets is organized with one folder per subject. Let's peak inside of  `base_path`: "
   ]
  },
  {
   "cell_type": "code",
   "execution_count": 22,
   "metadata": {},
   "outputs": [
    {
     "data": {
      "text/plain": [
       "dict_keys(['YMV01', 'YMV04'])"
      ]
     },
     "execution_count": 22,
     "metadata": {},
     "output_type": "execute_result"
    }
   ],
   "source": [
    "subject_path_dic = {p.stem:p for p in base_path.iterdir() if p.is_dir()}\n",
    "subject_path_dic.keys()"
   ]
  },
  {
   "cell_type": "markdown",
   "metadata": {},
   "source": [
    "The output should be something like ['YMV01', 'YMV02', ...] indicating the different subjects\n",
    "\n",
    "Inside each of the subjects we can find a folder per sesion:"
   ]
  },
  {
   "cell_type": "code",
   "execution_count": 28,
   "metadata": {},
   "outputs": [
    {
     "data": {
      "text/plain": [
       "dict_keys(['YMV01_170818'])"
      ]
     },
     "execution_count": 28,
     "metadata": {},
     "output_type": "execute_result"
    }
   ],
   "source": [
    "subject = 'YMV01'\n",
    "sessions_path_dic = {p.stem:p for p in subject_path_dic[subject].iterdir() if p.is_dir()}\n",
    "sessions_path_dic.keys()"
   ]
  },
  {
   "cell_type": "markdown",
   "metadata": {},
   "source": [
    "The ouput of this should be: `YMV01_170818`. \n",
    "\n",
    "The name of the sessions fits the following pattern `{subject}_{date}`.\n",
    "\n",
    "Let's gather all the available sessions in one dic for convenience"
   ]
  },
  {
   "cell_type": "code",
   "execution_count": 33,
   "metadata": {},
   "outputs": [
    {
     "data": {
      "text/plain": [
       "{'YMV01_170818': PosixPath('/home/heberto/globus_data/SenzaiY/YMV01/YMV01_170818'),\n",
       " 'YMV04_170907': PosixPath('/home/heberto/globus_data/SenzaiY/YMV04/YMV04_170907')}"
      ]
     },
     "execution_count": 33,
     "metadata": {},
     "output_type": "execute_result"
    }
   ],
   "source": [
    "data_path = Path(\"/home/heberto/globus_data\")\n",
    "author_path = Path(\"SenzaiY\")\n",
    "base_path = data_path.joinpath(author_path)\n",
    "\n",
    "session_list = [\n",
    "    session\n",
    "    for subject in base_path.iterdir()\n",
    "    if subject.is_dir() and \"YMV\" in subject.name\n",
    "    for session in subject.iterdir()\n",
    "]\n",
    "session_path_dic = {session.stem:session for session in session_list if session.is_dir()}\n",
    "session_path_dic"
   ]
  },
  {
   "cell_type": "markdown",
   "metadata": {},
   "source": [
    "The output here should be a combination of session:path for all the sessions"
   ]
  },
  {
   "cell_type": "markdown",
   "metadata": {},
   "source": [
    "# An overview of the available data\n",
    "Let's find out which data types are available. The files with formats `.jpg`, `.png`, `.fig`, `.pdf`, `.svg` are either photos, vector or documents and we will not be concerned about them so we remove them. We  focus here on the first session on the index:"
   ]
  },
  {
   "cell_type": "code",
   "execution_count": 47,
   "metadata": {},
   "outputs": [
    {
     "name": "stdout",
     "output_type": "stream",
     "text": [
      "['', '.1', '.dat', '.eeg', '.json', '.log', '.mat', '.npy', '.nrs', '.nwb',\n",
      " '.pkl', '.tsv', '.xml']\n"
     ]
    }
   ],
   "source": [
    "not_data_formats = ['.jpg', '.png', '.pdf', '.svg', '.fig', '.py']\n",
    "\n",
    "subject = 'YMV01'\n",
    "date = '170818'\n",
    "session = f\"{subject}_{date}\"\n",
    "session_path = session_path_dic[session]\n",
    "\n",
    "format_list = list({p.suffix for p in session_path.rglob('*') if not p.is_dir()})\n",
    "format_list.sort()\n",
    "format_list = [p for p in format_list if p not in not_data_formats]\n",
    "pprint(format_list, compact=True)"
   ]
  },
  {
   "cell_type": "markdown",
   "metadata": {},
   "source": [
    "The output should be something like this:\n",
    "\n",
    "    ['', '.1', '.dat', '.eeg', '.json', '.log', '.mat', '.npy', '.nrs',\n",
    "    '.pkl', '.tsv', '.xml']\n",
    "\n",
    "The goal of this document is to explore the data available on the rest of the formats and we will do so the following sections. Meanwhile, for orientation purposes, here is a brief description of the available formats and the files associated with them\n",
    "\n",
    "1. First we have the format '.l' which are actually two formats `.res.1` and `.clu.1`. These are plain files related to the neuroscope sorting format.\n",
    "\n",
    "2. Then we have the typical '.dat' and '.egg' formats that account for the raw data and the local field potential respectively\n",
    "\n",
    "3. The `.json` seem to be associated with hidden files corresponding to the `.phy` format. This is related to spike sorting.\n",
    "\n",
    "4. The `.log` extension is the log file that corresponds to the `phy` program.\n",
    "\n",
    "5. There is a variety of `.mat` files:\n",
    "\n",
    "6. There is a varety of `.npy` files.\n",
    "\n",
    "7. `.nrs`\n",
    "\n",
    "8. `.pkl` pickled file\n",
    "\n",
    "9. `.tsv` tabular separated data.\n",
    "\n",
    "10. `.xml` an xml file\n",
    "\n"
   ]
  },
  {
   "cell_type": "markdown",
   "metadata": {},
   "source": [
    "# Neuroscope res and clu\n",
    "These files have a name ofr hte format `{session}.res` and `{session}.clu`. Those should be the keys of the \n",
    "following dics"
   ]
  },
  {
   "cell_type": "code",
   "execution_count": 36,
   "metadata": {},
   "outputs": [
    {
     "data": {
      "text/plain": [
       "dict_keys(['YMV01_170818.res', 'YMV01_170818.clu'])"
      ]
     },
     "execution_count": 36,
     "metadata": {},
     "output_type": "execute_result"
    }
   ],
   "source": [
    "sorting_files_dic = {p.stem:p for p in session_path.rglob('*') if p.suffix == '.1'}\n",
    "sorting_files_dic.keys()"
   ]
  },
  {
   "cell_type": "markdown",
   "metadata": {},
   "source": [
    "These are plain text files and can be opened with pandas as a data frame"
   ]
  },
  {
   "cell_type": "code",
   "execution_count": 51,
   "metadata": {},
   "outputs": [
    {
     "data": {
      "text/plain": [
       "((1743849, 1), (1743850, 1))"
      ]
     },
     "execution_count": 51,
     "metadata": {},
     "output_type": "execute_result"
    }
   ],
   "source": [
    "clu_file_name = f\"{session}.clu\"\n",
    "res_file_name = f\"{session}.res\"\n",
    "\n",
    "clu_df = pd.read_csv(sorting_files_dic[clu_file_name], header=None, names=['unit'])\n",
    "res_df = pd.read_csv(sorting_files_dic[res_file_name], header=None, names=['times'])\n",
    "res_df.shape, clu_df.shape"
   ]
  },
  {
   "cell_type": "markdown",
   "metadata": {},
   "source": [
    "The files should have the same shape. As mentioned those are related to spike sorting. `.clu` contains the units and `.res` the times.\n",
    "We can concatenat them to have the associated ready"
   ]
  },
  {
   "cell_type": "code",
   "execution_count": 54,
   "metadata": {},
   "outputs": [
    {
     "data": {
      "text/html": [
       "<div>\n",
       "<style scoped>\n",
       "    .dataframe tbody tr th:only-of-type {\n",
       "        vertical-align: middle;\n",
       "    }\n",
       "\n",
       "    .dataframe tbody tr th {\n",
       "        vertical-align: top;\n",
       "    }\n",
       "\n",
       "    .dataframe thead th {\n",
       "        text-align: right;\n",
       "    }\n",
       "</style>\n",
       "<table border=\"1\" class=\"dataframe\">\n",
       "  <thead>\n",
       "    <tr style=\"text-align: right;\">\n",
       "      <th></th>\n",
       "      <th>unit</th>\n",
       "      <th>times</th>\n",
       "    </tr>\n",
       "  </thead>\n",
       "  <tbody>\n",
       "    <tr>\n",
       "      <th>574500</th>\n",
       "      <td>17</td>\n",
       "      <td>43442222.0</td>\n",
       "    </tr>\n",
       "    <tr>\n",
       "      <th>1710774</th>\n",
       "      <td>38</td>\n",
       "      <td>144753785.0</td>\n",
       "    </tr>\n",
       "    <tr>\n",
       "      <th>685668</th>\n",
       "      <td>31</td>\n",
       "      <td>53373095.0</td>\n",
       "    </tr>\n",
       "    <tr>\n",
       "      <th>1400552</th>\n",
       "      <td>47</td>\n",
       "      <td>121329513.0</td>\n",
       "    </tr>\n",
       "    <tr>\n",
       "      <th>1355614</th>\n",
       "      <td>0</td>\n",
       "      <td>117298280.0</td>\n",
       "    </tr>\n",
       "  </tbody>\n",
       "</table>\n",
       "</div>"
      ],
      "text/plain": [
       "         unit        times\n",
       "574500     17   43442222.0\n",
       "1710774    38  144753785.0\n",
       "685668     31   53373095.0\n",
       "1400552    47  121329513.0\n",
       "1355614     0  117298280.0"
      ]
     },
     "execution_count": 54,
     "metadata": {},
     "output_type": "execute_result"
    }
   ],
   "source": [
    "pd.concat([clu_df, res_df], axis=1).sample(n=5)"
   ]
  },
  {
   "cell_type": "markdown",
   "metadata": {},
   "source": [
    "# Json files"
   ]
  },
  {
   "cell_type": "code",
   "execution_count": 57,
   "metadata": {},
   "outputs": [
    {
     "data": {
      "text/plain": [
       "{'new_cluster_id': PosixPath('/home/heberto/globus_data/SenzaiY/YMV01/YMV01_170818/.phy/new_cluster_id.json'),\n",
       " 'metadata': PosixPath('/home/heberto/globus_data/SenzaiY/YMV01/YMV01_170818/.phy/joblib/phycontrib/template/gui/_get_correlograms/6c2dff01edb0cab33041220e67c54f04/metadata.json')}"
      ]
     },
     "execution_count": 57,
     "metadata": {},
     "output_type": "execute_result"
    }
   ],
   "source": [
    "json_files_dic= {p.stem:p for p in session_path.rglob('*') if p.suffix == '.json'}\n",
    "json_files_dic"
   ]
  },
  {
   "cell_type": "markdown",
   "metadata": {},
   "source": [
    "These files correspond to some meta data of the `phy` software"
   ]
  },
  {
   "cell_type": "markdown",
   "metadata": {},
   "source": [
    "# Mat files\n",
    "Let's gather all the mat files"
   ]
  },
  {
   "cell_type": "code",
   "execution_count": 59,
   "metadata": {},
   "outputs": [
    {
     "data": {
      "text/plain": [
       "dict_keys(['YMV01_170818_wavelet_REM_8_300Hz', 'YMV01_170818.StatePlotMaterials', 'rez', 'cell_metrics', 'YMV01_170818_wavelet_REM_8_300Hz--Whiten', 'session', 'YMV01_170818--InterpUpDownLFP_params', 'YMV01_170818_wavelet_WAKE_8_300Hz--Whiten', 'YMV01_170818_wavelet_WAKE_8_300Hz', 'YMV01_170818-UnitPhaseMod', 'YMV01_170818_UnitFeature', 'YMV01_170818.chanCoords.channelInfo', 'YMV01_170818.waveform_filter_metrics.cellinfo', 'YMV01_170818.eegstates', 'YMV01_170818-MonoSynConvClick', 'YMV01_170818.SlowWaves.events', 'autoclusta_params', 'YMV01_170818--LFPbasedLayer', 'YMV01_170818.mono_res.cellinfo', 'YMV01_170818.SleepScoreLFP.LFP', 'YMV01_170818.SleepState.states', 'YMV01_170818--InterpDownLFP_params', 'YMV01_170818_wavelet_NREM_8_300Hz--Whiten', 'YMV01_170818.SleepScoreMetrics.LFP', 'depthsort_parameter_1', 'meanWaveforms', 'YMV01_170818.spikes.cellinfo', 'YMV01_170818-DownUpAlignedLFP-CSD', 'YMV01_170818.EMGFromLFP.LFP', 'YMV01_170818.session', 'chanMap', 'YMV01_170818_meanWaveforms', 'YMV01_170818_wavelet_NREM_8_300Hz', 'YMV01_170818.noiseLevel.channelInfo', 'YMV01_170818.cell_metrics.cellinfo'])"
      ]
     },
     "execution_count": 59,
     "metadata": {},
     "output_type": "execute_result"
    }
   ],
   "source": [
    "mat_files_dic = {p.stem:p for p in session_path.iterdir() if p.suffix=='.mat'}\n",
    "mat_files_dic.keys()"
   ]
  },
  {
   "cell_type": "code",
   "execution_count": null,
   "metadata": {},
   "outputs": [],
   "source": [
    "'cell_metrics'"
   ]
  },
  {
   "cell_type": "code",
   "execution_count": 61,
   "metadata": {},
   "outputs": [
    {
     "name": "stdout",
     "output_type": "stream",
     "text": [
      "cell_metrics.mat <class 'mat73.AttrDict'>\n",
      "dict_keys(['cell_metrics'])\n"
     ]
    }
   ],
   "source": [
    "file_name = 'cell_metrics'\n",
    "mat_file_path = mat_files_dic[file_name]\n",
    "try:\n",
    "    mat_file = loadmat(mat_file_path)\n",
    "except NotImplementedError:\n",
    "    mat_file = mat73.loadmat(mat_file_path, use_attrdict=True)\n",
    "print(mat_file_path.name, type(mat_file))\n",
    "print(mat_file.keys())"
   ]
  },
  {
   "cell_type": "code",
   "execution_count": null,
   "metadata": {},
   "outputs": [],
   "source": []
  },
  {
   "cell_type": "code",
   "execution_count": 60,
   "metadata": {},
   "outputs": [
    {
     "name": "stdout",
     "output_type": "stream",
     "text": [
      "YMV01_170818_wavelet_REM_8_300Hz.mat <class 'dict'>\n",
      "dict_keys(['__header__', '__version__', '__globals__', 'fmax', 'fmin', 'powMean', 'powStd', 'waveMean', 'waveStd', 'scalefAll', 'f'])\n",
      "YMV01_170818.StatePlotMaterials.mat <class 'dict'>\n",
      "dict_keys(['__header__', '__version__', '__globals__', 'StatePlotMaterials'])\n",
      "rez.mat <class 'mat73.AttrDict'>\n",
      "dict_keys(['rez'])\n",
      "cell_metrics.mat <class 'mat73.AttrDict'>\n",
      "dict_keys(['cell_metrics'])\n",
      "YMV01_170818_wavelet_REM_8_300Hz--Whiten.mat <class 'dict'>\n",
      "dict_keys(['__header__', '__version__', '__globals__', 'fmax', 'fmin', 'powMean', 'powStd', 'waveMean', 'waveStd', 'scalefAll', 'f'])\n",
      "session.mat <class 'mat73.AttrDict'>\n",
      "dict_keys(['session'])\n",
      "YMV01_170818--InterpUpDownLFP_params.mat <class 'dict'>\n",
      "dict_keys(['__header__', '__version__', '__globals__', 'InterpUpDwonLFP_params'])\n",
      "YMV01_170818_wavelet_WAKE_8_300Hz--Whiten.mat <class 'dict'>\n",
      "dict_keys(['__header__', '__version__', '__globals__', 'fmax', 'fmin', 'powMean', 'powStd', 'waveMean', 'waveStd', 'scalefAll', 'f'])\n",
      "YMV01_170818_wavelet_WAKE_8_300Hz.mat <class 'dict'>\n",
      "dict_keys(['__header__', '__version__', '__globals__', 'fmax', 'fmin', 'powMean', 'powStd', 'waveMean', 'waveStd', 'scalefAll', 'f'])\n",
      "YMV01_170818-UnitPhaseMod.mat <class 'dict'>\n",
      "dict_keys(['__header__', '__version__', '__globals__', 'UnitPhaseMod'])\n",
      "YMV01_170818_UnitFeature.mat <class 'dict'>\n",
      "dict_keys(['__header__', '__version__', '__globals__', 'UnitFeature'])\n",
      "YMV01_170818.chanCoords.channelInfo.mat <class 'dict'>\n",
      "dict_keys(['__header__', '__version__', '__globals__', 'chanCoords'])\n",
      "YMV01_170818.waveform_filter_metrics.cellinfo.mat <class 'dict'>\n",
      "dict_keys(['__header__', '__version__', '__globals__', 'waveform_filter_metrics'])\n",
      "YMV01_170818.eegstates.mat <class 'dict'>\n",
      "dict_keys(['__header__', '__version__', '__globals__', 'StateInfo'])\n",
      "YMV01_170818-MonoSynConvClick.mat <class 'dict'>\n",
      "dict_keys(['__header__', '__version__', '__globals__', 'ccgR', 'tR', 'Pred', 'FinalExcCellList', 'FinalInhCellList', 'oops', 'Bounds', 'pureZeroLag', 'excZeroLag', 'wideZeroLag', 'FinalExcMonoSynID', 'FinalExcCellListID', 'FinalInhMonoSynID', 'FinalInhCellListID', 'FinalpureZeroLagID', 'FinalpureZeroLagCellListID', 'FinalpureZeroLagCellList', 'FinalExcMonoSyn', 'FinalInhMonoSyn', 'FinalpureZeroLag', 'Idx'])\n",
      "YMV01_170818.SlowWaves.events.mat <class 'dict'>\n",
      "dict_keys(['__header__', '__version__', '__globals__', 'SlowWaves'])\n",
      "autoclusta_params.mat <class 'dict'>\n",
      "dict_keys(['__header__', '__version__', '__globals__', 'meanR', 'fractRogue', 'maxPwRatio', 'noiseIx', 'muaIx'])\n",
      "YMV01_170818--LFPbasedLayer.mat <class 'dict'>\n",
      "dict_keys(['__header__', '__version__', '__globals__', 'bad_ch', 'LFPbasedLayer', 'Vq'])\n",
      "YMV01_170818.mono_res.cellinfo.mat <class 'mat73.AttrDict'>\n",
      "dict_keys(['mono_res'])\n",
      "YMV01_170818.SleepScoreLFP.LFP.mat <class 'dict'>\n",
      "dict_keys(['__header__', '__version__', '__globals__', 'SleepScoreLFP'])\n",
      "YMV01_170818.SleepState.states.mat <class 'dict'>\n",
      "dict_keys(['__header__', '__version__', '__globals__', 'SleepState'])\n",
      "YMV01_170818--InterpDownLFP_params.mat <class 'dict'>\n",
      "dict_keys(['__header__', '__version__', '__globals__', 'InterpDwonLFP_params'])\n",
      "YMV01_170818_wavelet_NREM_8_300Hz--Whiten.mat <class 'dict'>\n",
      "dict_keys(['__header__', '__version__', '__globals__', 'fmax', 'fmin', 'powMean', 'powStd', 'waveMean', 'waveStd', 'scalefAll', 'f'])\n",
      "YMV01_170818.SleepScoreMetrics.LFP.mat <class 'dict'>\n",
      "dict_keys(['__header__', '__version__', '__globals__', 'SleepScoreMetrics'])\n",
      "depthsort_parameter_1.mat <class 'dict'>\n",
      "dict_keys(['__header__', '__version__', '__globals__', 'depth'])\n",
      "meanWaveforms.mat <class 'dict'>\n",
      "dict_keys(['__header__', '__version__', '__globals__', 'meanWaveforms'])\n",
      "YMV01_170818.spikes.cellinfo.mat <class 'dict'>\n",
      "dict_keys(['__header__', '__version__', '__globals__', 'spikes'])\n",
      "YMV01_170818-DownUpAlignedLFP-CSD.mat <class 'dict'>\n",
      "dict_keys(['__header__', '__version__', '__globals__', 'lfpDownAligned', 'csdDownAligned', 'lfpUpAligned', 'csdUpAligned'])\n",
      "YMV01_170818.EMGFromLFP.LFP.mat <class 'dict'>\n",
      "dict_keys(['__header__', '__version__', '__globals__', 'EMGFromLFP'])\n",
      "YMV01_170818.session.mat <class 'dict'>\n",
      "dict_keys(['__header__', '__version__', '__globals__', 'session'])\n",
      "chanMap.mat <class 'dict'>\n",
      "dict_keys(['__header__', '__version__', '__globals__', 'connected', 'chanMap', 'chanMap0ind', 'xcoords', 'ycoords', 'kcoords'])\n",
      "YMV01_170818_meanWaveforms.mat <class 'dict'>\n",
      "dict_keys(['__header__', '__version__', '__globals__', 'meanWaveforms'])\n",
      "YMV01_170818_wavelet_NREM_8_300Hz.mat <class 'dict'>\n",
      "dict_keys(['__header__', '__version__', '__globals__', 'fmax', 'fmin', 'powMean', 'powStd', 'waveMean', 'waveStd', 'scalefAll', 'f'])\n",
      "YMV01_170818.noiseLevel.channelInfo.mat <class 'dict'>\n",
      "dict_keys(['__header__', '__version__', '__globals__', 'noiseLevel'])\n",
      "YMV01_170818.cell_metrics.cellinfo.mat <class 'dict'>\n",
      "dict_keys(['__header__', '__version__', '__globals__', 'cell_metrics'])\n"
     ]
    }
   ],
   "source": [
    "for file_path in mat_files_dic.values():\n",
    "    try:\n",
    "        mat_file = loadmat(file_path)\n",
    "    except NotImplementedError:\n",
    "        mat_file = mat73.loadmat(file_path, use_attrdict=True)\n",
    "    print(file_path.name, type(mat_file))\n",
    "    print(mat_file.keys())"
   ]
  },
  {
   "cell_type": "markdown",
   "metadata": {},
   "source": [
    "# Numpy files"
   ]
  },
  {
   "cell_type": "code",
   "execution_count": 11,
   "metadata": {},
   "outputs": [
    {
     "data": {
      "text/plain": [
       "dict_keys(['templates_ind', 'spike_times', 'templates', 'pc_feature_ind', 'whitening_mat_inv', 'similar_templates', 'spike_clusters', 'template_features', 'spike_templates', 'template_feature_ind', 'amplitudes', 'channel_map', 'pc_features', 'channel_positions', 'whitening_mat'])"
      ]
     },
     "execution_count": 11,
     "metadata": {},
     "output_type": "execute_result"
    }
   ],
   "source": [
    "numpy_files_dic = {p.stem:p for p in session.rglob('*') if p.suffix == '.npy'}\n",
    "numpy_files_dic.keys()"
   ]
  },
  {
   "cell_type": "markdown",
   "metadata": {},
   "source": [
    "Let's the spike_times file to explore"
   ]
  },
  {
   "cell_type": "code",
   "execution_count": 16,
   "metadata": {},
   "outputs": [
    {
     "data": {
      "text/plain": [
       "(1743849, 1)"
      ]
     },
     "execution_count": 16,
     "metadata": {},
     "output_type": "execute_result"
    }
   ],
   "source": [
    "numpy_file = np.load(numpy_files_dic['spike_times'])\n",
    "numpy_file.shape"
   ]
  },
  {
   "cell_type": "code",
   "execution_count": 23,
   "metadata": {},
   "outputs": [
    {
     "data": {
      "text/plain": [
       "(1743849, 1)"
      ]
     },
     "execution_count": 23,
     "metadata": {},
     "output_type": "execute_result"
    }
   ],
   "source": [
    "numpy_file = np.load(numpy_files_dic['amplitudes'])\n",
    "numpy_file.shape"
   ]
  },
  {
   "cell_type": "code",
   "execution_count": 24,
   "metadata": {},
   "outputs": [
    {
     "data": {
      "text/plain": [
       "(64, 1)"
      ]
     },
     "execution_count": 24,
     "metadata": {},
     "output_type": "execute_result"
    }
   ],
   "source": [
    "numpy_file = np.load(numpy_files_dic['channel_map'])\n",
    "numpy_file.shape"
   ]
  },
  {
   "cell_type": "code",
   "execution_count": 20,
   "metadata": {},
   "outputs": [
    {
     "data": {
      "text/plain": [
       "array([  0,   1,   4,   5,   9,  10,  11,  15,  17,  18,  19,  20,  22,\n",
       "        23,  25,  28,  30,  32,  34,  37,  39,  40,  42,  46,  47,  48,\n",
       "        50,  51,  52,  53,  54,  59,  60,  64,  65,  67,  70,  71,  73,\n",
       "        74,  76,  79,  80,  81,  82,  85,  86,  88,  89,  90,  92,  93,\n",
       "        94,  99, 101, 103, 108, 109, 110, 112, 113, 114, 115, 116, 117,\n",
       "       118, 119, 120, 121, 122, 123, 124, 126, 128, 129, 130, 131, 132,\n",
       "       133, 134, 135, 136, 139, 140, 141, 142, 143, 144, 145, 147, 148,\n",
       "       149, 150, 151, 153, 154, 155, 156, 157, 158, 159, 160, 161, 162,\n",
       "       163, 164, 167, 168, 169, 170, 171, 172, 173, 174, 175, 176, 177,\n",
       "       178, 179, 180, 181, 183, 184, 185, 186, 187, 188, 189, 190, 191,\n",
       "       192, 193, 194, 196, 197, 198, 199, 200, 201, 202, 203, 204, 205,\n",
       "       206, 207, 208, 209, 210, 211, 212, 213, 214, 215, 216, 217, 218,\n",
       "       219, 220, 221, 222, 223, 224, 225, 226, 228, 229, 230, 231, 232,\n",
       "       233, 234, 235, 236, 237, 238, 239, 240, 241, 242, 244, 245, 246,\n",
       "       247, 248, 249, 250, 251, 252, 253, 254, 255, 256, 257, 258, 259,\n",
       "       261, 262, 264, 265, 266, 267, 268, 269, 270, 271, 272, 273, 274,\n",
       "       275, 276, 277, 279, 280, 281, 282, 283, 284, 285, 286, 287, 288,\n",
       "       289, 290, 291, 292, 293, 294, 295, 296, 297, 298, 300, 301, 302,\n",
       "       303, 304, 305, 306, 307, 308, 309, 310, 311, 312, 313, 314, 315,\n",
       "       317, 318, 320, 321, 322, 323, 324, 325, 326, 327, 328, 329, 330,\n",
       "       331, 333, 334, 335, 336, 337, 338, 339, 340, 342, 344, 345, 346,\n",
       "       347, 348, 349, 351, 352, 353, 354, 355, 357, 358, 359, 361, 362,\n",
       "       363, 364, 365, 366, 367, 368, 369, 370, 371, 372, 373, 374, 375,\n",
       "       376, 377, 378, 379, 380, 381, 382, 383, 385, 387, 389, 393, 395,\n",
       "       397, 399, 401, 403, 404, 405, 407, 409, 411, 413, 415, 417, 418,\n",
       "       419, 420, 421, 423, 424, 425, 427, 429, 433, 434, 435, 437, 439,\n",
       "       441, 443, 444, 445, 446, 447, 449, 455, 457, 458, 459, 461, 476,\n",
       "       478, 482, 484, 487, 488, 492, 496, 497, 500, 503, 504, 506, 508,\n",
       "       509, 511, 512, 517, 518, 522, 525, 526, 528, 530, 532, 534, 537,\n",
       "       538, 543, 544, 547, 548, 549, 550, 564, 565, 566, 567, 569, 579,\n",
       "       585, 600, 602, 604, 605, 607, 609, 610, 611, 613, 615, 617, 619,\n",
       "       621, 622, 623, 625, 626, 627, 629, 630, 631, 632, 633, 635, 636,\n",
       "       637, 639, 641, 643, 645, 646, 647, 649, 651, 653, 654, 655, 657,\n",
       "       659, 661, 662, 663, 665, 667, 668, 689, 696, 698, 702, 704, 705,\n",
       "       706, 708, 711, 713, 715, 717, 718, 724, 725, 726, 728, 730, 732,\n",
       "       734, 736, 738, 742, 747, 748, 750, 752, 754, 758, 760, 761, 762,\n",
       "       764, 768, 770, 776, 780, 781, 783, 784, 786, 788, 789, 791, 792,\n",
       "       794, 798, 804, 806, 809, 810, 811, 812, 814, 816, 818, 820, 821,\n",
       "       822, 823, 824, 825, 826, 828, 830, 832, 834, 836, 839, 840, 842,\n",
       "       843, 845, 847, 849, 850, 851, 857, 859, 861, 863, 867, 869, 870,\n",
       "       871, 875, 876, 878, 879, 882], dtype=int32)"
      ]
     },
     "execution_count": 20,
     "metadata": {},
     "output_type": "execute_result"
    }
   ],
   "source": [
    "numpy_file = np.load(numpy_files_dic['spike_clusters'])\n",
    "np.unique(numpy_file)"
   ]
  },
  {
   "cell_type": "code",
   "execution_count": 15,
   "metadata": {},
   "outputs": [
    {
     "data": {
      "text/plain": [
       "(384, 44, 64)"
      ]
     },
     "execution_count": 15,
     "metadata": {},
     "output_type": "execute_result"
    }
   ],
   "source": [
    "numpy_file = np.load(numpy_files_dic['templates'])\n",
    "numpy_file.shape"
   ]
  },
  {
   "cell_type": "markdown",
   "metadata": {},
   "source": [
    "# NRS"
   ]
  },
  {
   "cell_type": "code",
   "execution_count": null,
   "metadata": {},
   "outputs": [],
   "source": []
  },
  {
   "cell_type": "markdown",
   "metadata": {},
   "source": [
    "# Pickled"
   ]
  },
  {
   "cell_type": "code",
   "execution_count": null,
   "metadata": {},
   "outputs": [],
   "source": []
  },
  {
   "cell_type": "markdown",
   "metadata": {},
   "source": [
    "# TSV - Tabular separated file"
   ]
  },
  {
   "cell_type": "code",
   "execution_count": null,
   "metadata": {},
   "outputs": [],
   "source": []
  },
  {
   "cell_type": "markdown",
   "metadata": {},
   "source": [
    "# XML"
   ]
  },
  {
   "cell_type": "code",
   "execution_count": null,
   "metadata": {},
   "outputs": [],
   "source": []
  },
  {
   "cell_type": "code",
   "execution_count": null,
   "metadata": {},
   "outputs": [],
   "source": []
  }
 ],
 "metadata": {
  "interpreter": {
   "hash": "bf3f1544143e7691e2938dbab5616841bdbe91f209b6ec6b17633b8e86e247c2"
  },
  "kernelspec": {
   "display_name": "Python 3.8.11 64-bit ('buzsaki-lab-to-nwb': conda)",
   "name": "python3"
  },
  "language_info": {
   "codemirror_mode": {
    "name": "ipython",
    "version": 3
   },
   "file_extension": ".py",
   "mimetype": "text/x-python",
   "name": "python",
   "nbconvert_exporter": "python",
   "pygments_lexer": "ipython3",
   "version": "3.8.11"
  },
  "orig_nbformat": 4
 },
 "nbformat": 4,
 "nbformat_minor": 2
}
