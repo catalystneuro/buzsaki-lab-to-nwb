{
 "cells": [
  {
   "cell_type": "code",
   "execution_count": null,
   "id": "eab7de83-f74d-4c01-bf29-62678c8def07",
   "metadata": {},
   "outputs": [],
   "source": [
    "from pathlib import Path\n",
    "import random\n",
    "\n",
    "from pynwb import NWBHDF5IO\n",
    "from nwbwidgets import nwb2widget"
   ]
  },
  {
   "cell_type": "markdown",
   "id": "f55033d7-8079-4e1f-b9f8-86891b658300",
   "metadata": {},
   "source": [
    "Chose a random file"
   ]
  },
  {
   "cell_type": "code",
   "execution_count": null,
   "id": "a8d1ba19-3b1c-4099-a613-dee4784b3b1d",
   "metadata": {},
   "outputs": [],
   "source": [
    "nwb_directory_path = Path(\"/shared/catalystneuro/Buzsaki/TingleyD/nwbfiles\")\n",
    "nwb_directory_path = Path(\"/home/jovyan/nwb_test\")\n",
    "nwb_file_path_list = list(nwb_directory_path.iterdir())"
   ]
  },
  {
   "cell_type": "code",
   "execution_count": null,
   "id": "e7a7cadf-a06f-4687-90c6-6ca463996a22",
   "metadata": {},
   "outputs": [],
   "source": [
    "random.seed(2)\n",
    "random_int = random.randint(0, len(nwb_file_path_list))\n",
    "nwb_file_path = nwb_file_path_list[random_int]\n",
    "nwb_file_path.name"
   ]
  },
  {
   "cell_type": "markdown",
   "id": "fe510027-fd2c-4088-a870-07a00b5f63cb",
   "metadata": {},
   "source": [
    "Load the widgets"
   ]
  },
  {
   "cell_type": "code",
   "execution_count": null,
   "id": "57a94caf-1b36-4f0a-965a-111d82f74356",
   "metadata": {},
   "outputs": [],
   "source": [
    "io = NWBHDF5IO(str(nwb_file_path), mode='r')\n",
    "nwb = io.read()\n",
    "\n",
    "nwb2widget(nwb)"
   ]
  },
  {
   "cell_type": "code",
   "execution_count": null,
   "id": "58cdb43d-cb3b-44fc-b564-80556afff059",
   "metadata": {},
   "outputs": [],
   "source": []
  }
 ],
 "metadata": {
  "kernelspec": {
   "display_name": "buzsaki-lab-to-nwb-env",
   "language": "python",
   "name": "buzsaki-lab-to-nwb-env"
  },
  "language_info": {
   "codemirror_mode": {
    "name": "ipython",
    "version": 3
   },
   "file_extension": ".py",
   "mimetype": "text/x-python",
   "name": "python",
   "nbconvert_exporter": "python",
   "pygments_lexer": "ipython3",
   "version": "3.7.11"
  }
 },
 "nbformat": 4,
 "nbformat_minor": 5
}
