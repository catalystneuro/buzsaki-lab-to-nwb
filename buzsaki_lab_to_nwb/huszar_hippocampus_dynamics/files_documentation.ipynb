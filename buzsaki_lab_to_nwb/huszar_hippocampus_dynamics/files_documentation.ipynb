{
 "cells": [
  {
   "cell_type": "code",
   "execution_count": 1,
   "metadata": {},
   "outputs": [],
   "source": [
    "from pathlib import Path\n",
    "import json\n",
    "\n",
    "import numpy as np \n",
    "import matplotlib.pyplot as plt \n",
    "import pandas as pd \n",
    "\n",
    "# from mat73 import loadmat as loadmat_mat73\n",
    "# from mat4py import loadmat as loadmat_mat4py\n",
    "\n",
    "import h5py\n",
    "from scipy.io import loadmat as loadmat_scipy"
   ]
  },
  {
   "attachments": {},
   "cell_type": "markdown",
   "metadata": {},
   "source": [
    "# Session analysis\n",
    "Let's start with a session to look at the files"
   ]
  },
  {
   "attachments": {},
   "cell_type": "markdown",
   "metadata": {},
   "source": [
    "## Files and their description. A first take"
   ]
  },
  {
   "attachments": {},
   "cell_type": "markdown",
   "metadata": {},
   "source": [
    "Peter Petersen, one of the members of the Buzsaki lab, has shared with us the following documents that contain the structure of the cell explorer format:\n",
    "\n",
    "* [new format](https://cellexplorer.org/data-structure/)\n",
    "* [old format](https://github.com/buzsakilab/buzcode/wiki/Data-Formatting-Standards)\n",
    "\n",
    "He referred to the old format as buzcode.\n"
   ]
  },
  {
   "cell_type": "code",
   "execution_count": 7,
   "metadata": {},
   "outputs": [
    {
     "data": {
      "text/plain": [
       "[PosixPath('/Volumes/neurodata/buzaki/HuszarR/optotagCA1/e13/e13_16f1/e13_16f1_210302/e13_16f1_210302.cell_metrics.cellinfo.mat'),\n",
       " PosixPath('/Volumes/neurodata/buzaki/HuszarR/optotagCA1/e13/e13_16f1/e13_16f1_210302/._e13_16f1_210302.cell_metrics.cellinfo.mat'),\n",
       " PosixPath('/Volumes/neurodata/buzaki/HuszarR/optotagCA1/e13/e13_16f1/e13_16f1_210302/e13_16f1_210302.ripples.events.mat'),\n",
       " PosixPath('/Volumes/neurodata/buzaki/HuszarR/optotagCA1/e13/e13_16f1/e13_16f1_210302/._e13_16f1_210302.ripples.events.mat'),\n",
       " PosixPath('/Volumes/neurodata/buzaki/HuszarR/optotagCA1/e13/e13_16f1/e13_16f1_210302/e13_16f1_210302.spikes.cellinfo.mat'),\n",
       " PosixPath('/Volumes/neurodata/buzaki/HuszarR/optotagCA1/e13/e13_16f1/e13_16f1_210302/._e13_16f1_210302.spikes.cellinfo.mat'),\n",
       " PosixPath('/Volumes/neurodata/buzaki/HuszarR/optotagCA1/e13/e13_16f1/e13_16f1_210302/e13_16f1_210302.mono_res.cellinfo.mat'),\n",
       " PosixPath('/Volumes/neurodata/buzaki/HuszarR/optotagCA1/e13/e13_16f1/e13_16f1_210302/._e13_16f1_210302.mono_res.cellinfo.mat'),\n",
       " PosixPath('/Volumes/neurodata/buzaki/HuszarR/optotagCA1/e13/e13_16f1/e13_16f1_210302/e13_16f1_210302.SleepState.states.mat'),\n",
       " PosixPath('/Volumes/neurodata/buzaki/HuszarR/optotagCA1/e13/e13_16f1/e13_16f1_210302/._e13_16f1_210302.SleepState.states.mat'),\n",
       " PosixPath('/Volumes/neurodata/buzaki/HuszarR/optotagCA1/e13/e13_16f1/e13_16f1_210302/e13_16f1_210302.Behavior.mat'),\n",
       " PosixPath('/Volumes/neurodata/buzaki/HuszarR/optotagCA1/e13/e13_16f1/e13_16f1_210302/._e13_16f1_210302.Behavior.mat'),\n",
       " PosixPath('/Volumes/neurodata/buzaki/HuszarR/optotagCA1/e13/e13_16f1/e13_16f1_210302/e13_16f1_210302.session.mat'),\n",
       " PosixPath('/Volumes/neurodata/buzaki/HuszarR/optotagCA1/e13/e13_16f1/e13_16f1_210302/._e13_16f1_210302.session.mat'),\n",
       " PosixPath('/Volumes/neurodata/buzaki/HuszarR/optotagCA1/e13/e13_16f1/e13_16f1_210302/chanMap.mat'),\n",
       " PosixPath('/Volumes/neurodata/buzaki/HuszarR/optotagCA1/e13/e13_16f1/e13_16f1_210302/._chanMap.mat')]"
      ]
     },
     "execution_count": 7,
     "metadata": {},
     "output_type": "execute_result"
    }
   ],
   "source": [
    "# project_root = Path(\"/home/heberto/buzaki/\") # Heberto\n",
    "project_root = Path(\"/Volumes/neurodata/buzaki/HuszarR\") # Garrett\n",
    "# project_root = Path(\"/shared/catalystneuro/HuszarR\") # DANDI\n",
    "\n",
    "session_path = project_root /  \"optotagCA1/e13/e13_16f1/e13_16f1_210302\"\n",
    "assert session_path.is_dir()\n",
    "\n",
    "# Dump to a file in the same folder\n",
    "json_directory = Path.cwd() / \"_json_files\"\n",
    "json_directory.mkdir(exist_ok=True)\n",
    "\n",
    "# Dump project-wide information into a nested folder\n",
    "project_json_directory = json_directory / \"project\"\n",
    "project_json_directory.mkdir(exist_ok=True)\n",
    "\n",
    "session_files_path_list = list(session_path.iterdir())\n",
    "session_files_path_list"
   ]
  },
  {
   "attachments": {},
   "cell_type": "markdown",
   "metadata": {},
   "source": [
    "Now as Cody mention, we have seen some experimental data from this lab already and we are familiar with the names.\n",
    "\n",
    "In a [previous conversion](https://github.com/catalystneuro/buzsaki-lab-to-nwb/blob/master/buzsaki_lab_to_nwb/yuta_visual_cortex/files_documentation.ipynb) I found out that the matlab files contain the following information:\n",
    "\n",
    "\n",
    "\n",
    "* `SleepState.states` : This can be considered processed data involving up-down intervals. This can be include as process data.\n",
    "* `chanMap` : This seems to be concerned with information of the channels in the electrode. For example we find both the x and y coordinates of each of the channels. The structure of the files here is (1, n_channels) where n_channels is 64 for this setup.\n",
    "* `session` : Contains behavioral info and general information related to the session such as the experimenter, the species, the strain and timestamps for the creation of the session.\n",
    "\n",
    "As you see, we have the following descriptions missing:\n",
    "* `.ripples.events.mat`: \n",
    "* `Behavior` : \n",
    "\n",
    "Which is something that we would do below.\n",
    "\n",
    "#### Spike sorting\n",
    "The files related to spike sorting were the following in a previous conversion.\n",
    "\n",
    "For the previous conversion those were the files related to **cell explorer format / interface**:\n",
    "* `metric_cell_info`\n",
    "* `mono_res_cellinfo`\n",
    "* `spikes.cell_info`\n",
    "\n",
    "They don't seem equivalent to the ones here. We need to confirm that they are equivalent to the following files in this conversion:\n",
    "* `cell_metrics.cellinfo.mat`\n",
    "* `cell_metrics.cellinfo`\n",
    "* `spikes.cellinfo`\n",
    "\n",
    "This is done below.\n",
    "\n",
    "Apparently, mono_res means Monosynaptic connections.\n",
    "\n"
   ]
  },
  {
   "attachments": {},
   "cell_type": "markdown",
   "metadata": {},
   "source": [
    "## Exploring some files\n",
    "\n"
   ]
  },
  {
   "attachments": {},
   "cell_type": "markdown",
   "metadata": {},
   "source": [
    "### `SleepState.states`"
   ]
  },
  {
   "attachments": {},
   "cell_type": "markdown",
   "metadata": {},
   "source": [
    "Let's now see now which matlab file opener works best"
   ]
  },
  {
   "cell_type": "code",
   "execution_count": 8,
   "metadata": {},
   "outputs": [
    {
     "name": "stdout",
     "output_type": "stream",
     "text": [
      "__header__ <class 'bytes'>\n",
      "__version__ <class 'str'>\n",
      "__globals__ <class 'list'>\n",
      "SleepState <class 'dict'>\n",
      "[    1     2     3 ... 21004 21005 21006]\n"
     ]
    }
   ],
   "source": [
    "file_path = session_files_path_list[0]\n",
    "file_path = file_path.parent / \"e13_16f1_210302.SleepState.states.mat\"\n",
    "# Open file_path with loadmat_scipy from scipy\n",
    "mat_file = loadmat_scipy(file_path, simplify_cells=True)\n",
    "# Iterate over the keys and print the type of the values\n",
    "for key in mat_file.keys():\n",
    "    print(key, type(mat_file[key]))\n",
    "\n",
    "print(mat_file['SleepState']['idx']['timestamps'])"
   ]
  },
  {
   "attachments": {},
   "cell_type": "markdown",
   "metadata": {},
   "source": [
    "This is a recursive structure. Let's print the keys, types and shapes (if numpy array) for exploration"
   ]
  },
  {
   "cell_type": "code",
   "execution_count": 9,
   "metadata": {},
   "outputs": [],
   "source": [
    "def build_keys_and_types(dictionary):\n",
    "    output_dict = {}\n",
    "    for key, value in dictionary.items():\n",
    "        if isinstance(value, dict):\n",
    "            output_dict[key] = build_keys_and_types(value)\n",
    "        elif isinstance(value, np.ndarray):\n",
    "            if value.size > 10:\n",
    "                output_dict[key] = {\n",
    "                    'type': str(type(value)),\n",
    "                    'shape': str(value.shape)\n",
    "                }\n",
    "            else:\n",
    "                # Print small arrays\n",
    "                output_dict[key] = {\n",
    "                    'type': str(type(value)),\n",
    "                    'value': str(value)\n",
    "                }\n",
    "        elif isinstance(value, list):\n",
    "            if len(value) > 10:\n",
    "                output_dict[key] = {\n",
    "                    'type': str(type(value)),\n",
    "                    'length': len(value)\n",
    "                }\n",
    "            else:\n",
    "                # Print small lists\n",
    "                output_dict[key] = {\n",
    "                    'type': str(type(value)),\n",
    "                    'value': str(value)\n",
    "                }\n",
    "        else:\n",
    "            output_dict[key] = {\n",
    "                \"type\": str(type(value)),\n",
    "                \"value\": str(value),\n",
    "            }\n",
    "    return output_dict\n",
    "\n",
    "# Define your sleep_state_dict here\n",
    "\n",
    "result = build_keys_and_types(mat_file)\n",
    "json_output = json.dumps(result, indent=2)\n",
    "\n",
    "with open(json_directory / 'sleep_state_dict.json', 'w') as f:\n",
    "    f.write(json_output)\n",
    "    "
   ]
  },
  {
   "attachments": {},
   "cell_type": "markdown",
   "metadata": {},
   "source": [
    "If you have a matlab licence, you can also just explore the file there. There are two things to look for, large arrays that might\n",
    "correspond to behavorial data and metadata from the experiment.\n",
    "\n",
    "Because I know the data from this lab I will be looking for the REM state.\n",
    "\n"
   ]
  },
  {
   "cell_type": "code",
   "execution_count": null,
   "metadata": {},
   "outputs": [],
   "source": [
    "sleep_state_dict = mat_file[\"SleepState\"]\n",
    "json_dict = json.dumps(build_keys_and_types(sleep_state_dict), indent=4)"
   ]
  },
  {
   "attachments": {},
   "cell_type": "markdown",
   "metadata": {},
   "source": []
  },
  {
   "cell_type": "code",
   "execution_count": null,
   "metadata": {},
   "outputs": [],
   "source": [
    "sleep_state_dict[\"ints\"]\n"
   ]
  },
  {
   "cell_type": "code",
   "execution_count": null,
   "metadata": {},
   "outputs": [],
   "source": [
    "wake_state = sleep_state_dict[\"ints\"][\"WAKEstate\"]\n",
    "wake_state  # This is the start time and the end time of the wake state. Probably in frames."
   ]
  },
  {
   "attachments": {},
   "cell_type": "markdown",
   "metadata": {},
   "source": [
    "So, we need to confirm the units and this can go as a `TimeIntervals` in a processing module"
   ]
  },
  {
   "cell_type": "code",
   "execution_count": null,
   "metadata": {},
   "outputs": [],
   "source": [
    "statenames = sleep_state_dict[\"idx\"][\"statenames\"]\n",
    "timestamps = sleep_state_dict[\"idx\"][\"timestamps\"]\n",
    "states = sleep_state_dict[\"idx\"][\"states\"]\n",
    "\n",
    "states[:5], timestamps[:5], statenames[:5]"
   ]
  },
  {
   "cell_type": "code",
   "execution_count": null,
   "metadata": {},
   "outputs": [],
   "source": [
    "wake_state = sleep_state_dict[\"ints\"][\"WAKEstate\"]\n",
    "wake_state[:]"
   ]
  },
  {
   "cell_type": "code",
   "execution_count": null,
   "metadata": {},
   "outputs": [],
   "source": [
    "states[1803:1810], timestamps[1803:1810]"
   ]
  },
  {
   "attachments": {},
   "cell_type": "markdown",
   "metadata": {},
   "source": [
    "It apperas to me that the information coincides but the unit of the timestamps are in frames and not in seconds. We need to confirm this.\n",
    "\n",
    "Another possibility is that they are seconds. Let's think this through"
   ]
  },
  {
   "cell_type": "code",
   "execution_count": null,
   "metadata": {},
   "outputs": [],
   "source": [
    "timestamps[-10:]"
   ]
  },
  {
   "attachments": {},
   "cell_type": "markdown",
   "metadata": {},
   "source": [
    "Last timestamps is 21006 which would indicate that the recording is 21006 seconds long. This is 5.8 hours. We can check on the paper if this is the case."
   ]
  },
  {
   "attachments": {},
   "cell_type": "markdown",
   "metadata": {},
   "source": [
    "### `Behavior`"
   ]
  },
  {
   "cell_type": "code",
   "execution_count": 10,
   "metadata": {},
   "outputs": [
    {
     "data": {
      "text/plain": [
       "True"
      ]
     },
     "execution_count": 10,
     "metadata": {},
     "output_type": "execute_result"
    }
   ],
   "source": [
    "file_path = file_path.parent / \"e13_16f1_210302.Behavior.mat\" \n",
    "file_path.is_file()"
   ]
  },
  {
   "cell_type": "code",
   "execution_count": 11,
   "metadata": {},
   "outputs": [],
   "source": [
    "mat_file = loadmat_scipy(file_path, simplify_cells=True)\n",
    "\n",
    "# Output to an external file\n",
    "with open(json_directory / 'behavior_dict.json', 'w') as f:\n",
    "    f.write(json.dumps(build_keys_and_types(mat_file), indent=4))"
   ]
  },
  {
   "attachments": {},
   "cell_type": "markdown",
   "metadata": {},
   "source": [
    "Importantly this contains a date in `date` and subject information in `animal`.\n",
    "Surprisingly, this does not seem to contain any large vector as I expected"
   ]
  },
  {
   "attachments": {},
   "cell_type": "markdown",
   "metadata": {},
   "source": [
    "#### 8 maze task"
   ]
  },
  {
   "cell_type": "code",
   "execution_count": 12,
   "metadata": {},
   "outputs": [
    {
     "data": {
      "text/plain": [
       "((120838,), (120838,), (120838,), (120838,))"
      ]
     },
     "execution_count": 12,
     "metadata": {},
     "output_type": "execute_result"
    }
   ],
   "source": [
    "timestamps = mat_file[\"behavior\"][\"timestamps\"]\n",
    "position = mat_file[\"behavior\"][\"position\"]\n",
    "lin = position[\"lin\"]\n",
    "x = position[\"x\"]\n",
    "y = position[\"y\"]\n",
    "\n",
    "timestamps.shape, lin.shape, x.shape, y.shape"
   ]
  },
  {
   "cell_type": "code",
   "execution_count": 11,
   "metadata": {
    "tags": []
   },
   "outputs": [
    {
     "data": {
      "text/plain": [
       "'alternation'"
      ]
     },
     "execution_count": 11,
     "metadata": {},
     "output_type": "execute_result"
    }
   ],
   "source": [
    "mat_file[\"behavior\"][\"description\"]"
   ]
  },
  {
   "attachments": {},
   "cell_type": "markdown",
   "metadata": {},
   "source": [
    "Plotting the figure looks like and 8 maze with the dimensions that match the 60 x 60 cm in the paper"
   ]
  },
  {
   "cell_type": "code",
   "execution_count": 14,
   "metadata": {},
   "outputs": [
    {
     "data": {
      "text/plain": [
       "array([nan,  0.,  1.,  0.,  1.,  1.,  1.,  0.,  0.,  1.,  1.,  0.,  0.,\n",
       "        1.,  1.,  0.,  0.,  1.,  1.,  1.,  1.,  0.])"
      ]
     },
     "execution_count": 14,
     "metadata": {},
     "output_type": "execute_result"
    }
   ],
   "source": [
    "trials = mat_file[\"behavior\"][\"trials\"]\n",
    "trials['choice']"
   ]
  },
  {
   "cell_type": "code",
   "execution_count": 32,
   "metadata": {},
   "outputs": [
    {
     "data": {
      "text/plain": [
       "['none',\n",
       " 'right',\n",
       " 'left',\n",
       " 'right',\n",
       " 'left',\n",
       " 'left',\n",
       " 'left',\n",
       " 'right',\n",
       " 'right',\n",
       " 'left',\n",
       " 'left',\n",
       " 'right',\n",
       " 'right',\n",
       " 'left',\n",
       " 'left',\n",
       " 'right',\n",
       " 'right',\n",
       " 'left',\n",
       " 'left',\n",
       " 'left',\n",
       " 'left',\n",
       " 'right']"
      ]
     },
     "execution_count": 32,
     "metadata": {},
     "output_type": "execute_result"
    }
   ],
   "source": [
    "def isNaN(num):\n",
    "    return num!= num\n",
    "\n",
    "def to_direction(arr):\n",
    "    output = []\n",
    "    for value in arr:\n",
    "\n",
    "        if (isNaN(value)):\n",
    "            output.append('timeout')\n",
    "        \n",
    "        elif (value == 0):\n",
    "            output.append('right')\n",
    "\n",
    "        else:\n",
    "            output.append('left')\n",
    "\n",
    "    return output\n",
    "\n",
    "to_direction(trials['choice'])"
   ]
  },
  {
   "cell_type": "code",
   "execution_count": 15,
   "metadata": {},
   "outputs": [
    {
     "data": {
      "text/plain": [
       "array([[ 9682.24053333,  9730.1194    ],\n",
       "       [ 9731.3864    ,  9911.7989    ],\n",
       "       [ 9912.73246667,  9972.68103333],\n",
       "       [ 9978.6492    , 10092.8448    ],\n",
       "       [10096.5124    , 10216.60953333],\n",
       "       [10236.51456667, 10335.20623333],\n",
       "       [10340.37423333, 10481.07656667],\n",
       "       [10488.47843333, 10581.20193333],\n",
       "       [10582.00213333, 10700.7989    ],\n",
       "       [10715.13586667, 10916.2202    ],\n",
       "       [10920.12116667, 11124.1729    ],\n",
       "       [11143.11103333, 11369.90186667],\n",
       "       [11382.10496667, 11584.68963333],\n",
       "       [11586.35673333, 11818.98236667],\n",
       "       [11819.4158    , 12071.3797    ],\n",
       "       [12083.24936667, 12304.97223333],\n",
       "       [12307.93966667, 12481.81706667],\n",
       "       [12485.48466667, 12684.035     ],\n",
       "       [12684.9019    , 12848.44336667],\n",
       "       [12862.2802    , 13250.41193333],\n",
       "       [13251.31216667, 13439.19313333],\n",
       "       [13440.09336667, 13682.4548    ]])"
      ]
     },
     "execution_count": 15,
     "metadata": {},
     "output_type": "execute_result"
    }
   ],
   "source": [
    "trials[\"trial_ints\"]"
   ]
  },
  {
   "cell_type": "code",
   "execution_count": 27,
   "metadata": {},
   "outputs": [
    {
     "data": {
      "text/plain": [
       "[9061,\n",
       " 9062,\n",
       " 9063,\n",
       " 9064,\n",
       " 9065,\n",
       " 9066,\n",
       " 9067,\n",
       " 9068,\n",
       " 9069,\n",
       " 9070,\n",
       " 9071,\n",
       " 9072,\n",
       " 9073,\n",
       " 9074,\n",
       " 9075,\n",
       " 9076,\n",
       " 9077,\n",
       " 9078,\n",
       " 9079,\n",
       " 9080,\n",
       " 9081,\n",
       " 9082,\n",
       " 9083,\n",
       " 9084,\n",
       " 9085,\n",
       " 9086,\n",
       " 9087,\n",
       " 9088,\n",
       " 9089,\n",
       " 9090,\n",
       " 9091,\n",
       " 9092,\n",
       " 9093,\n",
       " 9094,\n",
       " 9095,\n",
       " 9096,\n",
       " 9097,\n",
       " 9098,\n",
       " 9099,\n",
       " 9100,\n",
       " 9101,\n",
       " 9102,\n",
       " 9103,\n",
       " 9104,\n",
       " 9105,\n",
       " 9106,\n",
       " 9107,\n",
       " 9108,\n",
       " 9109,\n",
       " 9110,\n",
       " 9111,\n",
       " 9112,\n",
       " 9113,\n",
       " 9114,\n",
       " 9115,\n",
       " 9116,\n",
       " 9117,\n",
       " 9118,\n",
       " 9119,\n",
       " 9120,\n",
       " 9121,\n",
       " 9122,\n",
       " 9123,\n",
       " 9124,\n",
       " 9125,\n",
       " 9126,\n",
       " 9127,\n",
       " 9128,\n",
       " 9129,\n",
       " 9130,\n",
       " 9131,\n",
       " 9132,\n",
       " 9133,\n",
       " 9134,\n",
       " 9135,\n",
       " 9136,\n",
       " 9137,\n",
       " 9138,\n",
       " 9139,\n",
       " 9140,\n",
       " 9141,\n",
       " 9142,\n",
       " 9143,\n",
       " 9144,\n",
       " 9145,\n",
       " 9146,\n",
       " 9147,\n",
       " 9148,\n",
       " 9149,\n",
       " 9150,\n",
       " 9151,\n",
       " 9152,\n",
       " 9153,\n",
       " 9154,\n",
       " 9155,\n",
       " 9156,\n",
       " 9157,\n",
       " 9158,\n",
       " 9159,\n",
       " 9160,\n",
       " 9161,\n",
       " 9162,\n",
       " 9163,\n",
       " 9164,\n",
       " 9165,\n",
       " 9166,\n",
       " 9167,\n",
       " 9168,\n",
       " 9169,\n",
       " 9170,\n",
       " 9171,\n",
       " 9172,\n",
       " 9173,\n",
       " 9174,\n",
       " 9175,\n",
       " 9176,\n",
       " 9177,\n",
       " 9178,\n",
       " 9179,\n",
       " 9180,\n",
       " 9181,\n",
       " 9182,\n",
       " 9183,\n",
       " 9184,\n",
       " 9185,\n",
       " 9186,\n",
       " 9187,\n",
       " 9188,\n",
       " 9189,\n",
       " 9190,\n",
       " 9191,\n",
       " 9192,\n",
       " 9193,\n",
       " 9194,\n",
       " 9195,\n",
       " 9196,\n",
       " 9197,\n",
       " 9198,\n",
       " 9199,\n",
       " 9200,\n",
       " 9201,\n",
       " 9202,\n",
       " 9203,\n",
       " 9204,\n",
       " 9205,\n",
       " 9206,\n",
       " 9207,\n",
       " 9208,\n",
       " 9209,\n",
       " 9210,\n",
       " 9211,\n",
       " 9212,\n",
       " 9213,\n",
       " 9214,\n",
       " 9215,\n",
       " 9216,\n",
       " 9217,\n",
       " 9218,\n",
       " 9219,\n",
       " 9220,\n",
       " 9221,\n",
       " 9222,\n",
       " 9223,\n",
       " 9224,\n",
       " 9225,\n",
       " 9226,\n",
       " 9227,\n",
       " 9228,\n",
       " 9229,\n",
       " 9230,\n",
       " 9231,\n",
       " 9232,\n",
       " 9233,\n",
       " 9234,\n",
       " 9235,\n",
       " 9236,\n",
       " 9237,\n",
       " 9238,\n",
       " 9239,\n",
       " 9240,\n",
       " 9241,\n",
       " 9242,\n",
       " 9243,\n",
       " 9244,\n",
       " 9245,\n",
       " 9246,\n",
       " 9247,\n",
       " 9248,\n",
       " 9249,\n",
       " 9250,\n",
       " 9251,\n",
       " 9252,\n",
       " 9253,\n",
       " 9254,\n",
       " 9255,\n",
       " 9256,\n",
       " 9257,\n",
       " 9258,\n",
       " 9259,\n",
       " 9260,\n",
       " 9261,\n",
       " 9262,\n",
       " 9263,\n",
       " 9264,\n",
       " 9265,\n",
       " 9266,\n",
       " 9267,\n",
       " 9268,\n",
       " 9269,\n",
       " 9270,\n",
       " 9271,\n",
       " 9272,\n",
       " 9273,\n",
       " 9274,\n",
       " 9275,\n",
       " 9276,\n",
       " 9277,\n",
       " 9278,\n",
       " 9279,\n",
       " 9280,\n",
       " 9281,\n",
       " 9282,\n",
       " 9283,\n",
       " 9284,\n",
       " 9285,\n",
       " 9286,\n",
       " 9287,\n",
       " 9288,\n",
       " 9289,\n",
       " 9290,\n",
       " 9291,\n",
       " 9292,\n",
       " 9293,\n",
       " 9294,\n",
       " 9295,\n",
       " 9296,\n",
       " 9297,\n",
       " 9298,\n",
       " 9299,\n",
       " 9300,\n",
       " 9301,\n",
       " 9302,\n",
       " 9303,\n",
       " 9304,\n",
       " 9305,\n",
       " 9306,\n",
       " 9307,\n",
       " 9308,\n",
       " 9309,\n",
       " 9310,\n",
       " 9311,\n",
       " 9312,\n",
       " 9313,\n",
       " 9314,\n",
       " 9315,\n",
       " 9316,\n",
       " 9317,\n",
       " 9318,\n",
       " 9319,\n",
       " 9320,\n",
       " 9321,\n",
       " 9322,\n",
       " 9323,\n",
       " 9324,\n",
       " 9325,\n",
       " 9326,\n",
       " 9327,\n",
       " 9328,\n",
       " 9329,\n",
       " 9330,\n",
       " 9331,\n",
       " 9332,\n",
       " 9333,\n",
       " 9334,\n",
       " 9335,\n",
       " 9336,\n",
       " 9337,\n",
       " 9338,\n",
       " 9339,\n",
       " 9340,\n",
       " 9341,\n",
       " 9342,\n",
       " 9343,\n",
       " 9344,\n",
       " 9345,\n",
       " 9346,\n",
       " 9347,\n",
       " 9348,\n",
       " 9349,\n",
       " 9350,\n",
       " 9351,\n",
       " 9352,\n",
       " 9353,\n",
       " 9354,\n",
       " 9355,\n",
       " 9356,\n",
       " 9357,\n",
       " 9358,\n",
       " 9359,\n",
       " 9360,\n",
       " 9361,\n",
       " 9362,\n",
       " 9363,\n",
       " 9364,\n",
       " 9365,\n",
       " 9366,\n",
       " 9367,\n",
       " 9368,\n",
       " 9369,\n",
       " 9370,\n",
       " 9371,\n",
       " 9372,\n",
       " 9373,\n",
       " 9374,\n",
       " 9375,\n",
       " 9376,\n",
       " 9377,\n",
       " 9378,\n",
       " 9379,\n",
       " 9380,\n",
       " 9381,\n",
       " 9382,\n",
       " 9383,\n",
       " 9384,\n",
       " 9385,\n",
       " 9386,\n",
       " 9387,\n",
       " 9388,\n",
       " 9389,\n",
       " 9390,\n",
       " 9391,\n",
       " 9392,\n",
       " 9393,\n",
       " 9394,\n",
       " 9395,\n",
       " 9396,\n",
       " 9397,\n",
       " 9398,\n",
       " 9399,\n",
       " 9400,\n",
       " 9401,\n",
       " 9402,\n",
       " 9403,\n",
       " 9404,\n",
       " 9405,\n",
       " 9406,\n",
       " 9407,\n",
       " 9408,\n",
       " 9409,\n",
       " 9410,\n",
       " 9411,\n",
       " 9412,\n",
       " 9413,\n",
       " 9414,\n",
       " 9415,\n",
       " 9416,\n",
       " 9417,\n",
       " 9418,\n",
       " 9419,\n",
       " 9420,\n",
       " 9421,\n",
       " 9422,\n",
       " 9423,\n",
       " 9424,\n",
       " 9425,\n",
       " 9426,\n",
       " 9427,\n",
       " 9428,\n",
       " 9429,\n",
       " 9430,\n",
       " 9431,\n",
       " 9432,\n",
       " 9433,\n",
       " 9434,\n",
       " 9435,\n",
       " 9436,\n",
       " 9437,\n",
       " 9438,\n",
       " 9439,\n",
       " 9440,\n",
       " 9441,\n",
       " 9442,\n",
       " 9443,\n",
       " 9444,\n",
       " 9445,\n",
       " 9446,\n",
       " 9447,\n",
       " 9448,\n",
       " 9449,\n",
       " 9450,\n",
       " 9451,\n",
       " 9452,\n",
       " 9453,\n",
       " 9454,\n",
       " 9455,\n",
       " 9456,\n",
       " 9457,\n",
       " 9458,\n",
       " 9459,\n",
       " 9460,\n",
       " 9461,\n",
       " 9462,\n",
       " 9463,\n",
       " 9464,\n",
       " 9465,\n",
       " 9466,\n",
       " 9467,\n",
       " 9468,\n",
       " 9469,\n",
       " 9470,\n",
       " 9471,\n",
       " 9472,\n",
       " 9473,\n",
       " 9474,\n",
       " 9475,\n",
       " 9476,\n",
       " 9477,\n",
       " 9478,\n",
       " 9479,\n",
       " 9480,\n",
       " 9481,\n",
       " 9482,\n",
       " 9483,\n",
       " 9484,\n",
       " 9485,\n",
       " 9486,\n",
       " 9487,\n",
       " 9488,\n",
       " 9489,\n",
       " 9490,\n",
       " 9491,\n",
       " 9492,\n",
       " 9493,\n",
       " 9494,\n",
       " 9495,\n",
       " 9496,\n",
       " 9497,\n",
       " 9498,\n",
       " 9499,\n",
       " 9500,\n",
       " 9501,\n",
       " 9502,\n",
       " 9503,\n",
       " 9504,\n",
       " 9505,\n",
       " 9506,\n",
       " 9507,\n",
       " 9508,\n",
       " 9509,\n",
       " 9510,\n",
       " 9511,\n",
       " 9512,\n",
       " 9513,\n",
       " 9514,\n",
       " 9515,\n",
       " 9516,\n",
       " 9517,\n",
       " 9518,\n",
       " 9519,\n",
       " 9520,\n",
       " 9521,\n",
       " 9522,\n",
       " 9523,\n",
       " 9524,\n",
       " 9525,\n",
       " 9526,\n",
       " 9527,\n",
       " 9528,\n",
       " 9529,\n",
       " 9530,\n",
       " 9531,\n",
       " 9532,\n",
       " 9533,\n",
       " 9534,\n",
       " 9535,\n",
       " 9536,\n",
       " 9537,\n",
       " 9538,\n",
       " 9539,\n",
       " 9540,\n",
       " 9541,\n",
       " 9542,\n",
       " 9543,\n",
       " 9544,\n",
       " 9545,\n",
       " 9546,\n",
       " 9547,\n",
       " 9548,\n",
       " 9549,\n",
       " 9550,\n",
       " 9551,\n",
       " 9552,\n",
       " 9553,\n",
       " 9554,\n",
       " 9555,\n",
       " 9556,\n",
       " 9557,\n",
       " 9558,\n",
       " 9559,\n",
       " 9560,\n",
       " 9561,\n",
       " 9562,\n",
       " 9563,\n",
       " 9564,\n",
       " 9565,\n",
       " 9566,\n",
       " 9567,\n",
       " 9568,\n",
       " 9569,\n",
       " 9570,\n",
       " 9571,\n",
       " 9572,\n",
       " 9573,\n",
       " 9574,\n",
       " 9575,\n",
       " 9576,\n",
       " 9577,\n",
       " 9578,\n",
       " 9579,\n",
       " 9580,\n",
       " 9581,\n",
       " 9582,\n",
       " 9583,\n",
       " 9584,\n",
       " 9585,\n",
       " 9586,\n",
       " 9587,\n",
       " 9588,\n",
       " 9589,\n",
       " 9590,\n",
       " 9591,\n",
       " 9592,\n",
       " 9593,\n",
       " 9594,\n",
       " 9595,\n",
       " 9596,\n",
       " 9597,\n",
       " 9598,\n",
       " 9599,\n",
       " 9600,\n",
       " 9601,\n",
       " 9602,\n",
       " 9603,\n",
       " 9604,\n",
       " 9605,\n",
       " 9606,\n",
       " 9607,\n",
       " 9608,\n",
       " 9609,\n",
       " 9610,\n",
       " 9611,\n",
       " 9612,\n",
       " 9613,\n",
       " 9614,\n",
       " 9615,\n",
       " 9616,\n",
       " 9617,\n",
       " 9618,\n",
       " 9619,\n",
       " 9620,\n",
       " 9621,\n",
       " 9622,\n",
       " 9623,\n",
       " 9624,\n",
       " 9625,\n",
       " 9626,\n",
       " 9627,\n",
       " 9628,\n",
       " 9629,\n",
       " 9630,\n",
       " 9631,\n",
       " 9632,\n",
       " 9633,\n",
       " 9634,\n",
       " 9635,\n",
       " 9636,\n",
       " 9637,\n",
       " 9638,\n",
       " 9639,\n",
       " 9640,\n",
       " 9641,\n",
       " 9642,\n",
       " 9643,\n",
       " 9644,\n",
       " 9645,\n",
       " 9646,\n",
       " 9647,\n",
       " 9648,\n",
       " 9649,\n",
       " 9650,\n",
       " 9651,\n",
       " 9652,\n",
       " 9653,\n",
       " 9654,\n",
       " 9655,\n",
       " 9656,\n",
       " 9657,\n",
       " 9658,\n",
       " 9659,\n",
       " 9660,\n",
       " 9661,\n",
       " 9662,\n",
       " 9663,\n",
       " 9664,\n",
       " 9665,\n",
       " 9666,\n",
       " 9667,\n",
       " 9668,\n",
       " 9669,\n",
       " 9670,\n",
       " 9671,\n",
       " 9672,\n",
       " 9673,\n",
       " 9674,\n",
       " 9675,\n",
       " 9676,\n",
       " 9677,\n",
       " 9678,\n",
       " 9679,\n",
       " 9680,\n",
       " 9681,\n",
       " 9682,\n",
       " 9683,\n",
       " 9684,\n",
       " 9685,\n",
       " 9686,\n",
       " 9687,\n",
       " 9688,\n",
       " 9689,\n",
       " 9690,\n",
       " 9691,\n",
       " 9692,\n",
       " 9693,\n",
       " 9694,\n",
       " 9695,\n",
       " 9696,\n",
       " 9697,\n",
       " 9698,\n",
       " 9699,\n",
       " 9700,\n",
       " 9701,\n",
       " 9702,\n",
       " 9703,\n",
       " 9704,\n",
       " 9705,\n",
       " 9706,\n",
       " 9707,\n",
       " 9708,\n",
       " 9709,\n",
       " 9710,\n",
       " 9711,\n",
       " 9712,\n",
       " 9713,\n",
       " 9714,\n",
       " 9715,\n",
       " 9716,\n",
       " 9717,\n",
       " 9718,\n",
       " 9719,\n",
       " 9720,\n",
       " 9721,\n",
       " 9722,\n",
       " 9723,\n",
       " 9724,\n",
       " 9725,\n",
       " 9726,\n",
       " 9727,\n",
       " 9728,\n",
       " 9729,\n",
       " 9730,\n",
       " 9731,\n",
       " 9732,\n",
       " 9733,\n",
       " 9734,\n",
       " 9735,\n",
       " 9736,\n",
       " 9737,\n",
       " 9738,\n",
       " 9739,\n",
       " 9740,\n",
       " 9741,\n",
       " 9742,\n",
       " 9743,\n",
       " 9744,\n",
       " 9745,\n",
       " 9746,\n",
       " 9747,\n",
       " 9748,\n",
       " 9749,\n",
       " 9750,\n",
       " 9751,\n",
       " 9752,\n",
       " 9753,\n",
       " 9754,\n",
       " 9755,\n",
       " 9756,\n",
       " 9757,\n",
       " 9758,\n",
       " 9759,\n",
       " 9760,\n",
       " 9761,\n",
       " 9762,\n",
       " 9763,\n",
       " 9764,\n",
       " 9765,\n",
       " 9766,\n",
       " 9767,\n",
       " 9768,\n",
       " 9769,\n",
       " 9770,\n",
       " 9771,\n",
       " 9772,\n",
       " 9773,\n",
       " 9774,\n",
       " 9775,\n",
       " 9776,\n",
       " 9777,\n",
       " 9778,\n",
       " 9779,\n",
       " 9780,\n",
       " 9781,\n",
       " 9782,\n",
       " 9783,\n",
       " 9784,\n",
       " 9785,\n",
       " 9786,\n",
       " 9787,\n",
       " 9788,\n",
       " 9789,\n",
       " 9790,\n",
       " 9791,\n",
       " 9792,\n",
       " 9793,\n",
       " 9794,\n",
       " 9795,\n",
       " 9796,\n",
       " 9797,\n",
       " 9798,\n",
       " 9799,\n",
       " 9800,\n",
       " 9801,\n",
       " 9802,\n",
       " 9803,\n",
       " 9804,\n",
       " 9805,\n",
       " 9806,\n",
       " 9807,\n",
       " 9808,\n",
       " 9809,\n",
       " 9810,\n",
       " 9811,\n",
       " 9812,\n",
       " 9813,\n",
       " 9814,\n",
       " 9815,\n",
       " 9816,\n",
       " 9817,\n",
       " 9818,\n",
       " 9819,\n",
       " 9820,\n",
       " 9821,\n",
       " 9822,\n",
       " 9823,\n",
       " 9824,\n",
       " 9825,\n",
       " 9826,\n",
       " 9827,\n",
       " 9828,\n",
       " 9829,\n",
       " 9830,\n",
       " 9831,\n",
       " 9832,\n",
       " 9833,\n",
       " 9834,\n",
       " 9835,\n",
       " 9836,\n",
       " 9837,\n",
       " 9838,\n",
       " 9839,\n",
       " 9840,\n",
       " 9841,\n",
       " 9842,\n",
       " 9843,\n",
       " 9844,\n",
       " 9845,\n",
       " 9846,\n",
       " 9847,\n",
       " 9848,\n",
       " 9849,\n",
       " 9850,\n",
       " 9851,\n",
       " 9852,\n",
       " 9853,\n",
       " 9854,\n",
       " 9855,\n",
       " 9856,\n",
       " 9857,\n",
       " 9858,\n",
       " 9859,\n",
       " 9860,\n",
       " 9861,\n",
       " 9862,\n",
       " 9863,\n",
       " 9864,\n",
       " 9865,\n",
       " 9866,\n",
       " 9867,\n",
       " 9868,\n",
       " 9869,\n",
       " 9870,\n",
       " 9871,\n",
       " 9872,\n",
       " 9873,\n",
       " 9874,\n",
       " 9875,\n",
       " 9876,\n",
       " 9877,\n",
       " 9878,\n",
       " 9879,\n",
       " 9880,\n",
       " 9881,\n",
       " 9882,\n",
       " 9883,\n",
       " 9884,\n",
       " 9885,\n",
       " 9886,\n",
       " 9887,\n",
       " 9888,\n",
       " 9889,\n",
       " 9890,\n",
       " 9891,\n",
       " 9892,\n",
       " 9893,\n",
       " 9894,\n",
       " 9895,\n",
       " 9896,\n",
       " 9897,\n",
       " 9898,\n",
       " 9899,\n",
       " 9900,\n",
       " 9901,\n",
       " 9902,\n",
       " 9903,\n",
       " 9904,\n",
       " 9905,\n",
       " 9906,\n",
       " 9907,\n",
       " 9908,\n",
       " 9909,\n",
       " 9910,\n",
       " 9911,\n",
       " 9912,\n",
       " 9913,\n",
       " 9914,\n",
       " 9915,\n",
       " 9916,\n",
       " 9917,\n",
       " 9918,\n",
       " 9919,\n",
       " 9920,\n",
       " 9921,\n",
       " 9922,\n",
       " 9923,\n",
       " 9924,\n",
       " 9925,\n",
       " 9926,\n",
       " 9927,\n",
       " 9928,\n",
       " 9929,\n",
       " 9930,\n",
       " 9931,\n",
       " 9932,\n",
       " 9933,\n",
       " 9934,\n",
       " 9935,\n",
       " 9936,\n",
       " 9937,\n",
       " 9938,\n",
       " 9939,\n",
       " 9940,\n",
       " 9941,\n",
       " 9942,\n",
       " 9943,\n",
       " 9944,\n",
       " 9945,\n",
       " 9946,\n",
       " 9947,\n",
       " 9948,\n",
       " 9949,\n",
       " 9950,\n",
       " 9951,\n",
       " 9952,\n",
       " 9953,\n",
       " 9954,\n",
       " 9955,\n",
       " 9956,\n",
       " 9957,\n",
       " 9958,\n",
       " 9959,\n",
       " 9960,\n",
       " 9961,\n",
       " 9962,\n",
       " 9963,\n",
       " 9964,\n",
       " 9965,\n",
       " 9966,\n",
       " 9967,\n",
       " 9968,\n",
       " 9969,\n",
       " 9970,\n",
       " 9971,\n",
       " 9972,\n",
       " 9973,\n",
       " 9974,\n",
       " 9975,\n",
       " 9976,\n",
       " 9977,\n",
       " 9978,\n",
       " 9979,\n",
       " 9980,\n",
       " 9981,\n",
       " 9982,\n",
       " 9983,\n",
       " 9984,\n",
       " 9985,\n",
       " 9986,\n",
       " 9987,\n",
       " 9988,\n",
       " 9989,\n",
       " 9990,\n",
       " 9991,\n",
       " 9992,\n",
       " 9993,\n",
       " 9994,\n",
       " 9995,\n",
       " 9996,\n",
       " 9997,\n",
       " 9998,\n",
       " 9999,\n",
       " 10000,\n",
       " 10001,\n",
       " 10002,\n",
       " 10003,\n",
       " 10004,\n",
       " 10005,\n",
       " 10006,\n",
       " 10007,\n",
       " 10008,\n",
       " 10009,\n",
       " 10010,\n",
       " 10011,\n",
       " 10012,\n",
       " 10013,\n",
       " 10014,\n",
       " 10015,\n",
       " 10016,\n",
       " 10017,\n",
       " 10018,\n",
       " 10019,\n",
       " 10020,\n",
       " 10021,\n",
       " 10022,\n",
       " 10023,\n",
       " 10024,\n",
       " 10025,\n",
       " 10026,\n",
       " 10027,\n",
       " 10028,\n",
       " 10029,\n",
       " 10030,\n",
       " 10031,\n",
       " 10032,\n",
       " 10033,\n",
       " 10034,\n",
       " 10035,\n",
       " 10036,\n",
       " 10037,\n",
       " 10038,\n",
       " 10039,\n",
       " 10040,\n",
       " 10041,\n",
       " 10042,\n",
       " 10043,\n",
       " 10044,\n",
       " 10045,\n",
       " 10046,\n",
       " 10047,\n",
       " 10048,\n",
       " 10049,\n",
       " 10050,\n",
       " 10051,\n",
       " 10052,\n",
       " 10053,\n",
       " 10054,\n",
       " 10055,\n",
       " 10056,\n",
       " 10057,\n",
       " 10058,\n",
       " 10059,\n",
       " 10060,\n",
       " ...]"
      ]
     },
     "execution_count": 27,
     "metadata": {},
     "output_type": "execute_result"
    }
   ],
   "source": [
    "def find_indices(lst, condition):\n",
    "    return [i for i, elem in enumerate(lst) if condition(elem)]\n",
    "\n",
    "find_indices(timestamps, lambda e: e > 9972.68103333) #,  9972.68103333)"
   ]
  },
  {
   "cell_type": "code",
   "execution_count": 29,
   "metadata": {},
   "outputs": [
    {
     "data": {
      "text/plain": [
       "[<matplotlib.lines.Line2D at 0x1224a3a50>]"
      ]
     },
     "execution_count": 29,
     "metadata": {},
     "output_type": "execute_result"
    },
    {
     "data": {
      "image/png": "[encoded data removed]",
      "text/plain": [
       "<Figure size 640x480 with 1 Axes>"
      ]
     },
     "metadata": {},
     "output_type": "display_data"
    }
   ],
   "source": [
    "plt.plot(x[1824:3000], y[1824:3000])"
   ]
  },
  {
   "cell_type": "code",
   "execution_count": 28,
   "metadata": {},
   "outputs": [
    {
     "data": {
      "text/plain": [
       "[<matplotlib.lines.Line2D at 0x1224c2910>]"
      ]
     },
     "execution_count": 28,
     "metadata": {},
     "output_type": "execute_result"
    },
    {
     "data": {
      "image/png": "[encoded data removed]",
      "text/plain": [
       "<Figure size 640x480 with 1 Axes>"
      ]
     },
     "metadata": {},
     "output_type": "display_data"
    }
   ],
   "source": [
    "plt.plot(x[7264:9061], y[7264:9061])"
   ]
  },
  {
   "cell_type": "code",
   "execution_count": null,
   "metadata": {},
   "outputs": [],
   "source": [
    "timestamps[:5]"
   ]
  },
  {
   "attachments": {},
   "cell_type": "markdown",
   "metadata": {},
   "source": [
    "The attributes on maps though seems to map the times to something else. I am not sure yet what"
   ]
  },
  {
   "cell_type": "code",
   "execution_count": null,
   "metadata": {},
   "outputs": [],
   "source": [
    "mat_file[\"behavior\"][\"maps\"][0]"
   ]
  },
  {
   "cell_type": "code",
   "execution_count": null,
   "metadata": {},
   "outputs": [],
   "source": [
    "mat_file[\"behavior\"][\"maps\"][1]"
   ]
  },
  {
   "attachments": {},
   "cell_type": "markdown",
   "metadata": {},
   "source": [
    "Importantly the timestamps do not start at 0. We need to figure this out."
   ]
  },
  {
   "cell_type": "code",
   "execution_count": null,
   "metadata": {},
   "outputs": [],
   "source": [
    "plt.plot(timestamps, lin)"
   ]
  },
  {
   "attachments": {},
   "cell_type": "markdown",
   "metadata": {},
   "source": [
    "I think this is the trajectory looked as linearly, as that matches with the lenght of the task 205 as described in the paper."
   ]
  },
  {
   "attachments": {},
   "cell_type": "markdown",
   "metadata": {},
   "source": [
    "#### Trials"
   ]
  },
  {
   "cell_type": "code",
   "execution_count": null,
   "metadata": {},
   "outputs": [],
   "source": [
    "trials = mat_file[\"behavior\"][\"trials\"]\n",
    "trials['choice']"
   ]
  },
  {
   "cell_type": "code",
   "execution_count": null,
   "metadata": {},
   "outputs": [],
   "source": [
    "trials[\"trial_ints\"]"
   ]
  },
  {
   "cell_type": "code",
   "execution_count": null,
   "metadata": {},
   "outputs": [],
   "source": [
    "trials[\"endDelay\"]"
   ]
  },
  {
   "cell_type": "code",
   "execution_count": null,
   "metadata": {},
   "outputs": [],
   "source": [
    "trials[\"startPoint\"]"
   ]
  },
  {
   "cell_type": "code",
   "execution_count": null,
   "metadata": {},
   "outputs": [],
   "source": [
    "trials[\"recorings\"]"
   ]
  },
  {
   "attachments": {},
   "cell_type": "markdown",
   "metadata": {},
   "source": [
    "#### Events"
   ]
  },
  {
   "cell_type": "code",
   "execution_count": null,
   "metadata": {},
   "outputs": [],
   "source": [
    "events = mat_file[\"behavior\"][\"events\"]\n",
    "events.keys()"
   ]
  },
  {
   "cell_type": "code",
   "execution_count": null,
   "metadata": {},
   "outputs": [],
   "source": [
    "events[\"rReward\"]"
   ]
  },
  {
   "attachments": {},
   "cell_type": "markdown",
   "metadata": {},
   "source": [
    "### `ripples.events.mat`"
   ]
  },
  {
   "cell_type": "code",
   "execution_count": null,
   "metadata": {},
   "outputs": [],
   "source": [
    "file_path = session_files_path_list[0]\n",
    "file_path = file_path.parent / \"e13_16f1_210302.ripples.events.mat\"\n",
    "file_path.is_file()"
   ]
  },
  {
   "cell_type": "code",
   "execution_count": null,
   "metadata": {},
   "outputs": [],
   "source": [
    "mat_file = loadmat_scipy(file_path, simplify_cells=True)\n",
    "\n",
    "# Output to an external file\n",
    "with open(json_directory / 'riples.json', 'w') as f:\n",
    "    f.write(json.dumps(build_keys_and_types(mat_file), indent=4))"
   ]
  },
  {
   "cell_type": "code",
   "execution_count": null,
   "metadata": {},
   "outputs": [],
   "source": [
    "mat_file['ripples']['timestamps']"
   ]
  },
  {
   "attachments": {},
   "cell_type": "markdown",
   "metadata": {},
   "source": [
    "This is a large file. We need to look into the paper to see what should be stored from here"
   ]
  },
  {
   "attachments": {},
   "cell_type": "markdown",
   "metadata": {},
   "source": [
    "### `chanMap.mat`"
   ]
  },
  {
   "cell_type": "code",
   "execution_count": null,
   "metadata": {},
   "outputs": [],
   "source": [
    "file_path = session_files_path_list[0]\n",
    "file_path = file_path.parent / \"chanMap.mat\"\n",
    "file_path.is_file()\n"
   ]
  },
  {
   "cell_type": "code",
   "execution_count": null,
   "metadata": {},
   "outputs": [],
   "source": [
    "# Write this to a file for visualization\n",
    "with open(json_directory / 'chanMap.json', 'w') as f:\n",
    "    f.write(json.dumps(build_keys_and_types(mat_file), indent=4))"
   ]
  },
  {
   "cell_type": "code",
   "execution_count": null,
   "metadata": {},
   "outputs": [],
   "source": [
    "mat_file = loadmat_scipy(file_path, simplify_cells=True)\n",
    "\n",
    "colors = {2: \"red\", 1: \"blue\", 3: \"green\", 4: \"yellow\"}\n",
    "colors_for_k_cores = [colors[int(k)] for k in mat_file[\"kcoords\"]]\n",
    "\n",
    "plt.scatter(mat_file[\"xcoords\"][:], mat_file[\"ycoords\"][:], color=colors_for_k_cores)"
   ]
  },
  {
   "cell_type": "code",
   "execution_count": null,
   "metadata": {},
   "outputs": [],
   "source": [
    "mat_file[\"side\"]\n",
    "colors_for_back = {\"Front\": \"red\", \"Back\": \"blue\"}\n",
    "\n",
    "colors_for_k_cores = [colors_for_back[k] for k in mat_file[\"side\"]]\n",
    "\n",
    "\n",
    "plt.scatter(mat_file[\"xcoords\"][:], mat_file[\"ycoords\"][:], color=colors_for_k_cores)"
   ]
  },
  {
   "attachments": {},
   "cell_type": "markdown",
   "metadata": {},
   "source": [
    "There are some time series here but no information about the channels as I was expecting."
   ]
  },
  {
   "attachments": {},
   "cell_type": "markdown",
   "metadata": {},
   "source": [
    "### `Session`"
   ]
  },
  {
   "cell_type": "code",
   "execution_count": null,
   "metadata": {},
   "outputs": [],
   "source": [
    "file_path = session_files_path_list[0]\n",
    "file_path = file_path.parent / \"e13_16f1_210302.session.mat\"\n",
    "file_path.is_file()\n"
   ]
  },
  {
   "cell_type": "code",
   "execution_count": null,
   "metadata": {},
   "outputs": [],
   "source": [
    "mat_file = loadmat_scipy(file_path, simplify_cells=True)\n",
    "\n",
    "# Output to an external file\n",
    "with open(json_directory / 'session.json', 'w') as f:\n",
    "    f.write(json.dumps(build_keys_and_types(mat_file), indent=4))"
   ]
  },
  {
   "attachments": {},
   "cell_type": "markdown",
   "metadata": {},
   "source": [
    "This contains useful information like subject, animal and an epoch file.\n",
    "Probably less relevant is information about other sources of data such as spikesorting and some of the analogous channels."
   ]
  },
  {
   "attachments": {},
   "cell_type": "markdown",
   "metadata": {},
   "source": [
    "# Spikesorting \n",
    "\n",
    "## Testing CellExplorer"
   ]
  },
  {
   "cell_type": "code",
   "execution_count": null,
   "metadata": {},
   "outputs": [],
   "source": [
    "from spikeinterface.extractors import CellExplorerSortingExtractor\n",
    "\n",
    "file_path = session_files_path_list[0].parent / \"e13_16f1_210302.spikes.cellinfo.mat\"\n",
    "try:\n",
    "    extractor = CellExplorerSortingExtractor(file_path)\n",
    "except Exception as e:\n",
    "    print(e)"
   ]
  },
  {
   "attachments": {},
   "cell_type": "markdown",
   "metadata": {},
   "source": [
    "No `sessionInfo` for this file so the above throws an assertion. Let's see what each of the files.\n",
    "\n",
    "The `CellExplorerSortingExtractor` uses the `sessionInfo` to extract the sampling frequency. But that might be somehwere else. \n",
    "\n",
    "Importantly, the files should contain the fields `UID` and `times` in a field called `spikes`. Let's see if any of the files contain this information and if it is consistent across them\n",
    "\n",
    "After a second look and some comunication with Petersen it seems that we can use the `spikes.cellinfo` file. We can modify the `CellExplorerSortingExtractor` to use this file instead of the `sessionInfo` file to extract sampling rate."
   ]
  },
  {
   "attachments": {},
   "cell_type": "markdown",
   "metadata": {},
   "source": [
    "## Individual spike files"
   ]
  },
  {
   "attachments": {},
   "cell_type": "markdown",
   "metadata": {},
   "source": [
    "### `spikes.cellinfo.mat`"
   ]
  },
  {
   "cell_type": "code",
   "execution_count": null,
   "metadata": {},
   "outputs": [],
   "source": [
    "file_path = session_files_path_list[0].parent / \"e13_16f1_210302.spikes.cellinfo.mat\"\n",
    "\n",
    "mat_file = loadmat_scipy(file_path, simplify_cells=True)\n",
    "\n",
    "# Output to an external file\n",
    "with open(json_directory / 'spikes.cellinfo.json', 'w') as f:\n",
    "    f.write(json.dumps(build_keys_and_types(mat_file), indent=4))"
   ]
  },
  {
   "cell_type": "code",
   "execution_count": null,
   "metadata": {},
   "outputs": [],
   "source": [
    "spikes = mat_file[\"spikes\"]\n",
    "spikes.keys()"
   ]
  },
  {
   "cell_type": "code",
   "execution_count": null,
   "metadata": {},
   "outputs": [],
   "source": [
    "sampling_rate = spikes[\"sr\"]\n",
    "cluster_id = spikes[\"cluID\"]\n",
    "times = spikes[\"times\"]\n",
    "unit_ids = spikes[\"UID\"]\n",
    "\n",
    "sampling_rate, cluster_id.shape, times.shape, unit_ids.shape, unit_ids[:3], cluster_id[:3], times[:3][0][:3]\n"
   ]
  },
  {
   "attachments": {},
   "cell_type": "markdown",
   "metadata": {},
   "source": [
    "### `cell_metrics.cellinfo.mat`"
   ]
  },
  {
   "cell_type": "code",
   "execution_count": null,
   "metadata": {},
   "outputs": [],
   "source": [
    "file_path = session_files_path_list[0].parent / \"e13_16f1_210302.cell_metrics.cellinfo.mat\"\n",
    "mat_file = loadmat_scipy(file_path, simplify_cells=True)\n",
    "\n",
    "# Ouput to an external file\n",
    "with open(json_directory / 'cell_metrics.cellinfo.json', 'w') as f:\n",
    "    f.write(json.dumps(build_keys_and_types(mat_file), indent=4))"
   ]
  },
  {
   "cell_type": "code",
   "execution_count": null,
   "metadata": {},
   "outputs": [],
   "source": [
    "times = mat_file[\"cell_metrics\"][\"spikes\"][\"times\"]\n",
    "unit_ids = mat_file[\"cell_metrics\"][\"UID\"]\n",
    "unit_ids = mat_file[\"cell_metrics\"][\"cluID\"]\n",
    "sampling_rate = None \n",
    "\n",
    "sampling_rate, cluster_id.shape, times.shape, unit_ids.shape, unit_ids[:3], cluster_id[:3], times[:3][0][:3]\n"
   ]
  },
  {
   "attachments": {},
   "cell_type": "markdown",
   "metadata": {},
   "source": [
    "### `mono_ress.cellinfo.mat`"
   ]
  },
  {
   "cell_type": "code",
   "execution_count": null,
   "metadata": {},
   "outputs": [],
   "source": [
    "file_path = session_files_path_list[0].parent / \"e13_16f1_210302.mono_res.cellinfo.mat\"\n",
    "mat_file = loadmat_scipy(file_path, simplify_cells=True)\n",
    "\n",
    "# Output to an external file\n",
    "with open(json_directory / 'mono_res.json', 'w') as f:\n",
    "    f.write(json.dumps(build_keys_and_types(mat_file), indent=4))\n",
    "    \n"
   ]
  },
  {
   "attachments": {},
   "cell_type": "markdown",
   "metadata": {},
   "source": [
    "This is somet other analysis concerning `Monosynaptic connections.`"
   ]
  },
  {
   "attachments": {},
   "cell_type": "markdown",
   "metadata": {},
   "source": [
    "## Using cellexplorer with `spikes.cellinfo.mat`"
   ]
  },
  {
   "cell_type": "code",
   "execution_count": null,
   "metadata": {},
   "outputs": [],
   "source": [
    "from spikeinterface.extractors import CellExplorerSortingExtractor\n",
    "\n",
    "file_path = session_files_path_list[0].parent / \"e13_16f1_210302.spikes.cellinfo.mat\"\n",
    "\n",
    "try:\n",
    "    extractor = CellExplorerSortingExtractor(file_path, sampling_frequency=30_000.0)\n",
    "except Exception as e:\n",
    "    print(e)"
   ]
  },
  {
   "attachments": {},
   "cell_type": "markdown",
   "metadata": {},
   "source": [
    "## Check for Consistency across Files\n",
    "The following code will loop over all the folders contained in a given directory and track where they occur. This will give us an indication of the file *structure* consistency—which we can also use to detect whether the data in those files is homogeneous as well."
   ]
  },
  {
   "cell_type": "code",
   "execution_count": null,
   "metadata": {},
   "outputs": [],
   "source": [
    "import os\n",
    "from tqdm.notebook import tqdm\n",
    "\n",
    "def aggregate_file_info(parent_folder, func, aggregator=None):\n",
    "    \n",
    "    if aggregator is None:\n",
    "       aggregator = []\n",
    "\n",
    "\n",
    "    naming_conventions = {}\n",
    "    # for root, dirs, files in tqdm(os.walk(parent_folder)):\n",
    "    #     for file in tqdm(files):\n",
    "    for root, dirs, files in os.walk(parent_folder):\n",
    "        for file in files:\n",
    "            filename, ext = os.path.splitext(file)\n",
    "            # if filename and filename[0] != '.':\n",
    "            if filename:\n",
    "                if (filename[0] == '.'): \n",
    "                    filename = filename[1:]\n",
    "                split_path = filename.split('.')\n",
    "                naming_convention = '.'.join(split_path[1:]) if len(split_path) > 1 else filename # Remove the '.' character\n",
    "                if naming_convention not in naming_conventions:\n",
    "                    naming_conventions[naming_convention] = [] if (isinstance(aggregator, list)) else {} # Use aggregator type as a base\n",
    "                \n",
    "                info = func(\n",
    "                    file = file,\n",
    "                    naming_convention = naming_convention,\n",
    "                    root = root,\n",
    "                    parent_folder = parent_folder\n",
    "                )\n",
    "\n",
    "                if isinstance(naming_conventions[naming_convention], list):\n",
    "                    naming_conventions[naming_convention].append(info)\n",
    "\n",
    "                else: \n",
    "                    naming_conventions[naming_convention][file] = info\n",
    "                    \n",
    "    return naming_conventions\n",
    "\n",
    "def get_file_name(root, parent_folder, **kwargs):\n",
    "    return os.path.relpath(root, parent_folder)\n",
    "\n",
    "def count_file_naming_conventions(parent_folder):\n",
    "    return aggregate_file_info(parent_folder, get_file_name)"
   ]
  },
  {
   "attachments": {},
   "cell_type": "markdown",
   "metadata": {},
   "source": [
    "## How to extract the sampling rate"
   ]
  },
  {
   "cell_type": "code",
   "execution_count": null,
   "metadata": {},
   "outputs": [],
   "source": [
    "spikes_matfile_path = file_path\n",
    "import scipy \n",
    "import hdf5storage\n",
    "\n",
    "try:\n",
    "    spikes_mat = scipy.io.loadmat(file_name=str(spikes_matfile_path))\n",
    "    read_spikes_info_with_scipy = True\n",
    "except NotImplementedError:\n",
    "    spikes_mat = hdf5storage.loadmat(file_name=str(spikes_matfile_path))\n",
    "    read_spikes_info_with_scipy = False\n",
    "cell_info = spikes_mat.get(\"spikes\", np.empty(0))\n",
    "cell_info_fields = cell_info.dtype.names\n",
    "\n",
    "sampling_rate = float(cell_info[\"sr\"][0][0][0][0])"
   ]
  },
  {
   "attachments": {},
   "cell_type": "markdown",
   "metadata": {},
   "source": [
    "### Organize Project Structure by File Types"
   ]
  },
  {
   "cell_type": "code",
   "execution_count": null,
   "metadata": {},
   "outputs": [],
   "source": [
    "structure = count_file_naming_conventions(project_root)\n",
    "with open(project_json_directory / 'structure.json', 'w') as f:\n",
    "    f.write(json.dumps(structure, indent=4))"
   ]
  },
  {
   "attachments": {},
   "cell_type": "markdown",
   "metadata": {},
   "source": [
    "### Check for Missing File Types"
   ]
  },
  {
   "cell_type": "code",
   "execution_count": null,
   "metadata": {},
   "outputs": [],
   "source": [
    "def add_unique_entries(arr1, arr2):\n",
    "    for item in arr1:\n",
    "        if item not in arr2:\n",
    "            arr2.append(item)\n",
    "\n",
    "def filter_list(original_list, filter_list):\n",
    "    return [value for value in original_list if value not in filter_list]\n",
    "\n",
    "def check_missing_files(dictionary):\n",
    "    lengths = {}\n",
    "    files = []\n",
    "    for key, value in dictionary.items():\n",
    "        lengths[key] = len(value)\n",
    "        add_unique_entries(value, files)\n",
    "    \n",
    "    missing = dict()\n",
    "    for filetype, length in lengths.items():\n",
    "        if (len(files) != length):\n",
    "            original_list = dictionary[filetype]\n",
    "            missing[filetype] = filter_list(files, original_list)\n",
    "\n",
    "    if len(missing.values()):\n",
    "        print('This dataset has some missing files')\n",
    "        \n",
    "    return missing"
   ]
  },
  {
   "cell_type": "code",
   "execution_count": null,
   "metadata": {},
   "outputs": [],
   "source": [
    "missing = check_missing_files(structure)\n",
    "with open(project_json_directory / 'missing_files.json', 'w') as f:\n",
    "    f.write(json.dumps(missing, indent=4))"
   ]
  },
  {
   "attachments": {},
   "cell_type": "markdown",
   "metadata": {},
   "source": [
    "### Aggregate Data from Files"
   ]
  },
  {
   "cell_type": "code",
   "execution_count": null,
   "metadata": {},
   "outputs": [],
   "source": [
    "def get_file_data(file, root, **kwargs):\n",
    "    filename, ext = os.path.splitext(file_path)\n",
    "    if (ext == '.mat'):\n",
    "        try:\n",
    "            mat_file = loadmat_scipy(Path(root, file), simplify_cells=True)\n",
    "            return build_keys_and_types(mat_file)\n",
    "        except: \n",
    "            print(f'{file} is not readable by loadmat_scipy')\n",
    "\n",
    "    else:\n",
    "        print(f'Cannot handle {file} file type')\n",
    "        \n",
    "    return {}\n",
    "        \n",
    "def aggregate_data(parent_folder):\n",
    "    return aggregate_file_info(parent_folder, get_file_data, {})"
   ]
  },
  {
   "attachments": {},
   "cell_type": "markdown",
   "metadata": {},
   "source": [
    "#### Register all the data associated with a project"
   ]
  },
  {
   "cell_type": "code",
   "execution_count": null,
   "metadata": {},
   "outputs": [],
   "source": [
    "data = aggregate_data(project_root)\n",
    "with open(project_json_directory / 'data.json', 'w') as f:\n",
    "    f.write(json.dumps(data, indent=4))"
   ]
  },
  {
   "attachments": {},
   "cell_type": "markdown",
   "metadata": {},
   "source": [
    "#### Use the saved data to compare across sessions"
   ]
  },
  {
   "cell_type": "code",
   "execution_count": null,
   "metadata": {},
   "outputs": [],
   "source": [
    "with open(project_json_directory / 'data.json') as user_file:\n",
    "  file_contents = user_file.read()\n",
    "  \n",
    "project_data_json = json.loads(file_contents)\n"
   ]
  },
  {
   "cell_type": "code",
   "execution_count": null,
   "metadata": {},
   "outputs": [],
   "source": [
    "def check_consistency(data, user_check_function, base = ''):\n",
    "    expected_props = set()\n",
    "    inconsistencies = {}\n",
    "\n",
    "    # Loop through objects to discover expected properties\n",
    "    for k, obj in data.items():\n",
    "        props = set(obj.keys())\n",
    "        expected_props = expected_props.union(props)\n",
    "\n",
    "    # Check objects for inconsistencies\n",
    "    registered_nested_properties = set()\n",
    "    for file, obj in data.items():\n",
    "\n",
    "        inconsistent_props = user_check_function(obj, expected_props, base)\n",
    "        if (inconsistent_props and len(inconsistent_props)):\n",
    "            inconsistencies[file] = { f'{base}.{key}': message for key, message in inconsistent_props.items() }\n",
    "            # inconsistencies[file] = [ f'{base}.{key}' if base else key for key, message in inconsistent_props.items() ]\n",
    "\n",
    "        else:\n",
    "            for key in obj.keys():\n",
    "                if isinstance(obj[key], dict):\n",
    "                    registered_nested_properties.add(key)\n",
    "\n",
    "    if (len(registered_nested_properties)):\n",
    "        properties = {}\n",
    "        for key in registered_nested_properties:\n",
    "            nested_property_object = { file: obj[key] for file, obj in data.items() if obj.get(key) }\n",
    "            nested_inconsistencies = check_consistency(nested_property_object, user_check_function, f'{base}.{key}' if base else key)\n",
    "\n",
    "            if (len(nested_inconsistencies)):\n",
    "                properties[key] = nested_inconsistencies\n",
    "\n",
    "        if (len(properties)): \n",
    "            \n",
    "            for key, value in properties.items():\n",
    "                for file, item in value.items():\n",
    "                    if (file not in inconsistencies):\n",
    "                        inconsistencies[file] = {}\n",
    "\n",
    "                    inconsistencies[file].update(item) #f'{base}.{item_string}' if base else item_string)\n",
    "\n",
    "    return inconsistencies\n",
    "\n",
    "\n",
    "\n",
    "def check_missing_props(parent, expected_props, base):\n",
    "        # Check if any properties are missing or have inconsistent values\n",
    "        props = set(parent.keys())\n",
    "        \n",
    "        if props != expected_props:\n",
    "            missing_props = expected_props - props\n",
    "\n",
    "            if missing_props:\n",
    "                return { key: 'Missing' for key in missing_props }\n",
    "\n",
    "\n",
    "# inconsistencies = { key: check_consistency(data, check_missing_props) for key, data in project_data_json.items() }\n",
    "\n",
    "first_key = next(iter(project_data_json))\n",
    "print(project_data_json[first_key].keys())\n",
    "inconsistencies = { key: check_consistency(project_data_json[first_key], check_missing_props) for key, data in project_data_json.items() }\n",
    "\n",
    "with open(project_json_directory / 'data_inconsistencies.json', 'w') as f:\n",
    "    f.write(json.dumps( \n",
    "        { key: data for key, data in inconsistencies.items() if len(data) } , indent=4))\n",
    "    "
   ]
  }
 ],
 "metadata": {
  "kernelspec": {
   "display_name": "Python 3 (ipykernel)",
   "language": "python",
   "name": "python3"
  },
  "language_info": {
   "codemirror_mode": {
    "name": "ipython",
    "version": 3
   },
   "file_extension": ".py",
   "mimetype": "text/x-python",
   "name": "python",
   "nbconvert_exporter": "python",
   "pygments_lexer": "ipython3",
   "version": "3.11.3"
  }
 },
 "nbformat": 4,
 "nbformat_minor": 4
}
